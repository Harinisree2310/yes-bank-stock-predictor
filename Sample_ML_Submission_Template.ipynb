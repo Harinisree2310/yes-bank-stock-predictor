{
  "nbformat": 4,
  "nbformat_minor": 0,
  "metadata": {
    "colab": {
      "provenance": [],
      "collapsed_sections": [
        "vncDsAP0Gaoa",
        "FJNUwmbgGyua",
        "w6K7xa23Elo4",
        "yQaldy8SH6Dl",
        "mDgbUHAGgjLW",
        "O_i_v8NEhb9l",
        "HhfV-JJviCcP",
        "Y3lxredqlCYt",
        "3RnN4peoiCZX",
        "x71ZqKXriCWQ",
        "7hBIi_osiCS2",
        "JlHwYmJAmNHm",
        "35m5QtbWiB9F",
        "PoPl-ycgm1ru",
        "H0kj-8xxnORC",
        "nA9Y7ga8ng1Z",
        "PBTbrJXOngz2",
        "u3PMJOP6ngxN",
        "dauF4eBmngu3",
        "bKJF3rekwFvQ",
        "MSa1f5Uengrz",
        "GF8Ens_Soomf",
        "0wOQAZs5pc--",
        "K5QZ13OEpz2H",
        "lQ7QKXXCp7Bj",
        "448CDAPjqfQr",
        "KSlN3yHqYklG",
        "t6dVpIINYklI",
        "ijmpgYnKYklI",
        "-JiQyfWJYklI",
        "EM7whBJCYoAo",
        "fge-S5ZAYoAp",
        "85gYPyotYoAp",
        "RoGjAbkUYoAp",
        "4Of9eVA-YrdM",
        "iky9q4vBYrdO",
        "F6T5p64dYrdO",
        "y-Ehk30pYrdP",
        "bamQiAODYuh1",
        "QHF8YVU7Yuh3",
        "GwzvFGzlYuh3",
        "qYpmQ266Yuh3",
        "OH-pJp9IphqM",
        "bbFf2-_FphqN",
        "_ouA3fa0phqN",
        "Seke61FWphqN",
        "PIIx-8_IphqN",
        "t27r6nlMphqO",
        "r2jJGEOYphqO",
        "b0JNsNcRphqO",
        "BZR9WyysphqO",
        "jj7wYXLtphqO",
        "eZrbJ2SmphqO",
        "rFu4xreNphqO",
        "YJ55k-q6phqO",
        "gCFgpxoyphqP",
        "OVtJsKN_phqQ",
        "lssrdh5qphqQ",
        "U2RJ9gkRphqQ",
        "1M8mcRywphqQ",
        "tgIPom80phqQ",
        "JMzcOPDDphqR",
        "x-EpHcCOp1ci",
        "X_VqEhTip1ck",
        "8zGJKyg5p1ck",
        "PVzmfK_Ep1ck",
        "n3dbpmDWp1ck",
        "ylSl6qgtp1ck",
        "ZWILFDl5p1ck",
        "M7G43BXep1ck",
        "Ag9LCva-p1cl",
        "E6MkPsBcp1cl",
        "2cELzS2fp1cl",
        "3MPXvC8up1cl",
        "NC_X3p0fY2L0",
        "UV0SzAkaZNRQ",
        "YPEH6qLeZNRQ",
        "q29F0dvdveiT",
        "EXh0U9oCveiU",
        "22aHeOlLveiV",
        "g-ATYxFrGrvw",
        "Yfr_Vlr8HBkt",
        "8yEUt7NnHlrM",
        "tEA2Xm5dHt1r",
        "I79__PHVH19G",
        "Ou-I18pAyIpj",
        "fF3858GYyt-u",
        "4_0_7-oCpUZd",
        "hwyV_J3ipUZe",
        "3yB-zSqbpUZe",
        "dEUvejAfpUZe",
        "Fd15vwWVpUZf",
        "bn_IUdTipZyH",
        "49K5P_iCpZyH",
        "Nff-vKELpZyI",
        "kLW572S8pZyI",
        "dWbDXHzopZyI",
        "yLjJCtPM0KBk",
        "xiyOF9F70UgQ",
        "7wuGOrhz0itI",
        "id1riN9m0vUs",
        "578E2V7j08f6",
        "89xtkJwZ18nB",
        "67NQN5KX2AMe",
        "Iwf50b-R2tYG",
        "GMQiZwjn3iu7",
        "WVIkgGqN3qsr",
        "XkPnILGE3zoT",
        "Hlsf0x5436Go",
        "mT9DMSJo4nBL",
        "c49ITxTc407N",
        "OeJFEK0N496M",
        "9ExmJH0g5HBk",
        "cJNqERVU536h",
        "k5UmGsbsOxih",
        "T0VqWOYE6DLQ",
        "qBMux9mC6MCf",
        "-oLEiFgy-5Pf",
        "C74aWNz2AliB",
        "2DejudWSA-a0",
        "pEMng2IbBLp7",
        "rAdphbQ9Bhjc",
        "TNVZ9zx19K6k",
        "nqoHp30x9hH9",
        "rMDnDkt2B6du",
        "yiiVWRdJDDil",
        "1UUpS68QDMuG",
        "kexQrXU-DjzY",
        "T5CmagL3EC8N",
        "BhH2vgX9EjGr",
        "qjKvONjwE8ra",
        "P1XJ9OREExlT",
        "VFOzZv6IFROw",
        "TIqpNgepFxVj",
        "VfCC591jGiD4",
        "OB4l2ZhMeS1U",
        "ArJBuiUVfxKd",
        "4qY1EAkEfxKe",
        "PiV4Ypx8fxKe",
        "TfvqoZmBfxKf",
        "dJ2tPlVmpsJ0",
        "JWYfwnehpsJ1",
        "-jK_YjpMpsJ2",
        "HAih1iBOpsJ2",
        "zVGeBEFhpsJ2",
        "bmKjuQ-FpsJ3",
        "Fze-IPXLpx6K",
        "7AN1z2sKpx6M",
        "9PIHJqyupx6M",
        "_-qAgymDpx6N",
        "Z-hykwinpx6N",
        "h_CCil-SKHpo",
        "cBFFvTBNJzUa",
        "HvGl1hHyA_VK",
        "EyNgTHvd2WFk",
        "KH5McJBi2d8v",
        "iW_Lq9qf2h6X",
        "-Kee-DAl2viO",
        "gCX9965dhzqZ",
        "gIfDvo9L0UH2"
      ],
      "include_colab_link": true
    },
    "kernelspec": {
      "name": "python3",
      "display_name": "Python 3"
    },
    "language_info": {
      "name": "python"
    }
  },
  "cells": [
    {
      "cell_type": "markdown",
      "metadata": {
        "id": "view-in-github",
        "colab_type": "text"
      },
      "source": [
        "<a href=\"https://colab.research.google.com/github/Harinisree2310/yes-bank-stock-predictor/blob/main/Sample_ML_Submission_Template.ipynb\" target=\"_parent\"><img src=\"https://colab.research.google.com/assets/colab-badge.svg\" alt=\"Open In Colab\"/></a>"
      ]
    },
    {
      "cell_type": "markdown",
      "source": [
        "# **Project Name**    -\n",
        "\n"
      ],
      "metadata": {
        "id": "vncDsAP0Gaoa"
      }
    },
    {
      "cell_type": "markdown",
      "source": [
        "##### **Project Type**    - EDA/Regression/Classification/Unsupervised\n",
        "##### **Contribution**    - Individual/Team\n",
        "##### **Team Member 1 -** S.Harinisree\n",
        "##### **Team Member 2 -**\n",
        "##### **Team Member 3 -**\n",
        "##### **Team Member 4 -**"
      ],
      "metadata": {
        "id": "beRrZCGUAJYm"
      }
    },
    {
      "cell_type": "markdown",
      "source": [
        "# **Project Summary -**"
      ],
      "metadata": {
        "id": "FJNUwmbgGyua"
      }
    },
    {
      "cell_type": "markdown",
      "source": [
        "In the era of data-driven decision making, accurate forecasting of stock prices has become both a challenge and a necessity. This project presents a machine learning-based solution to predict the closing price of Yes Bank stock, using a combination of structured numerical data (such as Open, High, Low prices) and unstructured textual data (Remarks/comments). By integrating multiple preprocessing steps, advanced feature engineering, and optimized machine learning models, we deliver a predictive tool that can support investors and analysts in making informed decisions.\n",
        "\n",
        "The dataset consisted of historical stock data for Yes Bank, including features such as Date, Open, High, Low, Close, and a column titled “Remarks” which included sentiment or contextual commentary about the stock on a given date. Our first step was data cleaning and preprocessing. We handled missing values using forward-fill techniques and identified outliers in numerical columns, which were treated using statistical capping to avoid their undue influence on the model.\n",
        "\n",
        "Since the \"Remarks\" column contained unstructured text, we applied TF-IDF (Term Frequency-Inverse Document Frequency) to convert it into a numerical format. However, the vectorized TF-IDF data introduced high dimensionality. To handle this, we used Principal Component Analysis (PCA), a dimensionality reduction technique, which allowed us to retain 95% of the variance while reducing the number of features. This helped to prevent overfitting and reduce training time without losing valuable textual context.\n",
        "\n",
        "For modeling, we began with three machine learning algorithms: Linear Regression, Random Forest Regressor, and XGBoost Regressor. The models were trained using an 80/20 time-based train-test split to preserve the temporal nature of stock market data. Each model's performance was evaluated using key metrics such as Mean Squared Error (MSE) and R² Score. Hyperparameter tuning was performed using GridSearchCV, which allowed for systematic and exhaustive exploration of the model's parameter space. Among the three, XGBoost demonstrated the best performance, with the lowest MSE and highest R² Score, making it our final model of choice.\n",
        "\n",
        "To make the model accessible and usable in real-world scenarios, we built a Flask web application. This app allows users to input the stock's Open, High, and Low prices for a specific day, and returns the predicted Close price. The trained XGBoost model and the scaler used for standardizing the input were saved using Pickle, and integrated into the Flask backend. The interface is simple and intuitive, making it usable for both technical and non-technical users.\n",
        "\n",
        "This project showcases the effective use of machine learning, NLP (natural language processing), and deployment tools to build a practical stock prediction system. From a business perspective, this tool can help retail investors, trading platforms, and financial analysts anticipate market trends and make better investment decisions. Although this model was built specifically for Yes Bank, the framework is generalizable and can be adapted to other stocks or financial instruments with similar data.\n",
        "\n",
        "In conclusion, this project not only demonstrates a technically sound approach to stock price prediction but also emphasizes the importance of end-to-end ML pipelines — from data wrangling and modeling to deployment — in delivering real-world AI solutions."
      ],
      "metadata": {
        "id": "F6v_1wHtG2nS"
      }
    },
    {
      "cell_type": "markdown",
      "source": [
        "# **GitHub Link -**"
      ],
      "metadata": {
        "id": "w6K7xa23Elo4"
      }
    },
    {
      "cell_type": "markdown",
      "source": [
        "Provide your GitHub Link here."
      ],
      "metadata": {
        "id": "h1o69JH3Eqqn"
      }
    },
    {
      "cell_type": "markdown",
      "source": [
        "# **Problem Statement**\n"
      ],
      "metadata": {
        "id": "yQaldy8SH6Dl"
      }
    },
    {
      "cell_type": "markdown",
      "source": [
        "Stock market prediction is a challenging task due to its highly volatile and non-linear nature, influenced by numerous financial, economic, and emotional factors. This project focuses on building a machine learning model to predict the closing price of Yes Bank stock, using both structured (numerical stock data) and unstructured (text remarks) features. The objective is to extract meaningful patterns from historical data using techniques like TF-IDF and PCA, and build an accurate predictive model using algorithms such as XGBoost. The end goal is to provide a tool that enables investors or analysts to make more informed decisions, supported by a deployable web-based interface."
      ],
      "metadata": {
        "id": "DpeJGUA3kjGy"
      }
    },
    {
      "cell_type": "markdown",
      "source": [
        "# **General Guidelines** : -  "
      ],
      "metadata": {
        "id": "mDgbUHAGgjLW"
      }
    },
    {
      "cell_type": "markdown",
      "source": [
        "1.   Well-structured, formatted, and commented code is required.\n",
        "2.   Exception Handling, Production Grade Code & Deployment Ready Code will be a plus. Those students will be awarded some additional credits.\n",
        "     \n",
        "     The additional credits will have advantages over other students during Star Student selection.\n",
        "       \n",
        "             [ Note: - Deployment Ready Code is defined as, the whole .ipynb notebook should be executable in one go\n",
        "                       without a single error logged. ]\n",
        "\n",
        "3.   Each and every logic should have proper comments.\n",
        "4. You may add as many number of charts you want. Make Sure for each and every chart the following format should be answered.\n",
        "        \n",
        "\n",
        "```\n",
        "# Chart visualization code\n",
        "```\n",
        "            \n",
        "\n",
        "*   Why did you pick the specific chart?\n",
        "*   What is/are the insight(s) found from the chart?\n",
        "* Will the gained insights help creating a positive business impact?\n",
        "Are there any insights that lead to negative growth? Justify with specific reason.\n",
        "\n",
        "5. You have to create at least 15 logical & meaningful charts having important insights.\n",
        "\n",
        "\n",
        "[ Hints : - Do the Vizualization in  a structured way while following \"UBM\" Rule.\n",
        "\n",
        "U - Univariate Analysis,\n",
        "\n",
        "B - Bivariate Analysis (Numerical - Categorical, Numerical - Numerical, Categorical - Categorical)\n",
        "\n",
        "M - Multivariate Analysis\n",
        " ]\n",
        "\n",
        "\n",
        "\n",
        "\n",
        "\n",
        "6. You may add more ml algorithms for model creation. Make sure for each and every algorithm, the following format should be answered.\n",
        "\n",
        "\n",
        "*   Explain the ML Model used and it's performance using Evaluation metric Score Chart.\n",
        "\n",
        "\n",
        "*   Cross- Validation & Hyperparameter Tuning\n",
        "\n",
        "*   Have you seen any improvement? Note down the improvement with updates Evaluation metric Score Chart.\n",
        "\n",
        "*   Explain each evaluation metric's indication towards business and the business impact pf the ML model used.\n",
        "\n",
        "\n",
        "\n",
        "\n",
        "\n",
        "\n",
        "\n",
        "\n",
        "\n",
        "\n",
        "\n",
        "\n",
        "\n",
        "\n",
        "\n",
        "\n",
        "\n",
        "\n"
      ],
      "metadata": {
        "id": "ZrxVaUj-hHfC"
      }
    },
    {
      "cell_type": "markdown",
      "source": [
        "# ***Let's Begin !***"
      ],
      "metadata": {
        "id": "O_i_v8NEhb9l"
      }
    },
    {
      "cell_type": "markdown",
      "source": [
        "## ***1. Know Your Data***"
      ],
      "metadata": {
        "id": "HhfV-JJviCcP"
      }
    },
    {
      "cell_type": "markdown",
      "source": [
        "### Import Libraries"
      ],
      "metadata": {
        "id": "Y3lxredqlCYt"
      }
    },
    {
      "cell_type": "code",
      "source": [
        "# Import Libraries\n",
        "import numpy as np               # Numerical computing (arrays, math operations)\n",
        "import pandas as pd              # Data manipulation (DataFrames, CSV handling)\n",
        "import matplotlib.pyplot as plt  # Basic plotting (line charts, histograms)\n",
        "import seaborn as sns            # Enhanced visualizations (heatmaps, pair plots)"
      ],
      "metadata": {
        "id": "M8Vqi-pPk-HR"
      },
      "execution_count": null,
      "outputs": []
    },
    {
      "cell_type": "code",
      "source": [],
      "metadata": {
        "id": "Ai_EhxhpLl5d"
      },
      "execution_count": null,
      "outputs": []
    },
    {
      "cell_type": "markdown",
      "source": [
        "### Dataset Loading"
      ],
      "metadata": {
        "id": "3RnN4peoiCZX"
      }
    },
    {
      "cell_type": "code",
      "source": [
        "# Load Dataset (using exception handling)\n",
        "file_url = 'https://drive.google.com/uc?export=download&id=1SvKqJRs6mT6V31op761T5kV1j6tAbXAR'\n",
        "try:\n",
        "    stock_data = pd.read_csv(file_url)\n",
        "    print(\"Data loaded successfully!\")\n",
        "    print(stock_data.head())\n",
        "except Exception as e:\n",
        "    print(f\"Error loading data: {e}\")\n"
      ],
      "metadata": {
        "id": "4CkvbW_SlZ_R",
        "colab": {
          "base_uri": "https://localhost:8080/"
        },
        "outputId": "d576782c-1a7f-419f-dda0-af0d62e11d92"
      },
      "execution_count": null,
      "outputs": [
        {
          "output_type": "stream",
          "name": "stdout",
          "text": [
            "Data loaded successfully!\n",
            "     Date   Open   High    Low  Close\n",
            "0  Jul-05  13.00  14.00  11.25  12.46\n",
            "1  Aug-05  12.58  14.88  12.55  13.42\n",
            "2  Sep-05  13.48  14.87  12.27  13.30\n",
            "3  Oct-05  13.20  14.47  12.40  12.99\n",
            "4  Nov-05  13.35  13.88  12.88  13.41\n"
          ]
        }
      ]
    },
    {
      "cell_type": "markdown",
      "source": [
        "### Dataset First View"
      ],
      "metadata": {
        "id": "x71ZqKXriCWQ"
      }
    },
    {
      "cell_type": "code",
      "source": [
        "# Dataset First Look\n",
        "print(\"\\nHead:\\n\", stock_data.head()) #displaying first five rows(default)\n",
        "print(\"\\nTail:\\n\", stock_data.tail()) #displaying last five rows(default)"
      ],
      "metadata": {
        "id": "LWNFOSvLl09H",
        "colab": {
          "base_uri": "https://localhost:8080/"
        },
        "outputId": "d696d163-3ffa-49f4-cd48-3027d9f5e305"
      },
      "execution_count": null,
      "outputs": [
        {
          "output_type": "stream",
          "name": "stdout",
          "text": [
            "\n",
            "Head:\n",
            "      Date   Open   High    Low  Close\n",
            "0  Jul-05  13.00  14.00  11.25  12.46\n",
            "1  Aug-05  12.58  14.88  12.55  13.42\n",
            "2  Sep-05  13.48  14.87  12.27  13.30\n",
            "3  Oct-05  13.20  14.47  12.40  12.99\n",
            "4  Nov-05  13.35  13.88  12.88  13.41\n",
            "\n",
            "Tail:\n",
            "        Date   Open   High    Low  Close\n",
            "180  Jul-20  25.60  28.30  11.10  11.95\n",
            "181  Aug-20  12.00  17.16  11.85  14.37\n",
            "182  Sep-20  14.30  15.34  12.75  13.15\n",
            "183  Oct-20  13.30  14.01  12.11  12.42\n",
            "184  Nov-20  12.41  14.90  12.21  14.67\n"
          ]
        }
      ]
    },
    {
      "cell_type": "markdown",
      "source": [
        "### Dataset Rows & Columns count"
      ],
      "metadata": {
        "id": "7hBIi_osiCS2"
      }
    },
    {
      "cell_type": "code",
      "source": [
        "# Dataset Rows & Columns count\n",
        "# using len()\n",
        "print(f\"\\nRows: {len(stock_data)}\")  # Counts rows only\n",
        "print(f\"Columns: {len(stock_data.columns)}\")  # Counts columns only\n",
        "# using .shape\n",
        "print(\"\\nDataset shape:\", stock_data.shape)  # Returns (rows, columns)\n"
      ],
      "metadata": {
        "id": "Kllu7SJgmLij",
        "colab": {
          "base_uri": "https://localhost:8080/"
        },
        "outputId": "5a208b79-39e8-4199-808b-429346f01dec"
      },
      "execution_count": null,
      "outputs": [
        {
          "output_type": "stream",
          "name": "stdout",
          "text": [
            "\n",
            "Rows: 185\n",
            "Columns: 5\n",
            "\n",
            "Dataset shape: (185, 5)\n"
          ]
        }
      ]
    },
    {
      "cell_type": "markdown",
      "source": [
        "### Dataset Information"
      ],
      "metadata": {
        "id": "JlHwYmJAmNHm"
      }
    },
    {
      "cell_type": "code",
      "source": [
        "# Dataset Info\n",
        "stock_data.info()"
      ],
      "metadata": {
        "id": "e9hRXRi6meOf",
        "colab": {
          "base_uri": "https://localhost:8080/"
        },
        "outputId": "2d6348b9-d72e-4975-d4aa-947560a6fe7f"
      },
      "execution_count": null,
      "outputs": [
        {
          "output_type": "stream",
          "name": "stdout",
          "text": [
            "<class 'pandas.core.frame.DataFrame'>\n",
            "RangeIndex: 185 entries, 0 to 184\n",
            "Data columns (total 5 columns):\n",
            " #   Column  Non-Null Count  Dtype  \n",
            "---  ------  --------------  -----  \n",
            " 0   Date    185 non-null    object \n",
            " 1   Open    185 non-null    float64\n",
            " 2   High    185 non-null    float64\n",
            " 3   Low     185 non-null    float64\n",
            " 4   Close   185 non-null    float64\n",
            "dtypes: float64(4), object(1)\n",
            "memory usage: 7.4+ KB\n"
          ]
        }
      ]
    },
    {
      "cell_type": "markdown",
      "source": [
        "#### Duplicate Values"
      ],
      "metadata": {
        "id": "35m5QtbWiB9F"
      }
    },
    {
      "cell_type": "code",
      "source": [
        "# Dataset Duplicate Value Count\n",
        "# for duplicate rows\n",
        "duplicate_count = stock_data.duplicated().sum()\n",
        "print(f\"Total duplicate rows: {duplicate_count}\")\n",
        "\n",
        "# for duplicate dates\n",
        "if 'Date' in stock_data.columns:\n",
        "    date_duplicates = stock_data.duplicated(subset=['Date']).sum()\n",
        "    print(f\"Duplicate dates found: {date_duplicates}\")"
      ],
      "metadata": {
        "id": "1sLdpKYkmox0",
        "colab": {
          "base_uri": "https://localhost:8080/"
        },
        "outputId": "7e520fe9-8cf8-4aff-aeaa-4429077b3fd7"
      },
      "execution_count": null,
      "outputs": [
        {
          "output_type": "stream",
          "name": "stdout",
          "text": [
            "Total duplicate rows: 0\n",
            "Duplicate dates found: 0\n"
          ]
        }
      ]
    },
    {
      "cell_type": "markdown",
      "source": [
        "#### Missing Values/Null Values"
      ],
      "metadata": {
        "id": "PoPl-ycgm1ru"
      }
    },
    {
      "cell_type": "code",
      "source": [
        "# Missing Values/Null Values Count\n",
        "# missing values per column(count)\n",
        "null_counts = stock_data.isnull().sum()\n",
        "\n",
        "# displaying\n",
        "print(\"Missing Values Per Column:\")\n",
        "print(null_counts)\n",
        "\n",
        "# percentage view\n",
        "print(\"\\nPercentage Missing:\")\n",
        "print(round((null_counts / len(stock_data)) * 100, 1))"
      ],
      "metadata": {
        "id": "GgHWkxvamxVg",
        "colab": {
          "base_uri": "https://localhost:8080/"
        },
        "outputId": "ab19c00e-8469-4b11-b449-df8a95e00420"
      },
      "execution_count": null,
      "outputs": [
        {
          "output_type": "stream",
          "name": "stdout",
          "text": [
            "Missing Values Per Column:\n",
            "Date     0\n",
            "Open     0\n",
            "High     0\n",
            "Low      0\n",
            "Close    0\n",
            "dtype: int64\n",
            "\n",
            "Percentage Missing:\n",
            "Date     0.0\n",
            "Open     0.0\n",
            "High     0.0\n",
            "Low      0.0\n",
            "Close    0.0\n",
            "dtype: float64\n"
          ]
        }
      ]
    },
    {
      "cell_type": "code",
      "source": [
        "# Visualizing the missing values\n",
        "#using seamap\n",
        "sns.heatmap(stock_data.isnull(), cbar=False, cmap='viridis')\n",
        "plt.title(\"Missing Values Visualization\")\n",
        "plt.show()"
      ],
      "metadata": {
        "id": "3q5wnI3om9sJ",
        "colab": {
          "base_uri": "https://localhost:8080/",
          "height": 457
        },
        "outputId": "eaeb4234-9a8a-4ade-a2f9-b84e29a94f4a"
      },
      "execution_count": null,
      "outputs": [
        {
          "output_type": "display_data",
          "data": {
            "text/plain": [
              "<Figure size 640x480 with 1 Axes>"
            ],
            "image/png": "[encoded data removed]"
          },
          "metadata": {}
        }
      ]
    },
    {
      "cell_type": "markdown",
      "source": [
        "### What did you know about your dataset?"
      ],
      "metadata": {
        "id": "H0kj-8xxnORC"
      }
    },
    {
      "cell_type": "markdown",
      "source": [
        "The dataset has 185 rows and 5 columns with no missing and duplicate values. The five columns include Date, Open, High, Low, Close. The data spans from July-05 to November-20."
      ],
      "metadata": {
        "id": "gfoNAAC-nUe_"
      }
    },
    {
      "cell_type": "markdown",
      "source": [
        "## ***2. Understanding Your Variables***"
      ],
      "metadata": {
        "id": "nA9Y7ga8ng1Z"
      }
    },
    {
      "cell_type": "code",
      "source": [
        "# Dataset Columns\n",
        "print(f\"Columns: {', '.join(stock_data.columns)}\")"
      ],
      "metadata": {
        "id": "j7xfkqrt5Ag5",
        "colab": {
          "base_uri": "https://localhost:8080/"
        },
        "outputId": "c40ce341-097f-4b05-a104-545785ee598d"
      },
      "execution_count": null,
      "outputs": [
        {
          "output_type": "stream",
          "name": "stdout",
          "text": [
            "Columns: Date, Open, High, Low, Close\n"
          ]
        }
      ]
    },
    {
      "cell_type": "code",
      "source": [
        "# Dataset Describe\n",
        "\n",
        "summary = stock_data.describe().round(2)\n",
        "#displaying\n",
        "print(\"Statistical Description:\")\n",
        "print(summary)\n"
      ],
      "metadata": {
        "id": "DnOaZdaE5Q5t",
        "colab": {
          "base_uri": "https://localhost:8080/"
        },
        "outputId": "31410eb4-7576-43f1-84bf-217493152dec"
      },
      "execution_count": null,
      "outputs": [
        {
          "output_type": "stream",
          "name": "stdout",
          "text": [
            "Statistical Description:\n",
            "         Open    High     Low   Close\n",
            "count  185.00  185.00  185.00  185.00\n",
            "mean   105.54  116.10   94.95  105.20\n",
            "std     98.88  106.33   91.22   98.58\n",
            "min     10.00   11.24    5.55    9.98\n",
            "25%     33.80   36.14   28.51   33.45\n",
            "50%     62.98   72.55   58.00   62.54\n",
            "75%    153.00  169.19  138.35  153.30\n",
            "max    369.95  404.00  345.50  367.90\n"
          ]
        }
      ]
    },
    {
      "cell_type": "markdown",
      "source": [
        "### Variables Description"
      ],
      "metadata": {
        "id": "PBTbrJXOngz2"
      }
    },
    {
      "cell_type": "markdown",
      "source": [
        "There are five variables-Date, Open, High, Low, Close. The datatypes are Object, float64, float64, float64, float64 respectively."
      ],
      "metadata": {
        "id": "aJV4KIxSnxay"
      }
    },
    {
      "cell_type": "markdown",
      "source": [
        "### Check Unique Values for each variable."
      ],
      "metadata": {
        "id": "u3PMJOP6ngxN"
      }
    },
    {
      "cell_type": "code",
      "source": [
        "# Check Unique Values for each variable.\n",
        "print(\"\\nUnique Values Analysis:\")\n",
        "for column in stock_data.columns:\n",
        "    unique_count = stock_data[column].nunique()\n",
        "    print(f\"{column}\")\n",
        "    print(f\"Unique values: {unique_count} / {len(stock_data)} ({unique_count/len(stock_data)*100:.1f}%)\")"
      ],
      "metadata": {
        "id": "zms12Yq5n-jE",
        "colab": {
          "base_uri": "https://localhost:8080/"
        },
        "outputId": "295e82d5-bb60-40b6-8239-2f145ba3fff2"
      },
      "execution_count": null,
      "outputs": [
        {
          "output_type": "stream",
          "name": "stdout",
          "text": [
            "\n",
            "Unique Values Analysis:\n",
            "Date\n",
            "Unique values: 185 / 185 (100.0%)\n",
            "Open\n",
            "Unique values: 183 / 185 (98.9%)\n",
            "High\n",
            "Unique values: 184 / 185 (99.5%)\n",
            "Low\n",
            "Unique values: 183 / 185 (98.9%)\n",
            "Close\n",
            "Unique values: 185 / 185 (100.0%)\n"
          ]
        }
      ]
    },
    {
      "cell_type": "markdown",
      "source": [
        "## 3. ***Data Wrangling***"
      ],
      "metadata": {
        "id": "dauF4eBmngu3"
      }
    },
    {
      "cell_type": "markdown",
      "source": [
        "### Data Wrangling Code"
      ],
      "metadata": {
        "id": "bKJF3rekwFvQ"
      }
    },
    {
      "cell_type": "code",
      "source": [
        "# Write your code to make your dataset analysis\n",
        "#coverting \"Date\" to datetime as dtype is \"object\"\n",
        "\n",
        "\n",
        "stock_data['Date'] = pd.to_datetime(stock_data['Date'], format='%b-%y')\n",
        "#sorting by date\n",
        "stock_data = stock_data.sort_values('Date')\n",
        "\n",
        "#finding anomalies\n",
        "anomalies = stock_data[\n",
        "    (stock_data['Low'] > stock_data['High']) |\n",
        "    (stock_data['Low'] < 10) |\n",
        "    (stock_data['High'] > 400)\n",
        "]\n",
        "\n",
        "#replacing anomalies with NaN(Not a Number)\n",
        "stock_data.loc[anomalies.index, ['Open', 'High', 'Low', 'Close']] = np.nan\n",
        "\n",
        "#interpolating linearly by time order (since 'Date' is column)\n",
        "stock_data[['Open', 'High', 'Low', 'Close']] = stock_data[['Open', 'High', 'Low', 'Close']].interpolate(method='linear')\n",
        "\n",
        "#print\n",
        "print(\"\\nCorrected Anomalies:\")\n",
        "print(stock_data.loc[anomalies.index])\n",
        "\n",
        "#checking for missing values\n",
        "print(\"Missing values (before handling):\")\n",
        "print(stock_data.isnull().sum())"
      ],
      "metadata": {
        "id": "sHLZffIXtVxE",
        "colab": {
          "base_uri": "https://localhost:8080/"
        },
        "outputId": "ee3ceebc-b6e7-41db-a29b-2162ac0600cf"
      },
      "execution_count": null,
      "outputs": [
        {
          "output_type": "stream",
          "name": "stdout",
          "text": [
            "\n",
            "Corrected Anomalies:\n",
            "          Date     Open     High     Low    Close\n",
            "43  2009-02-01   15.445   20.965   12.30   15.460\n",
            "44  2009-03-01   15.610   23.590   13.12   18.680\n",
            "45  2009-04-01   15.775   26.215   13.94   21.900\n",
            "157 2018-08-01  343.600  371.675  249.30  275.675\n",
            "176 2020-03-01   30.700   35.575   26.95   31.250\n",
            "Missing values (before handling):\n",
            "Date     0\n",
            "Open     0\n",
            "High     0\n",
            "Low      0\n",
            "Close    0\n",
            "dtype: int64\n"
          ]
        }
      ]
    },
    {
      "cell_type": "markdown",
      "source": [
        "### What all manipulations have you done and insights you found?"
      ],
      "metadata": {
        "id": "MSa1f5Uengrz"
      }
    },
    {
      "cell_type": "markdown",
      "source": [
        "Converted the Date column which had 'Object' as dtype to datetime. Found anomalies and interpolated linearly by replacing the anomalies with NaN. Check for missing values."
      ],
      "metadata": {
        "id": "LbyXE7I1olp8"
      }
    },
    {
      "cell_type": "markdown",
      "source": [
        "## ***4. Data Vizualization, Storytelling & Experimenting with charts : Understand the relationships between variables***"
      ],
      "metadata": {
        "id": "GF8Ens_Soomf"
      }
    },
    {
      "cell_type": "markdown",
      "source": [
        "#### Chart - 1"
      ],
      "metadata": {
        "id": "0wOQAZs5pc--"
      }
    },
    {
      "cell_type": "code",
      "source": [
        "# Chart - 1 visualization code\n",
        "#line chart- stock prices over time\n",
        "plt.figure(figsize=(12, 6))\n",
        "plt.plot(stock_data['Date'], stock_data['Close'], label='Close Price', color='blue')\n",
        "plt.title('Close Price Over Time')\n",
        "plt.xlabel('Date')\n",
        "plt.ylabel('Price')\n",
        "plt.grid(True)\n",
        "plt.legend()\n",
        "plt.show()"
      ],
      "metadata": {
        "id": "7v_ESjsspbW7",
        "colab": {
          "base_uri": "https://localhost:8080/",
          "height": 573
        },
        "outputId": "0d72bd2e-6edb-4b87-add9-e26acebaa21d"
      },
      "execution_count": null,
      "outputs": [
        {
          "output_type": "display_data",
          "data": {
            "text/plain": [
              "<Figure size 1200x600 with 1 Axes>"
            ],
            "image/png": "[encoded data removed]"
          },
          "metadata": {}
        }
      ]
    },
    {
      "cell_type": "markdown",
      "source": [
        "##### 1. Why did you pick the specific chart?"
      ],
      "metadata": {
        "id": "K5QZ13OEpz2H"
      }
    },
    {
      "cell_type": "markdown",
      "source": [
        "\n",
        "\n",
        "\n",
        "1.   It is simple. intuitive and often first thing traders look at.\n",
        "2.   Closing price is most commonly used in trading analysis.\n",
        "3.   Shows long-term trend, growth or decline.\n",
        "\n",
        "\n",
        "\n"
      ],
      "metadata": {
        "id": "XESiWehPqBRc"
      }
    },
    {
      "cell_type": "markdown",
      "source": [
        "##### 2. What is/are the insight(s) found from the chart?"
      ],
      "metadata": {
        "id": "lQ7QKXXCp7Bj"
      }
    },
    {
      "cell_type": "markdown",
      "source": [
        "There was a significant drop around 2018–2020, possibly due to financial instability or market corrections.  \n",
        "Minimum Close Price: ₹11.95\n",
        "Maximum Close Price: ₹367.90\n",
        "\n"
      ],
      "metadata": {
        "id": "C_j1G7yiqdRP"
      }
    },
    {
      "cell_type": "markdown",
      "source": [
        "##### 3. Will the gained insights help creating a positive business impact?\n",
        "Are there any insights that lead to negative growth? Justify with specific reason."
      ],
      "metadata": {
        "id": "448CDAPjqfQr"
      }
    },
    {
      "cell_type": "markdown",
      "source": [
        "Yes, the gained insights will help creating a positive business impact.\n",
        "Crisis Identification and Learning.\n",
        "\n",
        "*Insight : The line chart shows a sharp drop in stock price between 2019 and 2020\n",
        "from over ₹300 to below ₹50.\n",
        "\n",
        "*Business Use: Identifies a critical failure point (Yes Bank's well-known financial crisis).\n",
        "\n",
        "Yes, there are two insights that lead to negative growth.\n",
        "1.2019-2020 Collapse\n",
        "\n",
        "*Insight: Stock price dropped from ₹300+ to ~₹50 within a year.\n",
        "\n",
        "*Interpretation: Indicates a loss of public and market trust.\n",
        "\n",
        "2.No long term value growth.\n",
        "\n",
        "*Insight: Price starts around ₹12 in 2005 and ends near ₹15 by 2021 — almost flat after 15+ years.\n",
        "\n",
        "*Interpretation: Despite temporary growth, the company failed to deliver lasting shareholder value.\n",
        "\n",
        "\n",
        "\n",
        "\n"
      ],
      "metadata": {
        "id": "3cspy4FjqxJW"
      }
    },
    {
      "cell_type": "markdown",
      "source": [
        "#### Chart - 2"
      ],
      "metadata": {
        "id": "KSlN3yHqYklG"
      }
    },
    {
      "cell_type": "code",
      "source": [
        "# Chart - 2 visualization code\n",
        "#histogram\n",
        "plt.figure(figsize=(10, 5))\n",
        "plt.hist(stock_data['Close'], bins=30, color='orange', edgecolor='black')\n",
        "plt.title('Distribution of Closing Prices')\n",
        "plt.xlabel('Close Price')\n",
        "plt.ylabel('Frequency')\n",
        "plt.grid(True)\n",
        "plt.show()"
      ],
      "metadata": {
        "id": "R4YgtaqtYklH",
        "colab": {
          "base_uri": "https://localhost:8080/",
          "height": 496
        },
        "outputId": "05b0a59b-d2c3-42c0-90a4-b055372567aa"
      },
      "execution_count": null,
      "outputs": [
        {
          "output_type": "display_data",
          "data": {
            "text/plain": [
              "<Figure size 1000x500 with 1 Axes>"
            ],
            "image/png": "[encoded data removed]"
          },
          "metadata": {}
        }
      ]
    },
    {
      "cell_type": "markdown",
      "source": [
        "##### 1. Why did you pick the specific chart?"
      ],
      "metadata": {
        "id": "t6dVpIINYklI"
      }
    },
    {
      "cell_type": "markdown",
      "source": [
        "1.  Shows how frequently each price level occurred.\n",
        "\n",
        "2.  Helps spot price clusters, common trading ranges, or rare events.\n",
        "\n",
        "3.  Useful in risk analysis and probability modeling."
      ],
      "metadata": {
        "id": "5aaW0BYyYklI"
      }
    },
    {
      "cell_type": "markdown",
      "source": [
        "##### 2. What is/are the insight(s) found from the chart?"
      ],
      "metadata": {
        "id": "ijmpgYnKYklI"
      }
    },
    {
      "cell_type": "markdown",
      "source": [
        "Most closing prices are concentrated in the ₹10–₹100 range.\n",
        "The distribution is right-skewed, with a few rare high values (e.g., ₹300+).\n",
        "Common Price Range : ₹33.45 – ₹153.30"
      ],
      "metadata": {
        "id": "PSx9atu2YklI"
      }
    },
    {
      "cell_type": "markdown",
      "source": [
        "##### 3. Will the gained insights help creating a positive business impact?\n",
        "Are there any insights that lead to negative growth? Justify with specific reason."
      ],
      "metadata": {
        "id": "-JiQyfWJYklI"
      }
    },
    {
      "cell_type": "markdown",
      "source": [
        "Yes, the gained insights will help creating a positive business impact.\n",
        "\n",
        "Risk Profiling for Investors\n",
        "\n",
        "*Insight: A long right tail shows a few instances where the price spiked above ₹200–₹300.\n",
        "\n",
        "*Interpretation: These were rare high-value periods — possibly speculative or pre-crisis.\n",
        "\n",
        "Yes, the histogram reveals two clear signs of concern.\n",
        "\n",
        "1.Skewed Value Distribution\n",
        "\n",
        "*Insight: The distribution is right-skewed — prices were low most of the time, with only a few high values.\n",
        "\n",
        "*Interpretation: These highs were not sustainable.\n",
        "\n",
        "2.Low Valuation Persistence\n",
        "\n",
        "*Insight: The stock spent the majority of its time below ₹100, even across 15+ years.\n",
        "\n",
        "*Interpretation: Despite being a private sector bank, Yes Bank was valued like a penny stock for most of its life."
      ],
      "metadata": {
        "id": "BcBbebzrYklV"
      }
    },
    {
      "cell_type": "markdown",
      "source": [
        "#### Chart - 3"
      ],
      "metadata": {
        "id": "EM7whBJCYoAo"
      }
    },
    {
      "cell_type": "code",
      "source": [
        "# Chart - 3 visualization code\n",
        "#Box plot-distribution of price columns\n",
        "plt.figure(figsize=(10, 6))\n",
        "sns.boxplot(data=stock_data[['Open', 'High', 'Low', 'Close']])\n",
        "plt.title('Price Distribution')\n",
        "plt.grid(True)\n",
        "plt.show()"
      ],
      "metadata": {
        "id": "t6GMdE67YoAp",
        "colab": {
          "base_uri": "https://localhost:8080/",
          "height": 549
        },
        "outputId": "ee282e87-1b67-49d1-f0d0-5fea298dd361"
      },
      "execution_count": null,
      "outputs": [
        {
          "output_type": "display_data",
          "data": {
            "text/plain": [
              "<Figure size 1000x600 with 1 Axes>"
            ],
            "image/png": "[encoded data removed]"
          },
          "metadata": {}
        }
      ]
    },
    {
      "cell_type": "markdown",
      "source": [
        "##### 1. Why did you pick the specific chart?"
      ],
      "metadata": {
        "id": "fge-S5ZAYoAp"
      }
    },
    {
      "cell_type": "markdown",
      "source": [
        "1.   Displays spread, median, and outliers clearly.\n",
        "\n",
        "2.   Useful for comparing distributions across Open, High, Low, Close.\n",
        "\n",
        "3.   Quick way to detect anomalies or high volatility."
      ],
      "metadata": {
        "id": "5dBItgRVYoAp"
      }
    },
    {
      "cell_type": "markdown",
      "source": [
        "##### 2. What is/are the insight(s) found from the chart?"
      ],
      "metadata": {
        "id": "85gYPyotYoAp"
      }
    },
    {
      "cell_type": "markdown",
      "source": [
        "The box plot showed long upper tails in the High price, suggesting several outliers or abnormal peaks.\n",
        "Number of High price outliers: 10 (above 95th percentile)"
      ],
      "metadata": {
        "id": "4jstXR6OYoAp"
      }
    },
    {
      "cell_type": "markdown",
      "source": [
        "##### 3. Will the gained insights help creating a positive business impact?\n",
        "Are there any insights that lead to negative growth? Justify with specific reason."
      ],
      "metadata": {
        "id": "RoGjAbkUYoAp"
      }
    },
    {
      "cell_type": "markdown",
      "source": [
        "Yes, the box plot provides clear statistical insights that can guide better decisions:\n",
        "\n",
        "1.Understand Price Volatility & Spread\n",
        "*Insight: High prices have a much wider spread and show more extreme values than Low or Close.\n",
        "\n",
        "*Business Use:\n",
        "Identifies periods of intraday/intraperiod volatility\n",
        "Useful for:\n",
        "\n",
        "* Risk management and hedging strategy\n",
        "\n",
        "* Informing pricing thresholds for stop-loss/take-profit in trading\n",
        "\n",
        "2.Outlier Detection for Strategic Review\n",
        "\n",
        "*Insight: Multiple outliers in High prices (≥ ₹300) are visible.\n",
        "\n",
        "*Business Use:\n",
        "Triggers investigation into exceptional price spikes\n",
        "Helps distinguish:\n",
        "\n",
        "* Real market interest vs. speculative price action\n",
        "\n",
        "* Data anomalies vs. meaningful growth events\n",
        "\n",
        "\n",
        "\n"
      ],
      "metadata": {
        "id": "zfJ8IqMcYoAp"
      }
    },
    {
      "cell_type": "markdown",
      "source": [
        "#### Chart - 4"
      ],
      "metadata": {
        "id": "4Of9eVA-YrdM"
      }
    },
    {
      "cell_type": "code",
      "source": [
        "# Chart - 4 visualization code\n",
        "#line chart- Open, High, Low, Close (comparison)\n",
        "plt.figure(figsize=(14, 6))\n",
        "for col in ['Open', 'High', 'Low', 'Close']:\n",
        "    plt.plot(stock_data['Date'], stock_data[col], label=col)\n",
        "plt.title('Stock Price Movements Over Time')\n",
        "plt.xlabel('Date')\n",
        "plt.ylabel('Price')\n",
        "plt.legend()\n",
        "plt.grid(True)\n",
        "plt.show()"
      ],
      "metadata": {
        "id": "irlUoxc8YrdO",
        "colab": {
          "base_uri": "https://localhost:8080/",
          "height": 573
        },
        "outputId": "750f14f6-4c56-42b7-f56c-929be5d94ff8"
      },
      "execution_count": null,
      "outputs": [
        {
          "output_type": "display_data",
          "data": {
            "text/plain": [
              "<Figure size 1400x600 with 1 Axes>"
            ],
            "image/png": "[encoded data removed]"
          },
          "metadata": {}
        }
      ]
    },
    {
      "cell_type": "markdown",
      "source": [
        "##### 1. Why did you pick the specific chart?"
      ],
      "metadata": {
        "id": "iky9q4vBYrdO"
      }
    },
    {
      "cell_type": "markdown",
      "source": [
        "1. Allows you to compare how the stock behaves within each time period.\n",
        "\n",
        "2. Shows volatility, intraday movement, and gaps between Open/Close.\n",
        "\n",
        "3. Useful for understanding how prices fluctuate within a month or day."
      ],
      "metadata": {
        "id": "aJRCwT6DYrdO"
      }
    },
    {
      "cell_type": "markdown",
      "source": [
        "##### 2. What is/are the insight(s) found from the chart?"
      ],
      "metadata": {
        "id": "F6T5p64dYrdO"
      }
    },
    {
      "cell_type": "markdown",
      "source": [
        "The average volatility (High - Low) is about ₹21.16, which is quite high for a stock in this price range.\n",
        "Also, volatility was higher before 2020, suggesting unstable or speculative trading during that period of time."
      ],
      "metadata": {
        "id": "Xx8WAJvtYrdO"
      }
    },
    {
      "cell_type": "markdown",
      "source": [
        "##### 3. Will the gained insights help creating a positive business impact?\n",
        "Are there any insights that lead to negative growth? Justify with specific reason."
      ],
      "metadata": {
        "id": "y-Ehk30pYrdP"
      }
    },
    {
      "cell_type": "markdown",
      "source": [
        "Answer Here"
      ],
      "metadata": {
        "id": "jLNxxz7MYrdP"
      }
    },
    {
      "cell_type": "markdown",
      "source": [
        "#### Chart - 5"
      ],
      "metadata": {
        "id": "bamQiAODYuh1"
      }
    },
    {
      "cell_type": "code",
      "source": [
        "# Chart - 5 visualization code"
      ],
      "metadata": {
        "id": "TIJwrbroYuh3"
      },
      "execution_count": null,
      "outputs": []
    },
    {
      "cell_type": "markdown",
      "source": [
        "##### 1. Why did you pick the specific chart?"
      ],
      "metadata": {
        "id": "QHF8YVU7Yuh3"
      }
    },
    {
      "cell_type": "markdown",
      "source": [
        "1. Helps understand relationships: e.g., are Open and Close highly correlated?\n",
        "\n",
        "2. Useful in feature engineering for machine learning models.\n",
        "\n",
        "3. Great for deciding which variables to include or drop."
      ],
      "metadata": {
        "id": "dcxuIMRPYuh3"
      }
    },
    {
      "cell_type": "markdown",
      "source": [
        "##### 2. What is/are the insight(s) found from the chart?"
      ],
      "metadata": {
        "id": "GwzvFGzlYuh3"
      }
    },
    {
      "cell_type": "markdown",
      "source": [
        "All price columns are strongly positively correlated (above 0.95)."
      ],
      "metadata": {
        "id": "uyqkiB8YYuh3"
      }
    },
    {
      "cell_type": "markdown",
      "source": [
        "##### 3. Will the gained insights help creating a positive business impact?\n",
        "Are there any insights that lead to negative growth? Justify with specific reason."
      ],
      "metadata": {
        "id": "qYpmQ266Yuh3"
      }
    },
    {
      "cell_type": "markdown",
      "source": [
        "Answer Here"
      ],
      "metadata": {
        "id": "_WtzZ_hCYuh4"
      }
    },
    {
      "cell_type": "markdown",
      "source": [
        "#### Chart - 6"
      ],
      "metadata": {
        "id": "OH-pJp9IphqM"
      }
    },
    {
      "cell_type": "code",
      "source": [
        "# Chart - 6 visualization code"
      ],
      "metadata": {
        "id": "kuRf4wtuphqN"
      },
      "execution_count": null,
      "outputs": []
    },
    {
      "cell_type": "markdown",
      "source": [
        "##### 1. Why did you pick the specific chart?"
      ],
      "metadata": {
        "id": "bbFf2-_FphqN"
      }
    },
    {
      "cell_type": "markdown",
      "source": [
        "Answer Here."
      ],
      "metadata": {
        "id": "loh7H2nzphqN"
      }
    },
    {
      "cell_type": "markdown",
      "source": [
        "##### 2. What is/are the insight(s) found from the chart?"
      ],
      "metadata": {
        "id": "_ouA3fa0phqN"
      }
    },
    {
      "cell_type": "markdown",
      "source": [
        "Answer Here"
      ],
      "metadata": {
        "id": "VECbqPI7phqN"
      }
    },
    {
      "cell_type": "markdown",
      "source": [
        "##### 3. Will the gained insights help creating a positive business impact?\n",
        "Are there any insights that lead to negative growth? Justify with specific reason."
      ],
      "metadata": {
        "id": "Seke61FWphqN"
      }
    },
    {
      "cell_type": "markdown",
      "source": [
        "Answer Here"
      ],
      "metadata": {
        "id": "DW4_bGpfphqN"
      }
    },
    {
      "cell_type": "markdown",
      "source": [
        "#### Chart - 7"
      ],
      "metadata": {
        "id": "PIIx-8_IphqN"
      }
    },
    {
      "cell_type": "code",
      "source": [
        "# Chart - 7 visualization code"
      ],
      "metadata": {
        "id": "lqAIGUfyphqO"
      },
      "execution_count": null,
      "outputs": []
    },
    {
      "cell_type": "markdown",
      "source": [
        "##### 1. Why did you pick the specific chart?"
      ],
      "metadata": {
        "id": "t27r6nlMphqO"
      }
    },
    {
      "cell_type": "markdown",
      "source": [
        "Answer Here."
      ],
      "metadata": {
        "id": "iv6ro40sphqO"
      }
    },
    {
      "cell_type": "markdown",
      "source": [
        "##### 2. What is/are the insight(s) found from the chart?"
      ],
      "metadata": {
        "id": "r2jJGEOYphqO"
      }
    },
    {
      "cell_type": "markdown",
      "source": [
        "Answer Here"
      ],
      "metadata": {
        "id": "Po6ZPi4hphqO"
      }
    },
    {
      "cell_type": "markdown",
      "source": [
        "##### 3. Will the gained insights help creating a positive business impact?\n",
        "Are there any insights that lead to negative growth? Justify with specific reason."
      ],
      "metadata": {
        "id": "b0JNsNcRphqO"
      }
    },
    {
      "cell_type": "markdown",
      "source": [
        "Answer Here"
      ],
      "metadata": {
        "id": "xvSq8iUTphqO"
      }
    },
    {
      "cell_type": "markdown",
      "source": [
        "#### Chart - 8"
      ],
      "metadata": {
        "id": "BZR9WyysphqO"
      }
    },
    {
      "cell_type": "code",
      "source": [
        "# Chart - 8 visualization code"
      ],
      "metadata": {
        "id": "TdPTWpAVphqO"
      },
      "execution_count": null,
      "outputs": []
    },
    {
      "cell_type": "markdown",
      "source": [
        "##### 1. Why did you pick the specific chart?"
      ],
      "metadata": {
        "id": "jj7wYXLtphqO"
      }
    },
    {
      "cell_type": "markdown",
      "source": [
        "Answer Here."
      ],
      "metadata": {
        "id": "Ob8u6rCTphqO"
      }
    },
    {
      "cell_type": "markdown",
      "source": [
        "##### 2. What is/are the insight(s) found from the chart?"
      ],
      "metadata": {
        "id": "eZrbJ2SmphqO"
      }
    },
    {
      "cell_type": "markdown",
      "source": [
        "Answer Here"
      ],
      "metadata": {
        "id": "mZtgC_hjphqO"
      }
    },
    {
      "cell_type": "markdown",
      "source": [
        "##### 3. Will the gained insights help creating a positive business impact?\n",
        "Are there any insights that lead to negative growth? Justify with specific reason."
      ],
      "metadata": {
        "id": "rFu4xreNphqO"
      }
    },
    {
      "cell_type": "markdown",
      "source": [
        "Answer Here"
      ],
      "metadata": {
        "id": "ey_0qi68phqO"
      }
    },
    {
      "cell_type": "markdown",
      "source": [
        "#### Chart - 9"
      ],
      "metadata": {
        "id": "YJ55k-q6phqO"
      }
    },
    {
      "cell_type": "code",
      "source": [
        "# Chart - 9 visualization code"
      ],
      "metadata": {
        "id": "B2aS4O1ophqO"
      },
      "execution_count": null,
      "outputs": []
    },
    {
      "cell_type": "markdown",
      "source": [
        "##### 1. Why did you pick the specific chart?"
      ],
      "metadata": {
        "id": "gCFgpxoyphqP"
      }
    },
    {
      "cell_type": "markdown",
      "source": [
        "Answer Here."
      ],
      "metadata": {
        "id": "TVxDimi2phqP"
      }
    },
    {
      "cell_type": "markdown",
      "source": [
        "##### 2. What is/are the insight(s) found from the chart?"
      ],
      "metadata": {
        "id": "OVtJsKN_phqQ"
      }
    },
    {
      "cell_type": "markdown",
      "source": [
        "Answer Here"
      ],
      "metadata": {
        "id": "ngGi97qjphqQ"
      }
    },
    {
      "cell_type": "markdown",
      "source": [
        "##### 3. Will the gained insights help creating a positive business impact?\n",
        "Are there any insights that lead to negative growth? Justify with specific reason."
      ],
      "metadata": {
        "id": "lssrdh5qphqQ"
      }
    },
    {
      "cell_type": "markdown",
      "source": [
        "Answer Here"
      ],
      "metadata": {
        "id": "tBpY5ekJphqQ"
      }
    },
    {
      "cell_type": "markdown",
      "source": [
        "#### Chart - 10"
      ],
      "metadata": {
        "id": "U2RJ9gkRphqQ"
      }
    },
    {
      "cell_type": "code",
      "source": [
        "# Chart - 10 visualization code"
      ],
      "metadata": {
        "id": "GM7a4YP4phqQ"
      },
      "execution_count": null,
      "outputs": []
    },
    {
      "cell_type": "markdown",
      "source": [
        "##### 1. Why did you pick the specific chart?"
      ],
      "metadata": {
        "id": "1M8mcRywphqQ"
      }
    },
    {
      "cell_type": "markdown",
      "source": [
        "Answer Here."
      ],
      "metadata": {
        "id": "8agQvks0phqQ"
      }
    },
    {
      "cell_type": "markdown",
      "source": [
        "##### 2. What is/are the insight(s) found from the chart?"
      ],
      "metadata": {
        "id": "tgIPom80phqQ"
      }
    },
    {
      "cell_type": "markdown",
      "source": [
        "Answer Here"
      ],
      "metadata": {
        "id": "Qp13pnNzphqQ"
      }
    },
    {
      "cell_type": "markdown",
      "source": [
        "##### 3. Will the gained insights help creating a positive business impact?\n",
        "Are there any insights that lead to negative growth? Justify with specific reason."
      ],
      "metadata": {
        "id": "JMzcOPDDphqR"
      }
    },
    {
      "cell_type": "markdown",
      "source": [
        "Answer Here"
      ],
      "metadata": {
        "id": "R4Ka1PC2phqR"
      }
    },
    {
      "cell_type": "markdown",
      "source": [
        "#### Chart - 11"
      ],
      "metadata": {
        "id": "x-EpHcCOp1ci"
      }
    },
    {
      "cell_type": "code",
      "source": [
        "# Chart - 11 visualization code"
      ],
      "metadata": {
        "id": "mAQTIvtqp1cj"
      },
      "execution_count": null,
      "outputs": []
    },
    {
      "cell_type": "markdown",
      "source": [
        "##### 1. Why did you pick the specific chart?"
      ],
      "metadata": {
        "id": "X_VqEhTip1ck"
      }
    },
    {
      "cell_type": "markdown",
      "source": [
        "Answer Here."
      ],
      "metadata": {
        "id": "-vsMzt_np1ck"
      }
    },
    {
      "cell_type": "markdown",
      "source": [
        "##### 2. What is/are the insight(s) found from the chart?"
      ],
      "metadata": {
        "id": "8zGJKyg5p1ck"
      }
    },
    {
      "cell_type": "markdown",
      "source": [
        "Answer Here"
      ],
      "metadata": {
        "id": "ZYdMsrqVp1ck"
      }
    },
    {
      "cell_type": "markdown",
      "source": [
        "##### 3. Will the gained insights help creating a positive business impact?\n",
        "Are there any insights that lead to negative growth? Justify with specific reason."
      ],
      "metadata": {
        "id": "PVzmfK_Ep1ck"
      }
    },
    {
      "cell_type": "markdown",
      "source": [
        "Answer Here"
      ],
      "metadata": {
        "id": "druuKYZpp1ck"
      }
    },
    {
      "cell_type": "markdown",
      "source": [
        "#### Chart - 12"
      ],
      "metadata": {
        "id": "n3dbpmDWp1ck"
      }
    },
    {
      "cell_type": "code",
      "source": [
        "# Chart - 12 visualization code"
      ],
      "metadata": {
        "id": "bwevp1tKp1ck"
      },
      "execution_count": null,
      "outputs": []
    },
    {
      "cell_type": "markdown",
      "source": [
        "##### 1. Why did you pick the specific chart?"
      ],
      "metadata": {
        "id": "ylSl6qgtp1ck"
      }
    },
    {
      "cell_type": "markdown",
      "source": [
        "Answer Here."
      ],
      "metadata": {
        "id": "m2xqNkiQp1ck"
      }
    },
    {
      "cell_type": "markdown",
      "source": [
        "##### 2. What is/are the insight(s) found from the chart?"
      ],
      "metadata": {
        "id": "ZWILFDl5p1ck"
      }
    },
    {
      "cell_type": "markdown",
      "source": [
        "Answer Here"
      ],
      "metadata": {
        "id": "x-lUsV2mp1ck"
      }
    },
    {
      "cell_type": "markdown",
      "source": [
        "##### 3. Will the gained insights help creating a positive business impact?\n",
        "Are there any insights that lead to negative growth? Justify with specific reason."
      ],
      "metadata": {
        "id": "M7G43BXep1ck"
      }
    },
    {
      "cell_type": "markdown",
      "source": [
        "Answer Here"
      ],
      "metadata": {
        "id": "5wwDJXsLp1cl"
      }
    },
    {
      "cell_type": "markdown",
      "source": [
        "#### Chart - 13"
      ],
      "metadata": {
        "id": "Ag9LCva-p1cl"
      }
    },
    {
      "cell_type": "code",
      "source": [
        "# Chart - 13 visualization code"
      ],
      "metadata": {
        "id": "EUfxeq9-p1cl"
      },
      "execution_count": null,
      "outputs": []
    },
    {
      "cell_type": "markdown",
      "source": [
        "##### 1. Why did you pick the specific chart?"
      ],
      "metadata": {
        "id": "E6MkPsBcp1cl"
      }
    },
    {
      "cell_type": "markdown",
      "source": [
        "Answer Here."
      ],
      "metadata": {
        "id": "V22bRsFWp1cl"
      }
    },
    {
      "cell_type": "markdown",
      "source": [
        "##### 2. What is/are the insight(s) found from the chart?"
      ],
      "metadata": {
        "id": "2cELzS2fp1cl"
      }
    },
    {
      "cell_type": "markdown",
      "source": [
        "Answer Here"
      ],
      "metadata": {
        "id": "ozQPc2_Ip1cl"
      }
    },
    {
      "cell_type": "markdown",
      "source": [
        "##### 3. Will the gained insights help creating a positive business impact?\n",
        "Are there any insights that lead to negative growth? Justify with specific reason."
      ],
      "metadata": {
        "id": "3MPXvC8up1cl"
      }
    },
    {
      "cell_type": "markdown",
      "source": [
        "Answer Here"
      ],
      "metadata": {
        "id": "GL8l1tdLp1cl"
      }
    },
    {
      "cell_type": "markdown",
      "source": [
        "#### Chart - 14 - Correlation Heatmap"
      ],
      "metadata": {
        "id": "NC_X3p0fY2L0"
      }
    },
    {
      "cell_type": "code",
      "source": [
        "# Correlation Heatmap visualization code\n",
        "plt.figure(figsize=(8, 6))\n",
        "sns.heatmap(stock_data[['Open', 'High', 'Low', 'Close']].corr(), annot=True, cmap='coolwarm')\n",
        "plt.title('Correlation Heatmap')\n",
        "plt.show()"
      ],
      "metadata": {
        "id": "xyC9zolEZNRQ",
        "colab": {
          "base_uri": "https://localhost:8080/"
        },
        "outputId": "b31b539f-997a-4f00-ebd5-1a5b4c845a44"
      },
      "execution_count": null,
      "outputs": [
        {
          "output_type": "display_data",
          "data": {
            "text/plain": [
              "<Figure size 800x600 with 2 Axes>"
            ],
            "image/png": "[encoded data removed]"
          },
          "metadata": {}
        }
      ]
    },
    {
      "cell_type": "markdown",
      "source": [
        "##### 1. Why did you pick the specific chart?"
      ],
      "metadata": {
        "id": "UV0SzAkaZNRQ"
      }
    },
    {
      "cell_type": "markdown",
      "source": [
        "1. Helps understand relationships. E.g., are Open and Close highly correlated.\n",
        "\n",
        "2. Useful in feature engineering for machine learning models.\n",
        "\n",
        "3. Great for deciding which variables to include or drop."
      ],
      "metadata": {
        "id": "DVPuT8LYZNRQ"
      }
    },
    {
      "cell_type": "markdown",
      "source": [
        "##### 2. What is/are the insight(s) found from the chart?"
      ],
      "metadata": {
        "id": "YPEH6qLeZNRQ"
      }
    },
    {
      "cell_type": "markdown",
      "source": [],
      "metadata": {
        "id": "bfSqtnDqZNRR"
      }
    },
    {
      "cell_type": "markdown",
      "source": [
        "All price columns are strongly positively correlated (above 0.95)."
      ],
      "metadata": {
        "id": "aj3XFYTyBQsQ"
      }
    },
    {
      "cell_type": "markdown",
      "source": [
        "#### Chart - 15 - Pair Plot"
      ],
      "metadata": {
        "id": "q29F0dvdveiT"
      }
    },
    {
      "cell_type": "code",
      "source": [
        "# Pair Plot visualization code\n",
        "sns.set(style=\"whitegrid\")\n",
        "pairplot = sns.pairplot(stock_data[['Open', 'High', 'Low', 'Close']])\n",
        "pairplot.fig.suptitle(\"Pair Plot of Stock Price Features\", y=1.02)  # Add title\n",
        "\n",
        "plt.show()"
      ],
      "metadata": {
        "id": "o58-TEIhveiU",
        "colab": {
          "base_uri": "https://localhost:8080/"
        },
        "outputId": "83cd0b1a-1202-4cf4-bde0-b5ba12e53c42"
      },
      "execution_count": null,
      "outputs": [
        {
          "output_type": "display_data",
          "data": {
            "text/plain": [
              "<Figure size 1000x1000 with 20 Axes>"
            ],
            "image/png": "[encoded data removed]"
          },
          "metadata": {}
        }
      ]
    },
    {
      "cell_type": "markdown",
      "source": [
        "##### 1. Why did you pick the specific chart?"
      ],
      "metadata": {
        "id": "EXh0U9oCveiU"
      }
    },
    {
      "cell_type": "markdown",
      "source": [
        "1. Visually checks how closely prices move together.\n",
        "2. Useful before building predictive models.\n",
        "3. Easy to spot price spikes or anomalies."
      ],
      "metadata": {
        "id": "eMmPjTByveiU"
      }
    },
    {
      "cell_type": "markdown",
      "source": [
        "##### 2. What is/are the insight(s) found from the chart?"
      ],
      "metadata": {
        "id": "22aHeOlLveiV"
      }
    },
    {
      "cell_type": "markdown",
      "source": [
        "All price columns have right-skewed distributions.\n",
        "This means there are many low-to-mid prices, with a few very high prices.\n",
        "Strong Positive Linear Relationships-i.e. if one (like 'Open') goes up, others(High, Close, Low) tend to go up too."
      ],
      "metadata": {
        "id": "uPQ8RGwHveiV"
      }
    },
    {
      "cell_type": "markdown",
      "source": [
        "## ***5. Hypothesis Testing***"
      ],
      "metadata": {
        "id": "g-ATYxFrGrvw"
      }
    },
    {
      "cell_type": "markdown",
      "source": [
        "### Based on your chart experiments, define three hypothetical statements from the dataset. In the next three questions, perform hypothesis testing to obtain final conclusion about the statements through your code and statistical testing."
      ],
      "metadata": {
        "id": "Yfr_Vlr8HBkt"
      }
    },
    {
      "cell_type": "markdown",
      "source": [
        "Hypothesis 1\n",
        "\n",
        "**Statement:**  \n",
        "The average \"Close\" price before 2018 is significantly higher than after 2018.\n",
        "\n",
        "**Motivation:**\n",
        "This test is motivated by visual patterns in the line chart, which show a sharp drop in stock price starting in 2018.\n",
        "\n",
        "Hypothesis 2\n",
        "\n",
        "**Statement:**\n",
        "The volatility (High - Low) was greater in 2019-2020 than in 2015-2016.\n",
        "\n",
        "**Motivation:**\n",
        "This test is motivated by the box plot and OHLC line charts that show more erratic prices around 2019-2020.\n",
        "\n",
        "Hypothesis 3\n",
        "\n",
        "**Statement:**\n",
        "There is a strong positive correlation between Close and High prices.\n",
        "\n",
        "**Motivation:**\n",
        " This test is motivated by Pair plot and heatmap that suggest strong correlation."
      ],
      "metadata": {
        "id": "-7MS06SUHkB-"
      }
    },
    {
      "cell_type": "markdown",
      "source": [
        "### Hypothetical Statement - 1"
      ],
      "metadata": {
        "id": "8yEUt7NnHlrM"
      }
    },
    {
      "cell_type": "markdown",
      "source": [
        "#### 1. State Your research hypothesis as a null hypothesis and alternate hypothesis."
      ],
      "metadata": {
        "id": "tEA2Xm5dHt1r"
      }
    },
    {
      "cell_type": "markdown",
      "source": [
        "**Null Hypothesis :**  \n",
        "There is no significant difference in average \"Close\" prices before and after 2018.\n",
        "\n",
        "**Alternative Hypothesis :**  \n",
        "The average \"Close\" price before 2018 is significantly **higher** than after 2018"
      ],
      "metadata": {
        "id": "HI9ZP0laH0D-"
      }
    },
    {
      "cell_type": "markdown",
      "source": [
        "#### 2. Perform an appropriate statistical test."
      ],
      "metadata": {
        "id": "I79__PHVH19G"
      }
    },
    {
      "cell_type": "code",
      "source": [
        "# Perform Statistical Test to obtain P-Value\n",
        "\n",
        "# Split the data into two groups\n",
        "before_2018 = stock_data[stock_data['Date'] < '2018-01-01']['Close'].dropna()\n",
        "after_2018 = stock_data[stock_data['Date'] >= '2018-01-01']['Close'].dropna()\n",
        "\n",
        "# Perform t-test (unequal variance)\n",
        "from scipy.stats import ttest_ind\n",
        "t_stat, p_value = ttest_ind(before_2018, after_2018, equal_var=False)\n",
        "\n",
        "print(\"T-statistic:\", t_stat)\n",
        "print(\"P-value:\", p_value)\n",
        "\n",
        "if p_value < 0.05:\n",
        "    print(\"Conclusion: Reject the null hypothesis. Average Close price was significantly different before and after 2018.\")\n",
        "else:\n",
        "    print(\"Conclusion: Fail to reject the null hypothesis. No significant difference in Close price before and after 2018.\")"
      ],
      "metadata": {
        "id": "oZrfquKtyian",
        "colab": {
          "base_uri": "https://localhost:8080/"
        },
        "outputId": "69016501-016c-45fd-ed32-5321f154edcf"
      },
      "execution_count": null,
      "outputs": [
        {
          "output_type": "stream",
          "name": "stdout",
          "text": [
            "T-statistic: -2.3268227487089366\n",
            "P-value: 0.024860677162743993\n",
            "Conclusion: Reject the null hypothesis. Average Close price was significantly different before and after 2018.\n"
          ]
        }
      ]
    },
    {
      "cell_type": "markdown",
      "source": [
        "##### Which statistical test have you done to obtain P-Value?"
      ],
      "metadata": {
        "id": "Ou-I18pAyIpj"
      }
    },
    {
      "cell_type": "markdown",
      "source": [
        "Independent Two-Sample t-test (Welch's t-test)."
      ],
      "metadata": {
        "id": "s2U0kk00ygSB"
      }
    },
    {
      "cell_type": "markdown",
      "source": [
        "##### Why did you choose the specific statistical test?"
      ],
      "metadata": {
        "id": "fF3858GYyt-u"
      }
    },
    {
      "cell_type": "markdown",
      "source": [
        "Because we were comparing the means of two independent groups.\n",
        "\n",
        "Group 1: Close prices before 2018\n",
        "\n",
        "Group 2: Close prices after 2018\n",
        "\n",
        "To know:\n",
        "\n",
        "\"Is the difference in their average Close prices statistically significant?\"\n",
        "\n"
      ],
      "metadata": {
        "id": "HO4K0gP5y3B4"
      }
    },
    {
      "cell_type": "markdown",
      "source": [
        "### Hypothetical Statement - 2"
      ],
      "metadata": {
        "id": "4_0_7-oCpUZd"
      }
    },
    {
      "cell_type": "markdown",
      "source": [
        "#### 1. State Your research hypothesis as a null hypothesis and alternate hypothesis."
      ],
      "metadata": {
        "id": "hwyV_J3ipUZe"
      }
    },
    {
      "cell_type": "markdown",
      "source": [
        "**Null Hypothesis:**\n",
        "\n",
        "There is no difference in the variance of stock price volatility between 2015-2016 and 2019-2020.\n",
        "\n",
        "**Alternative Hypothesis:**\n",
        "\n",
        "The volatility in 2019-2020 is significantly higher than in 2015-2016."
      ],
      "metadata": {
        "id": "FnpLGJ-4pUZe"
      }
    },
    {
      "cell_type": "markdown",
      "source": [
        "#### 2. Perform an appropriate statistical test."
      ],
      "metadata": {
        "id": "3yB-zSqbpUZe"
      }
    },
    {
      "cell_type": "code",
      "source": [
        "# Perform Statistical Test to obtain P-Value\n",
        "\n",
        "\n",
        "#volatility checking\n",
        "if 'Volatility' not in stock_data.columns:\n",
        "    if 'High' in stock_data.columns and 'Low' in stock_data.columns:\n",
        "        stock_data['Volatility'] = stock_data['High'] - stock_data['Low']\n",
        "    else:\n",
        "        print(\"Columns 'High' and 'Low' not found. Cannot compute Volatility.\")\n",
        "#splitting volatility data for the two periods\n",
        "vol_2015_2016 = stock_data[\n",
        "    (stock_data['Date'] >= '2015-01-01') & (stock_data['Date'] <= '2016-12-31')\n",
        "]['Volatility'].dropna()\n",
        "\n",
        "vol_2019_2020 = stock_data[\n",
        "    (stock_data['Date'] >= '2019-01-01') & (stock_data['Date'] <= '2020-12-31')\n",
        "]['Volatility'].dropna()\n",
        "\n",
        "#performing Levene's Test\n",
        "from scipy.stats import levene\n",
        "\n",
        "statistic, p_value = levene(vol_2015_2016, vol_2019_2020)\n",
        "\n",
        "print(\"Levene Test Statistic:\", statistic)\n",
        "print(\"P-value:\", p_value)\n",
        "\n",
        "if p_value < 0.05:\n",
        "    print(\"Conclusion: Reject the null hypothesis — volatility was significantly different.\")\n",
        "else:\n",
        "    print(\"Conclusion: Fail to reject the null hypothesis — no significant difference.\")"
      ],
      "metadata": {
        "id": "sWxdNTXNpUZe",
        "colab": {
          "base_uri": "https://localhost:8080/"
        },
        "outputId": "35a411e9-2a3e-4da7-c5c2-d52709fbc4ef"
      },
      "execution_count": null,
      "outputs": [
        {
          "output_type": "stream",
          "name": "stdout",
          "text": [
            "Levene Test Statistic: 8.535207946179584\n",
            "P-value: 0.005429956247237275\n",
            "Conclusion: Reject the null hypothesis — volatility was significantly different.\n"
          ]
        }
      ]
    },
    {
      "cell_type": "markdown",
      "source": [
        "##### Which statistical test have you done to obtain P-Value?"
      ],
      "metadata": {
        "id": "dEUvejAfpUZe"
      }
    },
    {
      "cell_type": "markdown",
      "source": [
        "Levene's Test for Equality of Variances."
      ],
      "metadata": {
        "id": "oLDrPz7HpUZf"
      }
    },
    {
      "cell_type": "markdown",
      "source": [
        "##### Why did you choose the specific statistical test?"
      ],
      "metadata": {
        "id": "Fd15vwWVpUZf"
      }
    },
    {
      "cell_type": "markdown",
      "source": [
        "1. The hypothesis compares volatility, which is measured using variance.\n",
        "\n",
        "2. Levene’s test is robust to non-normal data — ideal for financial time series.\n",
        "\n",
        "3. Alternative tests like F-test assume normality and are sensitive to outliers."
      ],
      "metadata": {
        "id": "4xOGYyiBpUZf"
      }
    },
    {
      "cell_type": "markdown",
      "source": [
        "### Hypothetical Statement - 3"
      ],
      "metadata": {
        "id": "bn_IUdTipZyH"
      }
    },
    {
      "cell_type": "markdown",
      "source": [
        "#### 1. State Your research hypothesis as a null hypothesis and alternate hypothesis."
      ],
      "metadata": {
        "id": "49K5P_iCpZyH"
      }
    },
    {
      "cell_type": "markdown",
      "source": [
        "**Null Hypothesis:**\n",
        "\n",
        "There is no correlation between Close and High prices.\n",
        "\n",
        "**Alternative Hypothesis:**\n",
        "\n",
        "There is a significant positive correlation between Close and High prices."
      ],
      "metadata": {
        "id": "7gWI5rT9pZyH"
      }
    },
    {
      "cell_type": "markdown",
      "source": [
        "#### 2. Perform an appropriate statistical test."
      ],
      "metadata": {
        "id": "Nff-vKELpZyI"
      }
    },
    {
      "cell_type": "code",
      "source": [
        "# Perform Statistical Test to obtain P-Value\n",
        "\n",
        "#dropping missing values for correlation test\n",
        "clean_data = stock_data[['Close', 'High']].dropna()\n",
        "\n",
        "#performing Pearson correlation test\n",
        "from scipy.stats import pearsonr\n",
        "correlation, p_value = pearsonr(clean_data['Close'], clean_data['High'])\n",
        "\n",
        "print(\"Correlation Coefficient (r):\", correlation)\n",
        "print(\"P-value:\", p_value)\n",
        "\n",
        "if p_value < 0.05:\n",
        "    print(\"Conclusion: Reject the null hypothesis. There is a significant positive correlation.\")\n",
        "else:\n",
        "    print(\"Conclusion: Fail to reject the null hypothesis. No significant correlation.\")"
      ],
      "metadata": {
        "id": "s6AnJQjtpZyI",
        "colab": {
          "base_uri": "https://localhost:8080/"
        },
        "outputId": "e29f290e-f954-4d64-9689-7fadbdbb69d9"
      },
      "execution_count": null,
      "outputs": [
        {
          "output_type": "stream",
          "name": "stdout",
          "text": [
            "Correlation Coefficient (r): 0.9847531688032053\n",
            "P-value: 5.995127184678353e-141\n",
            "Conclusion: Reject the null hypothesis. There is a significant positive correlation.\n"
          ]
        }
      ]
    },
    {
      "cell_type": "markdown",
      "source": [
        "##### Which statistical test have you done to obtain P-Value?"
      ],
      "metadata": {
        "id": "kLW572S8pZyI"
      }
    },
    {
      "cell_type": "markdown",
      "source": [
        "Pearson Correlation Coefficient Test."
      ],
      "metadata": {
        "id": "ytWJ8v15pZyI"
      }
    },
    {
      "cell_type": "markdown",
      "source": [
        "##### Why did you choose the specific statistical test?"
      ],
      "metadata": {
        "id": "dWbDXHzopZyI"
      }
    },
    {
      "cell_type": "markdown",
      "source": [
        "1. Measure how strongly and in what direction Close and High prices move together.\n",
        "\n",
        "2. Determine if this relationship is statistically significant — i.e., not due to chance."
      ],
      "metadata": {
        "id": "M99G98V6pZyI"
      }
    },
    {
      "cell_type": "markdown",
      "source": [
        "## ***6. Feature Engineering & Data Pre-processing***"
      ],
      "metadata": {
        "id": "yLjJCtPM0KBk"
      }
    },
    {
      "cell_type": "markdown",
      "source": [
        "### 1. Handling Missing Values"
      ],
      "metadata": {
        "id": "xiyOF9F70UgQ"
      }
    },
    {
      "cell_type": "code",
      "source": [
        "# Handling Missing Values & Missing Value Imputation\n",
        "#already handled the missing values in data wrangling\n",
        "#forward fill\n",
        "stock_data.ffill(inplace=True)\n",
        "\n",
        "# Final check\n",
        "print(\"\\n✅ Missing values after interpolation and forward fill:\\n\", stock_data.isnull().sum())\n",
        "\n",
        "# Preview final cleaned data\n",
        "print(\"\\n🧹 Final few rows after cleaning:\\n\", stock_data.tail())"
      ],
      "metadata": {
        "id": "iRsAHk1K0fpS",
        "colab": {
          "base_uri": "https://localhost:8080/"
        },
        "outputId": "26779a3e-f2a3-4abe-912c-85cfbee7da73"
      },
      "execution_count": null,
      "outputs": [
        {
          "output_type": "stream",
          "name": "stdout",
          "text": [
            "\n",
            "✅ Missing values after interpolation and forward fill:\n",
            " Date          0\n",
            "Open          0\n",
            "High          0\n",
            "Low           0\n",
            "Close         0\n",
            "Volatility    0\n",
            "dtype: int64\n",
            "\n",
            "🧹 Final few rows after cleaning:\n",
            "           Date   Open   High    Low  Close  Volatility\n",
            "180 2020-07-01  25.60  28.30  11.10  11.95       17.20\n",
            "181 2020-08-01  12.00  17.16  11.85  14.37        5.31\n",
            "182 2020-09-01  14.30  15.34  12.75  13.15        2.59\n",
            "183 2020-10-01  13.30  14.01  12.11  12.42        1.90\n",
            "184 2020-11-01  12.41  14.90  12.21  14.67        2.69\n"
          ]
        }
      ]
    },
    {
      "cell_type": "markdown",
      "source": [
        "#### What all missing value imputation techniques have you used and why did you use those techniques?"
      ],
      "metadata": {
        "id": "7wuGOrhz0itI"
      }
    },
    {
      "cell_type": "markdown",
      "source": [
        "Linear Interpolation (already done in data wrangling)\n",
        "\n",
        "Why Used:\n",
        "\n",
        "1. Stock data changes gradually over time (especially daily prices).\n",
        "\n",
        "2. Linear interpolation fills missing values based on a straight line between known data points.\n",
        "\n",
        "3. Ideal for time-series data where patterns are assumed to follow a trend or flow.\n",
        "\n",
        "4. Helps preserve the natural progression of stock prices without abrupt jumps.\n",
        "\n",
        "Forward Fill (ffill)\n",
        "\n",
        "Why Used:\n",
        "\n",
        "1. After interpolation, some beginning or trailing values might still be missing.\n",
        "ffill() copies the last valid observation forward.\n",
        "\n",
        "2. This is a safe fallback for stock data because:\n",
        "\n",
        "3. If a value is missing on a certain day, the last known value is often a reasonable estimate.\n",
        "\n",
        "4. Prevents dropping rows unnecessarily.\n",
        "\n",
        "5. Common in financial datasets to avoid introducing bias.\n",
        "\n",
        "\n",
        "Manual Replacement of Anomalies with NaN\n",
        "\n",
        "Why Used:\n",
        "\n",
        "1. Before interpolation, it's important to identify and neutralize anomalies that can skew results.\n",
        "\n",
        "Example: A Low price higher than the High price, or a High value over ₹400 (unrealistic for Yes Bank historically).\n",
        "\n",
        "2. By setting these outliers to NaN:\n",
        "\n",
        "3. You flag them for correction.\n",
        "\n",
        "4. Then interpolate them properly using valid surrounding data."
      ],
      "metadata": {
        "id": "1ixusLtI0pqI"
      }
    },
    {
      "cell_type": "markdown",
      "source": [
        "### 2. Handling Outliers"
      ],
      "metadata": {
        "id": "id1riN9m0vUs"
      }
    },
    {
      "cell_type": "code",
      "source": [
        "# Handling Outliers & Outlier treatments\n",
        "#to reduce data redudancy i am not adding the code again\n",
        "\n",
        "print(stock_data.columns.tolist())\n"
      ],
      "metadata": {
        "id": "M6w2CzZf04JK",
        "colab": {
          "base_uri": "https://localhost:8080/"
        },
        "outputId": "a2b91af0-2cf0-40d7-db9d-179b896c4199"
      },
      "execution_count": null,
      "outputs": [
        {
          "output_type": "stream",
          "name": "stdout",
          "text": [
            "['Date', 'Open', 'High', 'Low', 'Close', 'Volatility']\n"
          ]
        }
      ]
    },
    {
      "cell_type": "markdown",
      "source": [
        "##### What all outlier treatment techniques have you used and why did you use those techniques?"
      ],
      "metadata": {
        "id": "578E2V7j08f6"
      }
    },
    {
      "cell_type": "markdown",
      "source": [
        "Answer Here."
      ],
      "metadata": {
        "id": "uGZz5OrT1HH-"
      }
    },
    {
      "cell_type": "markdown",
      "source": [
        "### 3. Categorical Encoding"
      ],
      "metadata": {
        "id": "89xtkJwZ18nB"
      }
    },
    {
      "cell_type": "code",
      "source": [
        "# Encode your categorical columns\n",
        "#extracting useful numeric features from Date\n",
        "stock_data['Year'] = stock_data['Date'].dt.year\n",
        "stock_data['Month'] = stock_data['Date'].dt.month\n",
        "stock_data['DayOfWeek'] = stock_data['Date'].dt.dayofweek  # Monday=0, Sunday=6"
      ],
      "metadata": {
        "id": "21JmIYMG2hEo"
      },
      "execution_count": null,
      "outputs": []
    },
    {
      "cell_type": "markdown",
      "source": [
        "#### What all categorical encoding techniques have you used & why did you use those techniques?"
      ],
      "metadata": {
        "id": "67NQN5KX2AMe"
      }
    },
    {
      "cell_type": "markdown",
      "source": [
        "Date-based decomposition\n",
        "\n",
        "Why used:\n",
        "The Date column was originally a categorical string (e.g., 'Mar-19').\n",
        "\n",
        "Converting it to datetime and extracting features allows the model to:\n",
        "\n",
        "Understand seasonal patterns (Month)\n",
        "\n",
        "Capture trends over time (Year)\n",
        "\n",
        "Detect weekly behavior (DayOfWeek)\n",
        "\n",
        "These numeric features can be used directly in models — no need for label or one-hot encoding."
      ],
      "metadata": {
        "id": "UDaue5h32n_G"
      }
    },
    {
      "cell_type": "markdown",
      "source": [
        "### 4. Textual Data Preprocessing\n",
        "(It's mandatory for textual dataset i.e., NLP, Sentiment Analysis, Text Clustering etc.)"
      ],
      "metadata": {
        "id": "Iwf50b-R2tYG"
      }
    },
    {
      "cell_type": "markdown",
      "source": [
        "#### 1. Expand Contraction"
      ],
      "metadata": {
        "id": "GMQiZwjn3iu7"
      }
    },
    {
      "cell_type": "code",
      "source": [
        "# Expand Contraction\n",
        "#creating a dummy text column just for demonstrating NLP steps\n",
        "\n",
        "remarks_list = [\n",
        "    \"Yes Bank's stock is rising\",\n",
        "    \"Investors aren't confident today\",\n",
        "    \"Shares didn't perform well\",\n",
        "    \"It's showing positive signs\",\n",
        "    \"Market trends won't be clear\"\n",
        "]\n",
        "\n",
        "#repeat and slice to match the exact length of your DataFrame\n",
        "stock_data['Remarks'] = (remarks_list * ((len(stock_data) // len(remarks_list)) + 1))[:len(stock_data)]\n",
        "stock_data = stock_data[:len(stock_data)]  # trim to original size\n",
        "\n",
        "!pip install contractions\n",
        "import contractions\n",
        "stock_data.loc[:, 'Remarks_expanded'] = stock_data['Remarks'].apply(lambda x: contractions.fix(x))#using.loc to avoid warning\n"
      ],
      "metadata": {
        "id": "PTouz10C3oNN",
        "colab": {
          "base_uri": "https://localhost:8080/"
        },
        "outputId": "d14a9e4e-1eee-4688-94ef-0ae2c411d979"
      },
      "execution_count": null,
      "outputs": [
        {
          "output_type": "stream",
          "name": "stdout",
          "text": [
            "Requirement already satisfied: contractions in /usr/local/lib/python3.11/dist-packages (0.1.73)\n",
            "Requirement already satisfied: textsearch>=0.0.21 in /usr/local/lib/python3.11/dist-packages (from contractions) (0.0.24)\n",
            "Requirement already satisfied: anyascii in /usr/local/lib/python3.11/dist-packages (from textsearch>=0.0.21->contractions) (0.3.2)\n",
            "Requirement already satisfied: pyahocorasick in /usr/local/lib/python3.11/dist-packages (from textsearch>=0.0.21->contractions) (2.2.0)\n"
          ]
        }
      ]
    },
    {
      "cell_type": "markdown",
      "source": [
        "#### 2. Lower Casing"
      ],
      "metadata": {
        "id": "WVIkgGqN3qsr"
      }
    },
    {
      "cell_type": "code",
      "source": [
        "# Lower Casing\n",
        "text_columns = stock_data.select_dtypes(include='object').columns\n",
        "\n",
        "for col in text_columns:\n",
        "    stock_data[col] = stock_data[col].astype(str).str.lower()\n"
      ],
      "metadata": {
        "id": "88JnJ1jN3w7j"
      },
      "execution_count": null,
      "outputs": []
    },
    {
      "cell_type": "markdown",
      "source": [
        "#### 3. Removing Punctuations"
      ],
      "metadata": {
        "id": "XkPnILGE3zoT"
      }
    },
    {
      "cell_type": "code",
      "source": [
        "# Remove Punctuations\n",
        "import string\n",
        "#text_columns include the columns with dtype object\n",
        "for col in text_columns:\n",
        "    stock_data[col] = stock_data[col].str.replace(f\"[{string.punctuation}]\", \"\", regex=True)"
      ],
      "metadata": {
        "id": "vqbBqNaA33c0"
      },
      "execution_count": null,
      "outputs": []
    },
    {
      "cell_type": "markdown",
      "source": [
        "#### 4. Removing URLs & Removing words and digits contain digits."
      ],
      "metadata": {
        "id": "Hlsf0x5436Go"
      }
    },
    {
      "cell_type": "code",
      "source": [
        "# Remove URLs & Remove words and digits contain digits\n",
        "#removing urls\n",
        "import re\n",
        "\n",
        "for col in text_columns:\n",
        "  stock_data[col] = stock_data[col].apply(lambda x: re.sub(r'http\\S+|www.\\S+', '', str(x)))\n",
        "#removing words contain digits\n",
        "for col in text_columns:\n",
        "  stock_data[col] = stock_data[col].apply(lambda x: re.sub(r'\\w*\\d\\w*', '', str(x)))\n",
        "#removing digits contain digits\n",
        "for col in text_columns:\n",
        "  stock_data[col] = stock_data[col].apply(lambda x: re.sub(r'\\d+', '', str(x)))"
      ],
      "metadata": {
        "id": "2sxKgKxu4Ip3"
      },
      "execution_count": null,
      "outputs": []
    },
    {
      "cell_type": "markdown",
      "source": [
        "#### 5. Removing Stopwords & Removing White spaces"
      ],
      "metadata": {
        "id": "mT9DMSJo4nBL"
      }
    },
    {
      "cell_type": "code",
      "source": [
        "# Remove Stopwords\n",
        "import nltk\n",
        "from nltk.corpus import stopwords\n",
        "from nltk.tokenize import word_tokenize\n",
        "\n",
        "# Download resources (run once)\n",
        "nltk.download('punkt_tab')\n",
        "nltk.download('punkt')\n",
        "nltk.download('stopwords')\n",
        "stop_words = set(stopwords.words('english'))\n",
        "\n",
        "def remove_stopwords(text):\n",
        "    words = word_tokenize(str(text))\n",
        "    filtered = [word for word in words if word.lower() not in stop_words]\n",
        "    return ' '.join(filtered)\n",
        "# Identify text columns\n",
        "text_columns = stock_data.select_dtypes(include='object').columns\n",
        "\n",
        "# Apply to each text column\n",
        "for col in text_columns:\n",
        "    stock_data[col + '_no_stopwords'] = stock_data[col].apply(remove_stopwords)\n"
      ],
      "metadata": {
        "id": "T2LSJh154s8W",
        "colab": {
          "base_uri": "https://localhost:8080/"
        },
        "outputId": "a621ff35-acb0-46e4-bc92-59824d837551"
      },
      "execution_count": null,
      "outputs": [
        {
          "output_type": "stream",
          "name": "stderr",
          "text": [
            "[nltk_data] Downloading package punkt_tab to /root/nltk_data...\n",
            "[nltk_data]   Package punkt_tab is already up-to-date!\n",
            "[nltk_data] Downloading package punkt to /root/nltk_data...\n",
            "[nltk_data]   Package punkt is already up-to-date!\n",
            "[nltk_data] Downloading package stopwords to /root/nltk_data...\n",
            "[nltk_data]   Package stopwords is already up-to-date!\n"
          ]
        }
      ]
    },
    {
      "cell_type": "code",
      "source": [
        "# Remove White spaces\n",
        "for col in text_columns:\n",
        "  stock_data[col] = stock_data[col].apply(lambda x: re.sub(r'\\s+', ' ', str(x)).strip())"
      ],
      "metadata": {
        "id": "EgLJGffy4vm0"
      },
      "execution_count": null,
      "outputs": []
    },
    {
      "cell_type": "markdown",
      "source": [
        "#### 6. Rephrase Text"
      ],
      "metadata": {
        "id": "c49ITxTc407N"
      }
    },
    {
      "cell_type": "code",
      "source": [
        "# Rephrase Text\n",
        "from transformers import pipeline\n",
        "\n",
        "#loading a rephrasing (paraphrasing) model\n",
        "paraphraser = pipeline(\"text2text-generation\", model=\"Vamsi/T5_Paraphrase_Paws\")\n",
        "\n",
        "#original sentence\n",
        "text = \"Yes Bank's stock is going up quickly.\"\n",
        "\n",
        "#rephrased output\n",
        "result = paraphraser(\"paraphrase: \" + text, max_length=60, do_sample=False)[0]['generated_text']\n",
        "print(result)"
      ],
      "metadata": {
        "id": "foqY80Qu48N2",
        "colab": {
          "base_uri": "https://localhost:8080/"
        },
        "outputId": "14f8acd6-5bd2-4ad3-c3c0-c901575ebb30"
      },
      "execution_count": null,
      "outputs": [
        {
          "output_type": "stream",
          "name": "stderr",
          "text": [
            "Device set to use cpu\n",
            "Both `max_new_tokens` (=256) and `max_length`(=60) seem to have been set. `max_new_tokens` will take precedence. Please refer to the documentation for more information. (https://huggingface.co/docs/transformers/main/en/main_classes/text_generation)\n"
          ]
        },
        {
          "output_type": "stream",
          "name": "stdout",
          "text": [
            "Yes, Bank's stock is going up quickly.\n"
          ]
        }
      ]
    },
    {
      "cell_type": "markdown",
      "source": [
        "#### 7. Tokenization"
      ],
      "metadata": {
        "id": "OeJFEK0N496M"
      }
    },
    {
      "cell_type": "code",
      "source": [
        "# Tokenization\n",
        "import nltk\n",
        "from nltk.tokenize import word_tokenize\n",
        "nltk.download('punkt')  #download tokenizer models\n",
        "#tokenizing\n",
        "for col in text_columns:\n",
        "  stock_data[col + '_tokens'] = stock_data[col].apply(lambda x: word_tokenize(str(x)))\n"
      ],
      "metadata": {
        "id": "ijx1rUOS5CUU",
        "colab": {
          "base_uri": "https://localhost:8080/"
        },
        "outputId": "ab7904d9-007b-47cd-f289-7a947e8d90f0"
      },
      "execution_count": null,
      "outputs": [
        {
          "output_type": "stream",
          "name": "stderr",
          "text": [
            "[nltk_data] Downloading package punkt to /root/nltk_data...\n",
            "[nltk_data]   Package punkt is already up-to-date!\n"
          ]
        }
      ]
    },
    {
      "cell_type": "markdown",
      "source": [
        "#### 8. Text Normalization"
      ],
      "metadata": {
        "id": "9ExmJH0g5HBk"
      }
    },
    {
      "cell_type": "code",
      "source": [
        "import nltk\n",
        "from nltk.tokenize import word_tokenize\n",
        "from nltk.stem import WordNetLemmatizer\n",
        "\n",
        "\n",
        "\n",
        "# Download required resources\n",
        "nltk.download('punkt', force=True)\n",
        "nltk.download('wordnet')\n",
        "nltk.download('omw-1.4')\n",
        "\n",
        "lemmatizer = WordNetLemmatizer()\n",
        "\n",
        "def lemmatize_text(text):\n",
        "    words = word_tokenize(str(text))\n",
        "    return ' '.join([lemmatizer.lemmatize(word) for word in words])\n",
        "\n",
        "# Apply to textual columns (if any)\n",
        "text_columns = stock_data.select_dtypes(include='object').columns\n",
        "\n",
        "for col in text_columns:\n",
        "    stock_data[col + '_lemmatized'] = stock_data[col].astype(str).apply(lemmatize_text)\n"
      ],
      "metadata": {
        "id": "AIJ1a-Zc5PY8",
        "colab": {
          "base_uri": "https://localhost:8080/"
        },
        "outputId": "557eb856-11d3-410b-f862-d0c55338abd0"
      },
      "execution_count": null,
      "outputs": [
        {
          "output_type": "stream",
          "name": "stderr",
          "text": [
            "[nltk_data] Downloading package punkt to /root/nltk_data...\n",
            "[nltk_data]   Unzipping tokenizers/punkt.zip.\n",
            "[nltk_data] Downloading package wordnet to /root/nltk_data...\n",
            "[nltk_data]   Package wordnet is already up-to-date!\n",
            "[nltk_data] Downloading package omw-1.4 to /root/nltk_data...\n",
            "[nltk_data]   Package omw-1.4 is already up-to-date!\n"
          ]
        }
      ]
    },
    {
      "cell_type": "markdown",
      "source": [
        "##### Which text normalization technique have you used and why?"
      ],
      "metadata": {
        "id": "cJNqERVU536h"
      }
    },
    {
      "cell_type": "markdown",
      "source": [
        "The normalization technique used here is Lemmatization. It is used by converting each word to its base form using grammar and dictionary rules. It was chosen over stemming because it retains real words and preserves semantic meaning, which is important for downstream analysis like sentiment detection and classification."
      ],
      "metadata": {
        "id": "Z9jKVxE06BC1"
      }
    },
    {
      "cell_type": "markdown",
      "source": [
        "#### 9. Part of speech tagging"
      ],
      "metadata": {
        "id": "k5UmGsbsOxih"
      }
    },
    {
      "cell_type": "code",
      "source": [
        "# POS Taging\n",
        "from nltk import pos_tag\n",
        "\n",
        "#ensuring necessary resources\n",
        "nltk.download('punkt')\n",
        "nltk.download('averaged_perceptron_tagger')\n",
        "nltk.download('all')\n",
        "\n",
        "#POS tagging function\n",
        "def pos_tag_text(text):\n",
        "    tokens = word_tokenize(str(text))\n",
        "    return pos_tag(tokens)\n",
        "\n",
        "#applying POS tagging to all text columns\n",
        "for col in text_columns:\n",
        "    stock_data[col + '_pos'] = stock_data[col].astype(str).apply(pos_tag_text)\n",
        "\n",
        "\n"
      ],
      "metadata": {
        "id": "btT3ZJBAO6Ik",
        "colab": {
          "base_uri": "https://localhost:8080/"
        },
        "outputId": "dee6b470-acd0-4ab7-be20-2b530834ee25"
      },
      "execution_count": null,
      "outputs": [
        {
          "output_type": "stream",
          "name": "stderr",
          "text": [
            "[nltk_data] Downloading package punkt to /root/nltk_data...\n",
            "[nltk_data]   Package punkt is already up-to-date!\n",
            "[nltk_data] Downloading package averaged_perceptron_tagger to\n",
            "[nltk_data]     /root/nltk_data...\n",
            "[nltk_data]   Package averaged_perceptron_tagger is already up-to-\n",
            "[nltk_data]       date!\n",
            "[nltk_data] Downloading collection 'all'\n",
            "[nltk_data]    | \n",
            "[nltk_data]    | Downloading package abc to /root/nltk_data...\n",
            "[nltk_data]    |   Package abc is already up-to-date!\n",
            "[nltk_data]    | Downloading package alpino to /root/nltk_data...\n",
            "[nltk_data]    |   Package alpino is already up-to-date!\n",
            "[nltk_data]    | Downloading package averaged_perceptron_tagger to\n",
            "[nltk_data]    |     /root/nltk_data...\n",
            "[nltk_data]    |   Package averaged_perceptron_tagger is already up-\n",
            "[nltk_data]    |       to-date!\n",
            "[nltk_data]    | Downloading package averaged_perceptron_tagger_eng to\n",
            "[nltk_data]    |     /root/nltk_data...\n",
            "[nltk_data]    |   Package averaged_perceptron_tagger_eng is already\n",
            "[nltk_data]    |       up-to-date!\n",
            "[nltk_data]    | Downloading package averaged_perceptron_tagger_ru to\n",
            "[nltk_data]    |     /root/nltk_data...\n",
            "[nltk_data]    |   Package averaged_perceptron_tagger_ru is already\n",
            "[nltk_data]    |       up-to-date!\n",
            "[nltk_data]    | Downloading package averaged_perceptron_tagger_rus to\n",
            "[nltk_data]    |     /root/nltk_data...\n",
            "[nltk_data]    |   Package averaged_perceptron_tagger_rus is already\n",
            "[nltk_data]    |       up-to-date!\n",
            "[nltk_data]    | Downloading package basque_grammars to\n",
            "[nltk_data]    |     /root/nltk_data...\n",
            "[nltk_data]    |   Package basque_grammars is already up-to-date!\n",
            "[nltk_data]    | Downloading package bcp47 to /root/nltk_data...\n",
            "[nltk_data]    |   Package bcp47 is already up-to-date!\n",
            "[nltk_data]    | Downloading package biocreative_ppi to\n",
            "[nltk_data]    |     /root/nltk_data...\n",
            "[nltk_data]    |   Package biocreative_ppi is already up-to-date!\n",
            "[nltk_data]    | Downloading package bllip_wsj_no_aux to\n",
            "[nltk_data]    |     /root/nltk_data...\n",
            "[nltk_data]    |   Package bllip_wsj_no_aux is already up-to-date!\n",
            "[nltk_data]    | Downloading package book_grammars to\n",
            "[nltk_data]    |     /root/nltk_data...\n",
            "[nltk_data]    |   Package book_grammars is already up-to-date!\n",
            "[nltk_data]    | Downloading package brown to /root/nltk_data...\n",
            "[nltk_data]    |   Package brown is already up-to-date!\n",
            "[nltk_data]    | Downloading package brown_tei to /root/nltk_data...\n",
            "[nltk_data]    |   Package brown_tei is already up-to-date!\n",
            "[nltk_data]    | Downloading package cess_cat to /root/nltk_data...\n",
            "[nltk_data]    |   Package cess_cat is already up-to-date!\n",
            "[nltk_data]    | Downloading package cess_esp to /root/nltk_data...\n",
            "[nltk_data]    |   Package cess_esp is already up-to-date!\n",
            "[nltk_data]    | Downloading package chat80 to /root/nltk_data...\n",
            "[nltk_data]    |   Package chat80 is already up-to-date!\n",
            "[nltk_data]    | Downloading package city_database to\n",
            "[nltk_data]    |     /root/nltk_data...\n",
            "[nltk_data]    |   Package city_database is already up-to-date!\n",
            "[nltk_data]    | Downloading package cmudict to /root/nltk_data...\n",
            "[nltk_data]    |   Package cmudict is already up-to-date!\n",
            "[nltk_data]    | Downloading package comparative_sentences to\n",
            "[nltk_data]    |     /root/nltk_data...\n",
            "[nltk_data]    |   Package comparative_sentences is already up-to-\n",
            "[nltk_data]    |       date!\n",
            "[nltk_data]    | Downloading package comtrans to /root/nltk_data...\n",
            "[nltk_data]    |   Package comtrans is already up-to-date!\n",
            "[nltk_data]    | Downloading package conll2000 to /root/nltk_data...\n",
            "[nltk_data]    |   Package conll2000 is already up-to-date!\n",
            "[nltk_data]    | Downloading package conll2002 to /root/nltk_data...\n",
            "[nltk_data]    |   Package conll2002 is already up-to-date!\n",
            "[nltk_data]    | Downloading package conll2007 to /root/nltk_data...\n",
            "[nltk_data]    |   Package conll2007 is already up-to-date!\n",
            "[nltk_data]    | Downloading package crubadan to /root/nltk_data...\n",
            "[nltk_data]    |   Package crubadan is already up-to-date!\n",
            "[nltk_data]    | Downloading package dependency_treebank to\n",
            "[nltk_data]    |     /root/nltk_data...\n",
            "[nltk_data]    |   Package dependency_treebank is already up-to-date!\n",
            "[nltk_data]    | Downloading package dolch to /root/nltk_data...\n",
            "[nltk_data]    |   Package dolch is already up-to-date!\n",
            "[nltk_data]    | Downloading package english_wordnet to\n",
            "[nltk_data]    |     /root/nltk_data...\n",
            "[nltk_data]    |   Package english_wordnet is already up-to-date!\n",
            "[nltk_data]    | Downloading package europarl_raw to\n",
            "[nltk_data]    |     /root/nltk_data...\n",
            "[nltk_data]    |   Package europarl_raw is already up-to-date!\n",
            "[nltk_data]    | Downloading package extended_omw to\n",
            "[nltk_data]    |     /root/nltk_data...\n",
            "[nltk_data]    |   Package extended_omw is already up-to-date!\n",
            "[nltk_data]    | Downloading package floresta to /root/nltk_data...\n",
            "[nltk_data]    |   Package floresta is already up-to-date!\n",
            "[nltk_data]    | Downloading package framenet_v15 to\n",
            "[nltk_data]    |     /root/nltk_data...\n",
            "[nltk_data]    |   Package framenet_v15 is already up-to-date!\n",
            "[nltk_data]    | Downloading package framenet_v17 to\n",
            "[nltk_data]    |     /root/nltk_data...\n",
            "[nltk_data]    |   Package framenet_v17 is already up-to-date!\n",
            "[nltk_data]    | Downloading package gazetteers to /root/nltk_data...\n",
            "[nltk_data]    |   Package gazetteers is already up-to-date!\n",
            "[nltk_data]    | Downloading package genesis to /root/nltk_data...\n",
            "[nltk_data]    |   Package genesis is already up-to-date!\n",
            "[nltk_data]    | Downloading package gutenberg to /root/nltk_data...\n",
            "[nltk_data]    |   Package gutenberg is already up-to-date!\n",
            "[nltk_data]    | Downloading package ieer to /root/nltk_data...\n",
            "[nltk_data]    |   Package ieer is already up-to-date!\n",
            "[nltk_data]    | Downloading package inaugural to /root/nltk_data...\n",
            "[nltk_data]    |   Package inaugural is already up-to-date!\n",
            "[nltk_data]    | Downloading package indian to /root/nltk_data...\n",
            "[nltk_data]    |   Package indian is already up-to-date!\n",
            "[nltk_data]    | Downloading package jeita to /root/nltk_data...\n",
            "[nltk_data]    |   Package jeita is already up-to-date!\n",
            "[nltk_data]    | Downloading package kimmo to /root/nltk_data...\n",
            "[nltk_data]    |   Package kimmo is already up-to-date!\n",
            "[nltk_data]    | Downloading package knbc to /root/nltk_data...\n",
            "[nltk_data]    |   Package knbc is already up-to-date!\n",
            "[nltk_data]    | Downloading package large_grammars to\n",
            "[nltk_data]    |     /root/nltk_data...\n",
            "[nltk_data]    |   Package large_grammars is already up-to-date!\n",
            "[nltk_data]    | Downloading package lin_thesaurus to\n",
            "[nltk_data]    |     /root/nltk_data...\n",
            "[nltk_data]    |   Package lin_thesaurus is already up-to-date!\n",
            "[nltk_data]    | Downloading package mac_morpho to /root/nltk_data...\n",
            "[nltk_data]    |   Package mac_morpho is already up-to-date!\n",
            "[nltk_data]    | Downloading package machado to /root/nltk_data...\n",
            "[nltk_data]    |   Package machado is already up-to-date!\n",
            "[nltk_data]    | Downloading package masc_tagged to /root/nltk_data...\n",
            "[nltk_data]    |   Package masc_tagged is already up-to-date!\n",
            "[nltk_data]    | Downloading package maxent_ne_chunker to\n",
            "[nltk_data]    |     /root/nltk_data...\n",
            "[nltk_data]    |   Package maxent_ne_chunker is already up-to-date!\n",
            "[nltk_data]    | Downloading package maxent_ne_chunker_tab to\n",
            "[nltk_data]    |     /root/nltk_data...\n",
            "[nltk_data]    |   Package maxent_ne_chunker_tab is already up-to-\n",
            "[nltk_data]    |       date!\n",
            "[nltk_data]    | Downloading package maxent_treebank_pos_tagger to\n",
            "[nltk_data]    |     /root/nltk_data...\n",
            "[nltk_data]    |   Package maxent_treebank_pos_tagger is already up-\n",
            "[nltk_data]    |       to-date!\n",
            "[nltk_data]    | Downloading package maxent_treebank_pos_tagger_tab to\n",
            "[nltk_data]    |     /root/nltk_data...\n",
            "[nltk_data]    |   Package maxent_treebank_pos_tagger_tab is already\n",
            "[nltk_data]    |       up-to-date!\n",
            "[nltk_data]    | Downloading package moses_sample to\n",
            "[nltk_data]    |     /root/nltk_data...\n",
            "[nltk_data]    |   Package moses_sample is already up-to-date!\n",
            "[nltk_data]    | Downloading package movie_reviews to\n",
            "[nltk_data]    |     /root/nltk_data...\n",
            "[nltk_data]    |   Package movie_reviews is already up-to-date!\n",
            "[nltk_data]    | Downloading package mte_teip5 to /root/nltk_data...\n",
            "[nltk_data]    |   Package mte_teip5 is already up-to-date!\n",
            "[nltk_data]    | Downloading package mwa_ppdb to /root/nltk_data...\n",
            "[nltk_data]    |   Package mwa_ppdb is already up-to-date!\n",
            "[nltk_data]    | Downloading package names to /root/nltk_data...\n",
            "[nltk_data]    |   Package names is already up-to-date!\n",
            "[nltk_data]    | Downloading package nombank.1.0 to /root/nltk_data...\n",
            "[nltk_data]    |   Package nombank.1.0 is already up-to-date!\n",
            "[nltk_data]    | Downloading package nonbreaking_prefixes to\n",
            "[nltk_data]    |     /root/nltk_data...\n",
            "[nltk_data]    |   Package nonbreaking_prefixes is already up-to-date!\n",
            "[nltk_data]    | Downloading package nps_chat to /root/nltk_data...\n",
            "[nltk_data]    |   Package nps_chat is already up-to-date!\n",
            "[nltk_data]    | Downloading package omw to /root/nltk_data...\n",
            "[nltk_data]    |   Package omw is already up-to-date!\n",
            "[nltk_data]    | Downloading package omw-1.4 to /root/nltk_data...\n",
            "[nltk_data]    |   Package omw-1.4 is already up-to-date!\n",
            "[nltk_data]    | Downloading package opinion_lexicon to\n",
            "[nltk_data]    |     /root/nltk_data...\n",
            "[nltk_data]    |   Package opinion_lexicon is already up-to-date!\n",
            "[nltk_data]    | Downloading package panlex_swadesh to\n",
            "[nltk_data]    |     /root/nltk_data...\n",
            "[nltk_data]    |   Package panlex_swadesh is already up-to-date!\n",
            "[nltk_data]    | Downloading package paradigms to /root/nltk_data...\n",
            "[nltk_data]    |   Package paradigms is already up-to-date!\n",
            "[nltk_data]    | Downloading package pe08 to /root/nltk_data...\n",
            "[nltk_data]    |   Package pe08 is already up-to-date!\n",
            "[nltk_data]    | Downloading package perluniprops to\n",
            "[nltk_data]    |     /root/nltk_data...\n",
            "[nltk_data]    |   Package perluniprops is already up-to-date!\n",
            "[nltk_data]    | Downloading package pil to /root/nltk_data...\n",
            "[nltk_data]    |   Package pil is already up-to-date!\n",
            "[nltk_data]    | Downloading package pl196x to /root/nltk_data...\n",
            "[nltk_data]    |   Package pl196x is already up-to-date!\n",
            "[nltk_data]    | Downloading package porter_test to /root/nltk_data...\n",
            "[nltk_data]    |   Package porter_test is already up-to-date!\n",
            "[nltk_data]    | Downloading package ppattach to /root/nltk_data...\n",
            "[nltk_data]    |   Package ppattach is already up-to-date!\n",
            "[nltk_data]    | Downloading package problem_reports to\n",
            "[nltk_data]    |     /root/nltk_data...\n",
            "[nltk_data]    |   Package problem_reports is already up-to-date!\n",
            "[nltk_data]    | Downloading package product_reviews_1 to\n",
            "[nltk_data]    |     /root/nltk_data...\n",
            "[nltk_data]    |   Package product_reviews_1 is already up-to-date!\n",
            "[nltk_data]    | Downloading package product_reviews_2 to\n",
            "[nltk_data]    |     /root/nltk_data...\n",
            "[nltk_data]    |   Package product_reviews_2 is already up-to-date!\n",
            "[nltk_data]    | Downloading package propbank to /root/nltk_data...\n",
            "[nltk_data]    |   Package propbank is already up-to-date!\n",
            "[nltk_data]    | Downloading package pros_cons to /root/nltk_data...\n",
            "[nltk_data]    |   Package pros_cons is already up-to-date!\n",
            "[nltk_data]    | Downloading package ptb to /root/nltk_data...\n",
            "[nltk_data]    |   Package ptb is already up-to-date!\n",
            "[nltk_data]    | Downloading package punkt to /root/nltk_data...\n",
            "[nltk_data]    |   Package punkt is already up-to-date!\n",
            "[nltk_data]    | Downloading package punkt_tab to /root/nltk_data...\n",
            "[nltk_data]    |   Package punkt_tab is already up-to-date!\n",
            "[nltk_data]    | Downloading package qc to /root/nltk_data...\n",
            "[nltk_data]    |   Package qc is already up-to-date!\n",
            "[nltk_data]    | Downloading package reuters to /root/nltk_data...\n",
            "[nltk_data]    |   Package reuters is already up-to-date!\n",
            "[nltk_data]    | Downloading package rslp to /root/nltk_data...\n",
            "[nltk_data]    |   Package rslp is already up-to-date!\n",
            "[nltk_data]    | Downloading package rte to /root/nltk_data...\n",
            "[nltk_data]    |   Package rte is already up-to-date!\n",
            "[nltk_data]    | Downloading package sample_grammars to\n",
            "[nltk_data]    |     /root/nltk_data...\n",
            "[nltk_data]    |   Package sample_grammars is already up-to-date!\n",
            "[nltk_data]    | Downloading package semcor to /root/nltk_data...\n",
            "[nltk_data]    |   Package semcor is already up-to-date!\n",
            "[nltk_data]    | Downloading package senseval to /root/nltk_data...\n",
            "[nltk_data]    |   Package senseval is already up-to-date!\n",
            "[nltk_data]    | Downloading package sentence_polarity to\n",
            "[nltk_data]    |     /root/nltk_data...\n",
            "[nltk_data]    |   Package sentence_polarity is already up-to-date!\n",
            "[nltk_data]    | Downloading package sentiwordnet to\n",
            "[nltk_data]    |     /root/nltk_data...\n",
            "[nltk_data]    |   Package sentiwordnet is already up-to-date!\n",
            "[nltk_data]    | Downloading package shakespeare to /root/nltk_data...\n",
            "[nltk_data]    |   Package shakespeare is already up-to-date!\n",
            "[nltk_data]    | Downloading package sinica_treebank to\n",
            "[nltk_data]    |     /root/nltk_data...\n",
            "[nltk_data]    |   Package sinica_treebank is already up-to-date!\n",
            "[nltk_data]    | Downloading package smultron to /root/nltk_data...\n",
            "[nltk_data]    |   Package smultron is already up-to-date!\n",
            "[nltk_data]    | Downloading package snowball_data to\n",
            "[nltk_data]    |     /root/nltk_data...\n",
            "[nltk_data]    |   Package snowball_data is already up-to-date!\n",
            "[nltk_data]    | Downloading package spanish_grammars to\n",
            "[nltk_data]    |     /root/nltk_data...\n",
            "[nltk_data]    |   Package spanish_grammars is already up-to-date!\n",
            "[nltk_data]    | Downloading package state_union to /root/nltk_data...\n",
            "[nltk_data]    |   Package state_union is already up-to-date!\n",
            "[nltk_data]    | Downloading package stopwords to /root/nltk_data...\n",
            "[nltk_data]    |   Package stopwords is already up-to-date!\n",
            "[nltk_data]    | Downloading package subjectivity to\n",
            "[nltk_data]    |     /root/nltk_data...\n",
            "[nltk_data]    |   Package subjectivity is already up-to-date!\n",
            "[nltk_data]    | Downloading package swadesh to /root/nltk_data...\n",
            "[nltk_data]    |   Package swadesh is already up-to-date!\n",
            "[nltk_data]    | Downloading package switchboard to /root/nltk_data...\n",
            "[nltk_data]    |   Package switchboard is already up-to-date!\n",
            "[nltk_data]    | Downloading package tagsets to /root/nltk_data...\n",
            "[nltk_data]    |   Package tagsets is already up-to-date!\n",
            "[nltk_data]    | Downloading package tagsets_json to\n",
            "[nltk_data]    |     /root/nltk_data...\n",
            "[nltk_data]    |   Package tagsets_json is already up-to-date!\n",
            "[nltk_data]    | Downloading package timit to /root/nltk_data...\n",
            "[nltk_data]    |   Package timit is already up-to-date!\n",
            "[nltk_data]    | Downloading package toolbox to /root/nltk_data...\n",
            "[nltk_data]    |   Package toolbox is already up-to-date!\n",
            "[nltk_data]    | Downloading package treebank to /root/nltk_data...\n",
            "[nltk_data]    |   Package treebank is already up-to-date!\n",
            "[nltk_data]    | Downloading package twitter_samples to\n",
            "[nltk_data]    |     /root/nltk_data...\n",
            "[nltk_data]    |   Package twitter_samples is already up-to-date!\n",
            "[nltk_data]    | Downloading package udhr to /root/nltk_data...\n",
            "[nltk_data]    |   Package udhr is already up-to-date!\n",
            "[nltk_data]    | Downloading package udhr2 to /root/nltk_data...\n",
            "[nltk_data]    |   Package udhr2 is already up-to-date!\n",
            "[nltk_data]    | Downloading package unicode_samples to\n",
            "[nltk_data]    |     /root/nltk_data...\n",
            "[nltk_data]    |   Package unicode_samples is already up-to-date!\n",
            "[nltk_data]    | Downloading package universal_tagset to\n",
            "[nltk_data]    |     /root/nltk_data...\n",
            "[nltk_data]    |   Package universal_tagset is already up-to-date!\n",
            "[nltk_data]    | Downloading package universal_treebanks_v20 to\n",
            "[nltk_data]    |     /root/nltk_data...\n",
            "[nltk_data]    |   Package universal_treebanks_v20 is already up-to-\n",
            "[nltk_data]    |       date!\n",
            "[nltk_data]    | Downloading package vader_lexicon to\n",
            "[nltk_data]    |     /root/nltk_data...\n",
            "[nltk_data]    |   Package vader_lexicon is already up-to-date!\n",
            "[nltk_data]    | Downloading package verbnet to /root/nltk_data...\n",
            "[nltk_data]    |   Package verbnet is already up-to-date!\n",
            "[nltk_data]    | Downloading package verbnet3 to /root/nltk_data...\n",
            "[nltk_data]    |   Package verbnet3 is already up-to-date!\n",
            "[nltk_data]    | Downloading package webtext to /root/nltk_data...\n",
            "[nltk_data]    |   Package webtext is already up-to-date!\n",
            "[nltk_data]    | Downloading package wmt15_eval to /root/nltk_data...\n",
            "[nltk_data]    |   Package wmt15_eval is already up-to-date!\n",
            "[nltk_data]    | Downloading package word2vec_sample to\n",
            "[nltk_data]    |     /root/nltk_data...\n",
            "[nltk_data]    |   Package word2vec_sample is already up-to-date!\n",
            "[nltk_data]    | Downloading package wordnet to /root/nltk_data...\n",
            "[nltk_data]    |   Package wordnet is already up-to-date!\n",
            "[nltk_data]    | Downloading package wordnet2021 to /root/nltk_data...\n",
            "[nltk_data]    |   Package wordnet2021 is already up-to-date!\n",
            "[nltk_data]    | Downloading package wordnet2022 to /root/nltk_data...\n",
            "[nltk_data]    |   Package wordnet2022 is already up-to-date!\n",
            "[nltk_data]    | Downloading package wordnet31 to /root/nltk_data...\n",
            "[nltk_data]    |   Package wordnet31 is already up-to-date!\n",
            "[nltk_data]    | Downloading package wordnet_ic to /root/nltk_data...\n",
            "[nltk_data]    |   Package wordnet_ic is already up-to-date!\n",
            "[nltk_data]    | Downloading package words to /root/nltk_data...\n",
            "[nltk_data]    |   Package words is already up-to-date!\n",
            "[nltk_data]    | Downloading package ycoe to /root/nltk_data...\n",
            "[nltk_data]    |   Package ycoe is already up-to-date!\n",
            "[nltk_data]    | \n",
            "[nltk_data]  Done downloading collection all\n"
          ]
        }
      ]
    },
    {
      "cell_type": "markdown",
      "source": [
        "#### 10. Text Vectorization"
      ],
      "metadata": {
        "id": "T0VqWOYE6DLQ"
      }
    },
    {
      "cell_type": "code",
      "source": [
        "# Vectorizing Text\n",
        "\n",
        "\n",
        "from sklearn.feature_extraction.text import TfidfVectorizer\n",
        "#loop through object-type columns\n",
        "for text_column in stock_data.select_dtypes(include='object').columns:\n",
        "    sample = stock_data[text_column].dropna().astype(str).head(5)\n",
        "\n",
        "    #checking if column looks like real text (contains spaces)\n",
        "    if sample.str.contains(r'\\s+').any():\n",
        "        print(f\"✅ '{text_column}' seems like a text column. Applying TF-IDF...\")\n",
        "\n",
        "        #vectorize\n",
        "        tfidf = TfidfVectorizer(max_features=100)  # limit features if many\n",
        "        tfidf_matrix = tfidf.fit_transform(stock_data[text_column].fillna('').astype(str))\n",
        "\n",
        "        #convert to DataFrame\n",
        "        tfidf_df = pd.DataFrame(tfidf_matrix.toarray(), columns=[f\"{text_column}_{w}\" for w in tfidf.get_feature_names_out()])\n",
        "\n",
        "        #merge\n",
        "        stock_data = pd.concat([stock_data.reset_index(drop=True), tfidf_df], axis=1)\n",
        "\n",
        "    else:\n",
        "        print(f\"⚠️ '{text_column}' does not appear to be natural language. Skipping.\")\n",
        "\n"
      ],
      "metadata": {
        "id": "yBRtdhth6JDE",
        "colab": {
          "base_uri": "https://localhost:8080/"
        },
        "outputId": "615bca0b-16a0-43f9-ae4e-99a68a77a04b"
      },
      "execution_count": null,
      "outputs": [
        {
          "output_type": "stream",
          "name": "stdout",
          "text": [
            "✅ 'Remarks' seems like a text column. Applying TF-IDF...\n",
            "✅ 'Remarks_expanded' seems like a text column. Applying TF-IDF...\n",
            "✅ 'Remarks_no_stopwords' seems like a text column. Applying TF-IDF...\n",
            "✅ 'Remarks_expanded_no_stopwords' seems like a text column. Applying TF-IDF...\n",
            "✅ 'Remarks_tokens' seems like a text column. Applying TF-IDF...\n",
            "✅ 'Remarks_expanded_tokens' seems like a text column. Applying TF-IDF...\n",
            "✅ 'Remarks_lemmatized' seems like a text column. Applying TF-IDF...\n",
            "✅ 'Remarks_expanded_lemmatized' seems like a text column. Applying TF-IDF...\n",
            "✅ 'Remarks_no_stopwords_lemmatized' seems like a text column. Applying TF-IDF...\n",
            "✅ 'Remarks_expanded_no_stopwords_lemmatized' seems like a text column. Applying TF-IDF...\n",
            "✅ 'Remarks_tokens_lemmatized' seems like a text column. Applying TF-IDF...\n",
            "✅ 'Remarks_expanded_tokens_lemmatized' seems like a text column. Applying TF-IDF...\n",
            "✅ 'Remarks_pos' seems like a text column. Applying TF-IDF...\n",
            "✅ 'Remarks_expanded_pos' seems like a text column. Applying TF-IDF...\n",
            "✅ 'Remarks_no_stopwords_pos' seems like a text column. Applying TF-IDF...\n",
            "✅ 'Remarks_expanded_no_stopwords_pos' seems like a text column. Applying TF-IDF...\n",
            "✅ 'Remarks_tokens_pos' seems like a text column. Applying TF-IDF...\n",
            "✅ 'Remarks_expanded_tokens_pos' seems like a text column. Applying TF-IDF...\n"
          ]
        }
      ]
    },
    {
      "cell_type": "markdown",
      "source": [
        "##### Which text vectorization technique have you used and why?"
      ],
      "metadata": {
        "id": "qBMux9mC6MCf"
      }
    },
    {
      "cell_type": "markdown",
      "source": [
        "TF-IDF (Term Frequency-Inverse Document Frequency) .\n",
        "Why used:\n",
        "It converts text into meaningful numeric features for ML models.\n",
        "\n",
        "1. It downweights common words like \"the\" or \"stock\", which don't carry much meaning.\n",
        "\n",
        "2. It's more informative than simple word counts (Bag-of-Words).\n",
        "\n",
        "3. It's simple, interpretable, and works well when you have limited data."
      ],
      "metadata": {
        "id": "su2EnbCh6UKQ"
      }
    },
    {
      "cell_type": "markdown",
      "source": [
        "### 4. Feature Manipulation & Selection"
      ],
      "metadata": {
        "id": "-oLEiFgy-5Pf"
      }
    },
    {
      "cell_type": "markdown",
      "source": [
        "#### 1. Feature Manipulation"
      ],
      "metadata": {
        "id": "C74aWNz2AliB"
      }
    },
    {
      "cell_type": "code",
      "source": [
        "# Manipulate Features to minimize feature correlation and create new features\n",
        "print(stock_data.columns.tolist())\n",
        "\n",
        "#selecting numeric columns\n",
        "numeric_cols = stock_data.select_dtypes(include='number')\n",
        "\n",
        "#adding new features\n",
        "#Price range(volatility proxy)\n",
        "# Add new features only if 'Open' is present\n",
        "if 'Open' in stock_data.columns:\n",
        "    stock_data['Average_Price'] = (stock_data['Open'] + stock_data['Close']) / 2\n",
        "    stock_data['Movement'] = stock_data['Close'] - stock_data['Open']\n",
        "else:\n",
        "    # Handle case where 'Open' is removed\n",
        "    stock_data['Average_Price'] = stock_data['Close']\n",
        "    stock_data['Movement'] = 0  # or just skip this column\n",
        "\n",
        "# Price range (always safe)\n",
        "stock_data['Price_Range'] = stock_data['High'] - stock_data['Low']\n",
        "\n",
        "\n"
      ],
      "metadata": {
        "id": "h1qC4yhBApWC",
        "colab": {
          "base_uri": "https://localhost:8080/"
        },
        "outputId": "9eec0825-1f17-426a-d8c1-ae0f7d12dc10"
      },
      "execution_count": null,
      "outputs": [
        {
          "output_type": "stream",
          "name": "stdout",
          "text": [
            "['Date', 'Open', 'High', 'Low', 'Close', 'Volatility', 'Year', 'Month', 'DayOfWeek', 'Remarks', 'Remarks_expanded', 'Remarks_no_stopwords', 'Remarks_expanded_no_stopwords', 'Remarks_tokens', 'Remarks_expanded_tokens', 'Remarks_lemmatized', 'Remarks_expanded_lemmatized', 'Remarks_no_stopwords_lemmatized', 'Remarks_expanded_no_stopwords_lemmatized', 'Remarks_tokens_lemmatized', 'Remarks_expanded_tokens_lemmatized', 'Remarks_pos', 'Remarks_expanded_pos', 'Remarks_no_stopwords_pos', 'Remarks_expanded_no_stopwords_pos', 'Remarks_tokens_pos', 'Remarks_expanded_tokens_pos', 'Remarks_arent', 'Remarks_banks', 'Remarks_be', 'Remarks_clear', 'Remarks_confident', 'Remarks_didnt', 'Remarks_investors', 'Remarks_is', 'Remarks_its', 'Remarks_market', 'Remarks_perform', 'Remarks_positive', 'Remarks_rising', 'Remarks_shares', 'Remarks_showing', 'Remarks_signs', 'Remarks_stock', 'Remarks_today', 'Remarks_trends', 'Remarks_well', 'Remarks_wont', 'Remarks_yes', 'Remarks_expanded_are', 'Remarks_expanded_banks', 'Remarks_expanded_be', 'Remarks_expanded_clear', 'Remarks_expanded_confident', 'Remarks_expanded_did', 'Remarks_expanded_investors', 'Remarks_expanded_is', 'Remarks_expanded_it', 'Remarks_expanded_market', 'Remarks_expanded_not', 'Remarks_expanded_perform', 'Remarks_expanded_positive', 'Remarks_expanded_rising', 'Remarks_expanded_shares', 'Remarks_expanded_showing', 'Remarks_expanded_signs', 'Remarks_expanded_stock', 'Remarks_expanded_today', 'Remarks_expanded_trends', 'Remarks_expanded_well', 'Remarks_expanded_will', 'Remarks_expanded_yes', 'Remarks_no_stopwords_arent', 'Remarks_no_stopwords_banks', 'Remarks_no_stopwords_clear', 'Remarks_no_stopwords_confident', 'Remarks_no_stopwords_didnt', 'Remarks_no_stopwords_investors', 'Remarks_no_stopwords_market', 'Remarks_no_stopwords_perform', 'Remarks_no_stopwords_positive', 'Remarks_no_stopwords_rising', 'Remarks_no_stopwords_shares', 'Remarks_no_stopwords_showing', 'Remarks_no_stopwords_signs', 'Remarks_no_stopwords_stock', 'Remarks_no_stopwords_today', 'Remarks_no_stopwords_trends', 'Remarks_no_stopwords_well', 'Remarks_no_stopwords_wont', 'Remarks_no_stopwords_yes', 'Remarks_expanded_no_stopwords_banks', 'Remarks_expanded_no_stopwords_clear', 'Remarks_expanded_no_stopwords_confident', 'Remarks_expanded_no_stopwords_investors', 'Remarks_expanded_no_stopwords_market', 'Remarks_expanded_no_stopwords_perform', 'Remarks_expanded_no_stopwords_positive', 'Remarks_expanded_no_stopwords_rising', 'Remarks_expanded_no_stopwords_shares', 'Remarks_expanded_no_stopwords_showing', 'Remarks_expanded_no_stopwords_signs', 'Remarks_expanded_no_stopwords_stock', 'Remarks_expanded_no_stopwords_today', 'Remarks_expanded_no_stopwords_trends', 'Remarks_expanded_no_stopwords_well', 'Remarks_expanded_no_stopwords_yes', 'Remarks_tokens_arent', 'Remarks_tokens_banks', 'Remarks_tokens_be', 'Remarks_tokens_clear', 'Remarks_tokens_confident', 'Remarks_tokens_didnt', 'Remarks_tokens_investors', 'Remarks_tokens_is', 'Remarks_tokens_its', 'Remarks_tokens_market', 'Remarks_tokens_perform', 'Remarks_tokens_positive', 'Remarks_tokens_rising', 'Remarks_tokens_shares', 'Remarks_tokens_showing', 'Remarks_tokens_signs', 'Remarks_tokens_stock', 'Remarks_tokens_today', 'Remarks_tokens_trends', 'Remarks_tokens_well', 'Remarks_tokens_wont', 'Remarks_tokens_yes', 'Remarks_expanded_tokens_are', 'Remarks_expanded_tokens_banks', 'Remarks_expanded_tokens_be', 'Remarks_expanded_tokens_clear', 'Remarks_expanded_tokens_confident', 'Remarks_expanded_tokens_did', 'Remarks_expanded_tokens_investors', 'Remarks_expanded_tokens_is', 'Remarks_expanded_tokens_it', 'Remarks_expanded_tokens_market', 'Remarks_expanded_tokens_not', 'Remarks_expanded_tokens_perform', 'Remarks_expanded_tokens_positive', 'Remarks_expanded_tokens_rising', 'Remarks_expanded_tokens_shares', 'Remarks_expanded_tokens_showing', 'Remarks_expanded_tokens_signs', 'Remarks_expanded_tokens_stock', 'Remarks_expanded_tokens_today', 'Remarks_expanded_tokens_trends', 'Remarks_expanded_tokens_well', 'Remarks_expanded_tokens_will', 'Remarks_expanded_tokens_yes', 'Remarks_lemmatized_arent', 'Remarks_lemmatized_bank', 'Remarks_lemmatized_be', 'Remarks_lemmatized_clear', 'Remarks_lemmatized_confident', 'Remarks_lemmatized_didnt', 'Remarks_lemmatized_investor', 'Remarks_lemmatized_is', 'Remarks_lemmatized_it', 'Remarks_lemmatized_market', 'Remarks_lemmatized_perform', 'Remarks_lemmatized_positive', 'Remarks_lemmatized_rising', 'Remarks_lemmatized_share', 'Remarks_lemmatized_showing', 'Remarks_lemmatized_sign', 'Remarks_lemmatized_stock', 'Remarks_lemmatized_today', 'Remarks_lemmatized_trend', 'Remarks_lemmatized_well', 'Remarks_lemmatized_wont', 'Remarks_lemmatized_yes', 'Remarks_expanded_lemmatized_are', 'Remarks_expanded_lemmatized_bank', 'Remarks_expanded_lemmatized_be', 'Remarks_expanded_lemmatized_clear', 'Remarks_expanded_lemmatized_confident', 'Remarks_expanded_lemmatized_did', 'Remarks_expanded_lemmatized_investor', 'Remarks_expanded_lemmatized_is', 'Remarks_expanded_lemmatized_it', 'Remarks_expanded_lemmatized_market', 'Remarks_expanded_lemmatized_not', 'Remarks_expanded_lemmatized_perform', 'Remarks_expanded_lemmatized_positive', 'Remarks_expanded_lemmatized_rising', 'Remarks_expanded_lemmatized_share', 'Remarks_expanded_lemmatized_showing', 'Remarks_expanded_lemmatized_sign', 'Remarks_expanded_lemmatized_stock', 'Remarks_expanded_lemmatized_today', 'Remarks_expanded_lemmatized_trend', 'Remarks_expanded_lemmatized_well', 'Remarks_expanded_lemmatized_will', 'Remarks_expanded_lemmatized_yes', 'Remarks_no_stopwords_lemmatized_arent', 'Remarks_no_stopwords_lemmatized_bank', 'Remarks_no_stopwords_lemmatized_clear', 'Remarks_no_stopwords_lemmatized_confident', 'Remarks_no_stopwords_lemmatized_didnt', 'Remarks_no_stopwords_lemmatized_investor', 'Remarks_no_stopwords_lemmatized_market', 'Remarks_no_stopwords_lemmatized_perform', 'Remarks_no_stopwords_lemmatized_positive', 'Remarks_no_stopwords_lemmatized_rising', 'Remarks_no_stopwords_lemmatized_share', 'Remarks_no_stopwords_lemmatized_showing', 'Remarks_no_stopwords_lemmatized_sign', 'Remarks_no_stopwords_lemmatized_stock', 'Remarks_no_stopwords_lemmatized_today', 'Remarks_no_stopwords_lemmatized_trend', 'Remarks_no_stopwords_lemmatized_well', 'Remarks_no_stopwords_lemmatized_wont', 'Remarks_no_stopwords_lemmatized_yes', 'Remarks_expanded_no_stopwords_lemmatized_bank', 'Remarks_expanded_no_stopwords_lemmatized_clear', 'Remarks_expanded_no_stopwords_lemmatized_confident', 'Remarks_expanded_no_stopwords_lemmatized_investor', 'Remarks_expanded_no_stopwords_lemmatized_market', 'Remarks_expanded_no_stopwords_lemmatized_perform', 'Remarks_expanded_no_stopwords_lemmatized_positive', 'Remarks_expanded_no_stopwords_lemmatized_rising', 'Remarks_expanded_no_stopwords_lemmatized_share', 'Remarks_expanded_no_stopwords_lemmatized_showing', 'Remarks_expanded_no_stopwords_lemmatized_sign', 'Remarks_expanded_no_stopwords_lemmatized_stock', 'Remarks_expanded_no_stopwords_lemmatized_today', 'Remarks_expanded_no_stopwords_lemmatized_trend', 'Remarks_expanded_no_stopwords_lemmatized_well', 'Remarks_expanded_no_stopwords_lemmatized_yes', 'Remarks_tokens_lemmatized_arent', 'Remarks_tokens_lemmatized_banks', 'Remarks_tokens_lemmatized_be', 'Remarks_tokens_lemmatized_clear', 'Remarks_tokens_lemmatized_confident', 'Remarks_tokens_lemmatized_didnt', 'Remarks_tokens_lemmatized_investors', 'Remarks_tokens_lemmatized_is', 'Remarks_tokens_lemmatized_its', 'Remarks_tokens_lemmatized_market', 'Remarks_tokens_lemmatized_perform', 'Remarks_tokens_lemmatized_positive', 'Remarks_tokens_lemmatized_rising', 'Remarks_tokens_lemmatized_shares', 'Remarks_tokens_lemmatized_showing', 'Remarks_tokens_lemmatized_signs', 'Remarks_tokens_lemmatized_stock', 'Remarks_tokens_lemmatized_today', 'Remarks_tokens_lemmatized_trends', 'Remarks_tokens_lemmatized_well', 'Remarks_tokens_lemmatized_wont', 'Remarks_tokens_lemmatized_yes', 'Remarks_expanded_tokens_lemmatized_are', 'Remarks_expanded_tokens_lemmatized_banks', 'Remarks_expanded_tokens_lemmatized_be', 'Remarks_expanded_tokens_lemmatized_clear', 'Remarks_expanded_tokens_lemmatized_confident', 'Remarks_expanded_tokens_lemmatized_did', 'Remarks_expanded_tokens_lemmatized_investors', 'Remarks_expanded_tokens_lemmatized_is', 'Remarks_expanded_tokens_lemmatized_it', 'Remarks_expanded_tokens_lemmatized_market', 'Remarks_expanded_tokens_lemmatized_not', 'Remarks_expanded_tokens_lemmatized_perform', 'Remarks_expanded_tokens_lemmatized_positive', 'Remarks_expanded_tokens_lemmatized_rising', 'Remarks_expanded_tokens_lemmatized_shares', 'Remarks_expanded_tokens_lemmatized_showing', 'Remarks_expanded_tokens_lemmatized_signs', 'Remarks_expanded_tokens_lemmatized_stock', 'Remarks_expanded_tokens_lemmatized_today', 'Remarks_expanded_tokens_lemmatized_trends', 'Remarks_expanded_tokens_lemmatized_well', 'Remarks_expanded_tokens_lemmatized_will', 'Remarks_expanded_tokens_lemmatized_yes', 'Remarks_pos_arent', 'Remarks_pos_banks', 'Remarks_pos_be', 'Remarks_pos_clear', 'Remarks_pos_confident', 'Remarks_pos_didnt', 'Remarks_pos_investors', 'Remarks_pos_is', 'Remarks_pos_its', 'Remarks_pos_jj', 'Remarks_pos_market', 'Remarks_pos_nn', 'Remarks_pos_nns', 'Remarks_pos_perform', 'Remarks_pos_positive', 'Remarks_pos_prp', 'Remarks_pos_rb', 'Remarks_pos_rising', 'Remarks_pos_shares', 'Remarks_pos_showing', 'Remarks_pos_signs', 'Remarks_pos_stock', 'Remarks_pos_today', 'Remarks_pos_trends', 'Remarks_pos_vb', 'Remarks_pos_vbd', 'Remarks_pos_vbg', 'Remarks_pos_vbp', 'Remarks_pos_vbz', 'Remarks_pos_well', 'Remarks_pos_wont', 'Remarks_pos_yes', 'Remarks_expanded_pos_are', 'Remarks_expanded_pos_banks', 'Remarks_expanded_pos_be', 'Remarks_expanded_pos_clear', 'Remarks_expanded_pos_confident', 'Remarks_expanded_pos_did', 'Remarks_expanded_pos_investors', 'Remarks_expanded_pos_is', 'Remarks_expanded_pos_it', 'Remarks_expanded_pos_jj', 'Remarks_expanded_pos_market', 'Remarks_expanded_pos_md', 'Remarks_expanded_pos_nn', 'Remarks_expanded_pos_nns', 'Remarks_expanded_pos_not', 'Remarks_expanded_pos_perform', 'Remarks_expanded_pos_positive', 'Remarks_expanded_pos_prp', 'Remarks_expanded_pos_rb', 'Remarks_expanded_pos_rising', 'Remarks_expanded_pos_shares', 'Remarks_expanded_pos_showing', 'Remarks_expanded_pos_signs', 'Remarks_expanded_pos_stock', 'Remarks_expanded_pos_today', 'Remarks_expanded_pos_trends', 'Remarks_expanded_pos_vb', 'Remarks_expanded_pos_vbd', 'Remarks_expanded_pos_vbg', 'Remarks_expanded_pos_vbp', 'Remarks_expanded_pos_vbz', 'Remarks_expanded_pos_well', 'Remarks_expanded_pos_will', 'Remarks_expanded_pos_yes', 'Remarks_no_stopwords_pos_arent', 'Remarks_no_stopwords_pos_banks', 'Remarks_no_stopwords_pos_clear', 'Remarks_no_stopwords_pos_confident', 'Remarks_no_stopwords_pos_didnt', 'Remarks_no_stopwords_pos_investors', 'Remarks_no_stopwords_pos_jj', 'Remarks_no_stopwords_pos_market', 'Remarks_no_stopwords_pos_nn', 'Remarks_no_stopwords_pos_nns', 'Remarks_no_stopwords_pos_perform', 'Remarks_no_stopwords_pos_positive', 'Remarks_no_stopwords_pos_rb', 'Remarks_no_stopwords_pos_rising', 'Remarks_no_stopwords_pos_shares', 'Remarks_no_stopwords_pos_showing', 'Remarks_no_stopwords_pos_signs', 'Remarks_no_stopwords_pos_stock', 'Remarks_no_stopwords_pos_today', 'Remarks_no_stopwords_pos_trends', 'Remarks_no_stopwords_pos_vbd', 'Remarks_no_stopwords_pos_vbg', 'Remarks_no_stopwords_pos_vbp', 'Remarks_no_stopwords_pos_well', 'Remarks_no_stopwords_pos_wont', 'Remarks_no_stopwords_pos_yes', 'Remarks_expanded_no_stopwords_pos_banks', 'Remarks_expanded_no_stopwords_pos_clear', 'Remarks_expanded_no_stopwords_pos_confident', 'Remarks_expanded_no_stopwords_pos_investors', 'Remarks_expanded_no_stopwords_pos_jj', 'Remarks_expanded_no_stopwords_pos_market', 'Remarks_expanded_no_stopwords_pos_nn', 'Remarks_expanded_no_stopwords_pos_nns', 'Remarks_expanded_no_stopwords_pos_perform', 'Remarks_expanded_no_stopwords_pos_positive', 'Remarks_expanded_no_stopwords_pos_rb', 'Remarks_expanded_no_stopwords_pos_rising', 'Remarks_expanded_no_stopwords_pos_shares', 'Remarks_expanded_no_stopwords_pos_showing', 'Remarks_expanded_no_stopwords_pos_signs', 'Remarks_expanded_no_stopwords_pos_stock', 'Remarks_expanded_no_stopwords_pos_today', 'Remarks_expanded_no_stopwords_pos_trends', 'Remarks_expanded_no_stopwords_pos_vbg', 'Remarks_expanded_no_stopwords_pos_vbp', 'Remarks_expanded_no_stopwords_pos_well', 'Remarks_expanded_no_stopwords_pos_yes', 'Remarks_tokens_pos_arent', 'Remarks_tokens_pos_banks', 'Remarks_tokens_pos_be', 'Remarks_tokens_pos_cd', 'Remarks_tokens_pos_clear', 'Remarks_tokens_pos_confident', 'Remarks_tokens_pos_didnt', 'Remarks_tokens_pos_in', 'Remarks_tokens_pos_investors', 'Remarks_tokens_pos_is', 'Remarks_tokens_pos_its', 'Remarks_tokens_pos_jj', 'Remarks_tokens_pos_market', 'Remarks_tokens_pos_nn', 'Remarks_tokens_pos_nnp', 'Remarks_tokens_pos_nns', 'Remarks_tokens_pos_perform', 'Remarks_tokens_pos_pos', 'Remarks_tokens_pos_positive', 'Remarks_tokens_pos_rising', 'Remarks_tokens_pos_shares', 'Remarks_tokens_pos_showing', 'Remarks_tokens_pos_signs', 'Remarks_tokens_pos_stock', 'Remarks_tokens_pos_today', 'Remarks_tokens_pos_trends', 'Remarks_tokens_pos_vbg', 'Remarks_tokens_pos_vbz', 'Remarks_tokens_pos_well', 'Remarks_tokens_pos_wont', 'Remarks_tokens_pos_yes', 'Remarks_expanded_tokens_pos_are', 'Remarks_expanded_tokens_pos_banks', 'Remarks_expanded_tokens_pos_be', 'Remarks_expanded_tokens_pos_cd', 'Remarks_expanded_tokens_pos_clear', 'Remarks_expanded_tokens_pos_confident', 'Remarks_expanded_tokens_pos_did', 'Remarks_expanded_tokens_pos_in', 'Remarks_expanded_tokens_pos_investors', 'Remarks_expanded_tokens_pos_is', 'Remarks_expanded_tokens_pos_it', 'Remarks_expanded_tokens_pos_jj', 'Remarks_expanded_tokens_pos_market', 'Remarks_expanded_tokens_pos_nn', 'Remarks_expanded_tokens_pos_nnp', 'Remarks_expanded_tokens_pos_nns', 'Remarks_expanded_tokens_pos_not', 'Remarks_expanded_tokens_pos_perform', 'Remarks_expanded_tokens_pos_pos', 'Remarks_expanded_tokens_pos_positive', 'Remarks_expanded_tokens_pos_rising', 'Remarks_expanded_tokens_pos_shares', 'Remarks_expanded_tokens_pos_showing', 'Remarks_expanded_tokens_pos_signs', 'Remarks_expanded_tokens_pos_stock', 'Remarks_expanded_tokens_pos_today', 'Remarks_expanded_tokens_pos_trends', 'Remarks_expanded_tokens_pos_vbg', 'Remarks_expanded_tokens_pos_vbz', 'Remarks_expanded_tokens_pos_well', 'Remarks_expanded_tokens_pos_will', 'Remarks_expanded_tokens_pos_yes']\n"
          ]
        }
      ]
    },
    {
      "cell_type": "markdown",
      "source": [
        "#### 2. Feature Selection"
      ],
      "metadata": {
        "id": "2DejudWSA-a0"
      }
    },
    {
      "cell_type": "code",
      "source": [
        "# Select your features wisely to avoid overfitting\n",
        "#limit tf-idf features\n",
        "TfidfVectorizer(max_features=50)  # Not 1000+\n"
      ],
      "metadata": {
        "id": "YLhe8UmaBCEE",
        "colab": {
          "base_uri": "https://localhost:8080/",
          "height": 80
        },
        "outputId": "2a42d6ea-2240-436f-b805-c4c5eeb17319"
      },
      "execution_count": null,
      "outputs": [
        {
          "output_type": "execute_result",
          "data": {
            "text/plain": [
              "TfidfVectorizer(max_features=50)"
            ],
            "text/html": [
              "<style>#sk-container-id-4 {\n",
              "  /* Definition of color scheme common for light and dark mode */\n",
              "  --sklearn-color-text: #000;\n",
              "  --sklearn-color-text-muted: #666;\n",
              "  --sklearn-color-line: gray;\n",
              "  /* Definition of color scheme for unfitted estimators */\n",
              "  --sklearn-color-unfitted-level-0: #fff5e6;\n",
              "  --sklearn-color-unfitted-level-1: #f6e4d2;\n",
              "  --sklearn-color-unfitted-level-2: #ffe0b3;\n",
              "  --sklearn-color-unfitted-level-3: chocolate;\n",
              "  /* Definition of color scheme for fitted estimators */\n",
              "  --sklearn-color-fitted-level-0: #f0f8ff;\n",
              "  --sklearn-color-fitted-level-1: #d4ebff;\n",
              "  --sklearn-color-fitted-level-2: #b3dbfd;\n",
              "  --sklearn-color-fitted-level-3: cornflowerblue;\n",
              "\n",
              "  /* Specific color for light theme */\n",
              "  --sklearn-color-text-on-default-background: var(--sg-text-color, var(--theme-code-foreground, var(--jp-content-font-color1, black)));\n",
              "  --sklearn-color-background: var(--sg-background-color, var(--theme-background, var(--jp-layout-color0, white)));\n",
              "  --sklearn-color-border-box: var(--sg-text-color, var(--theme-code-foreground, var(--jp-content-font-color1, black)));\n",
              "  --sklearn-color-icon: #696969;\n",
              "\n",
              "  @media (prefers-color-scheme: dark) {\n",
              "    /* Redefinition of color scheme for dark theme */\n",
              "    --sklearn-color-text-on-default-background: var(--sg-text-color, var(--theme-code-foreground, var(--jp-content-font-color1, white)));\n",
              "    --sklearn-color-background: var(--sg-background-color, var(--theme-background, var(--jp-layout-color0, #111)));\n",
              "    --sklearn-color-border-box: var(--sg-text-color, var(--theme-code-foreground, var(--jp-content-font-color1, white)));\n",
              "    --sklearn-color-icon: #878787;\n",
              "  }\n",
              "}\n",
              "\n",
              "#sk-container-id-4 {\n",
              "  color: var(--sklearn-color-text);\n",
              "}\n",
              "\n",
              "#sk-container-id-4 pre {\n",
              "  padding: 0;\n",
              "}\n",
              "\n",
              "#sk-container-id-4 input.sk-hidden--visually {\n",
              "  border: 0;\n",
              "  clip: rect(1px 1px 1px 1px);\n",
              "  clip: rect(1px, 1px, 1px, 1px);\n",
              "  height: 1px;\n",
              "  margin: -1px;\n",
              "  overflow: hidden;\n",
              "  padding: 0;\n",
              "  position: absolute;\n",
              "  width: 1px;\n",
              "}\n",
              "\n",
              "#sk-container-id-4 div.sk-dashed-wrapped {\n",
              "  border: 1px dashed var(--sklearn-color-line);\n",
              "  margin: 0 0.4em 0.5em 0.4em;\n",
              "  box-sizing: border-box;\n",
              "  padding-bottom: 0.4em;\n",
              "  background-color: var(--sklearn-color-background);\n",
              "}\n",
              "\n",
              "#sk-container-id-4 div.sk-container {\n",
              "  /* jupyter's `normalize.less` sets `[hidden] { display: none; }`\n",
              "     but bootstrap.min.css set `[hidden] { display: none !important; }`\n",
              "     so we also need the `!important` here to be able to override the\n",
              "     default hidden behavior on the sphinx rendered scikit-learn.org.\n",
              "     See: https://github.com/scikit-learn/scikit-learn/issues/21755 */\n",
              "  display: inline-block !important;\n",
              "  position: relative;\n",
              "}\n",
              "\n",
              "#sk-container-id-4 div.sk-text-repr-fallback {\n",
              "  display: none;\n",
              "}\n",
              "\n",
              "div.sk-parallel-item,\n",
              "div.sk-serial,\n",
              "div.sk-item {\n",
              "  /* draw centered vertical line to link estimators */\n",
              "  background-image: linear-gradient(var(--sklearn-color-text-on-default-background), var(--sklearn-color-text-on-default-background));\n",
              "  background-size: 2px 100%;\n",
              "  background-repeat: no-repeat;\n",
              "  background-position: center center;\n",
              "}\n",
              "\n",
              "/* Parallel-specific style estimator block */\n",
              "\n",
              "#sk-container-id-4 div.sk-parallel-item::after {\n",
              "  content: \"\";\n",
              "  width: 100%;\n",
              "  border-bottom: 2px solid var(--sklearn-color-text-on-default-background);\n",
              "  flex-grow: 1;\n",
              "}\n",
              "\n",
              "#sk-container-id-4 div.sk-parallel {\n",
              "  display: flex;\n",
              "  align-items: stretch;\n",
              "  justify-content: center;\n",
              "  background-color: var(--sklearn-color-background);\n",
              "  position: relative;\n",
              "}\n",
              "\n",
              "#sk-container-id-4 div.sk-parallel-item {\n",
              "  display: flex;\n",
              "  flex-direction: column;\n",
              "}\n",
              "\n",
              "#sk-container-id-4 div.sk-parallel-item:first-child::after {\n",
              "  align-self: flex-end;\n",
              "  width: 50%;\n",
              "}\n",
              "\n",
              "#sk-container-id-4 div.sk-parallel-item:last-child::after {\n",
              "  align-self: flex-start;\n",
              "  width: 50%;\n",
              "}\n",
              "\n",
              "#sk-container-id-4 div.sk-parallel-item:only-child::after {\n",
              "  width: 0;\n",
              "}\n",
              "\n",
              "/* Serial-specific style estimator block */\n",
              "\n",
              "#sk-container-id-4 div.sk-serial {\n",
              "  display: flex;\n",
              "  flex-direction: column;\n",
              "  align-items: center;\n",
              "  background-color: var(--sklearn-color-background);\n",
              "  padding-right: 1em;\n",
              "  padding-left: 1em;\n",
              "}\n",
              "\n",
              "\n",
              "/* Toggleable style: style used for estimator/Pipeline/ColumnTransformer box that is\n",
              "clickable and can be expanded/collapsed.\n",
              "- Pipeline and ColumnTransformer use this feature and define the default style\n",
              "- Estimators will overwrite some part of the style using the `sk-estimator` class\n",
              "*/\n",
              "\n",
              "/* Pipeline and ColumnTransformer style (default) */\n",
              "\n",
              "#sk-container-id-4 div.sk-toggleable {\n",
              "  /* Default theme specific background. It is overwritten whether we have a\n",
              "  specific estimator or a Pipeline/ColumnTransformer */\n",
              "  background-color: var(--sklearn-color-background);\n",
              "}\n",
              "\n",
              "/* Toggleable label */\n",
              "#sk-container-id-4 label.sk-toggleable__label {\n",
              "  cursor: pointer;\n",
              "  display: flex;\n",
              "  width: 100%;\n",
              "  margin-bottom: 0;\n",
              "  padding: 0.5em;\n",
              "  box-sizing: border-box;\n",
              "  text-align: center;\n",
              "  align-items: start;\n",
              "  justify-content: space-between;\n",
              "  gap: 0.5em;\n",
              "}\n",
              "\n",
              "#sk-container-id-4 label.sk-toggleable__label .caption {\n",
              "  font-size: 0.6rem;\n",
              "  font-weight: lighter;\n",
              "  color: var(--sklearn-color-text-muted);\n",
              "}\n",
              "\n",
              "#sk-container-id-4 label.sk-toggleable__label-arrow:before {\n",
              "  /* Arrow on the left of the label */\n",
              "  content: \"▸\";\n",
              "  float: left;\n",
              "  margin-right: 0.25em;\n",
              "  color: var(--sklearn-color-icon);\n",
              "}\n",
              "\n",
              "#sk-container-id-4 label.sk-toggleable__label-arrow:hover:before {\n",
              "  color: var(--sklearn-color-text);\n",
              "}\n",
              "\n",
              "/* Toggleable content - dropdown */\n",
              "\n",
              "#sk-container-id-4 div.sk-toggleable__content {\n",
              "  max-height: 0;\n",
              "  max-width: 0;\n",
              "  overflow: hidden;\n",
              "  text-align: left;\n",
              "  /* unfitted */\n",
              "  background-color: var(--sklearn-color-unfitted-level-0);\n",
              "}\n",
              "\n",
              "#sk-container-id-4 div.sk-toggleable__content.fitted {\n",
              "  /* fitted */\n",
              "  background-color: var(--sklearn-color-fitted-level-0);\n",
              "}\n",
              "\n",
              "#sk-container-id-4 div.sk-toggleable__content pre {\n",
              "  margin: 0.2em;\n",
              "  border-radius: 0.25em;\n",
              "  color: var(--sklearn-color-text);\n",
              "  /* unfitted */\n",
              "  background-color: var(--sklearn-color-unfitted-level-0);\n",
              "}\n",
              "\n",
              "#sk-container-id-4 div.sk-toggleable__content.fitted pre {\n",
              "  /* unfitted */\n",
              "  background-color: var(--sklearn-color-fitted-level-0);\n",
              "}\n",
              "\n",
              "#sk-container-id-4 input.sk-toggleable__control:checked~div.sk-toggleable__content {\n",
              "  /* Expand drop-down */\n",
              "  max-height: 200px;\n",
              "  max-width: 100%;\n",
              "  overflow: auto;\n",
              "}\n",
              "\n",
              "#sk-container-id-4 input.sk-toggleable__control:checked~label.sk-toggleable__label-arrow:before {\n",
              "  content: \"▾\";\n",
              "}\n",
              "\n",
              "/* Pipeline/ColumnTransformer-specific style */\n",
              "\n",
              "#sk-container-id-4 div.sk-label input.sk-toggleable__control:checked~label.sk-toggleable__label {\n",
              "  color: var(--sklearn-color-text);\n",
              "  background-color: var(--sklearn-color-unfitted-level-2);\n",
              "}\n",
              "\n",
              "#sk-container-id-4 div.sk-label.fitted input.sk-toggleable__control:checked~label.sk-toggleable__label {\n",
              "  background-color: var(--sklearn-color-fitted-level-2);\n",
              "}\n",
              "\n",
              "/* Estimator-specific style */\n",
              "\n",
              "/* Colorize estimator box */\n",
              "#sk-container-id-4 div.sk-estimator input.sk-toggleable__control:checked~label.sk-toggleable__label {\n",
              "  /* unfitted */\n",
              "  background-color: var(--sklearn-color-unfitted-level-2);\n",
              "}\n",
              "\n",
              "#sk-container-id-4 div.sk-estimator.fitted input.sk-toggleable__control:checked~label.sk-toggleable__label {\n",
              "  /* fitted */\n",
              "  background-color: var(--sklearn-color-fitted-level-2);\n",
              "}\n",
              "\n",
              "#sk-container-id-4 div.sk-label label.sk-toggleable__label,\n",
              "#sk-container-id-4 div.sk-label label {\n",
              "  /* The background is the default theme color */\n",
              "  color: var(--sklearn-color-text-on-default-background);\n",
              "}\n",
              "\n",
              "/* On hover, darken the color of the background */\n",
              "#sk-container-id-4 div.sk-label:hover label.sk-toggleable__label {\n",
              "  color: var(--sklearn-color-text);\n",
              "  background-color: var(--sklearn-color-unfitted-level-2);\n",
              "}\n",
              "\n",
              "/* Label box, darken color on hover, fitted */\n",
              "#sk-container-id-4 div.sk-label.fitted:hover label.sk-toggleable__label.fitted {\n",
              "  color: var(--sklearn-color-text);\n",
              "  background-color: var(--sklearn-color-fitted-level-2);\n",
              "}\n",
              "\n",
              "/* Estimator label */\n",
              "\n",
              "#sk-container-id-4 div.sk-label label {\n",
              "  font-family: monospace;\n",
              "  font-weight: bold;\n",
              "  display: inline-block;\n",
              "  line-height: 1.2em;\n",
              "}\n",
              "\n",
              "#sk-container-id-4 div.sk-label-container {\n",
              "  text-align: center;\n",
              "}\n",
              "\n",
              "/* Estimator-specific */\n",
              "#sk-container-id-4 div.sk-estimator {\n",
              "  font-family: monospace;\n",
              "  border: 1px dotted var(--sklearn-color-border-box);\n",
              "  border-radius: 0.25em;\n",
              "  box-sizing: border-box;\n",
              "  margin-bottom: 0.5em;\n",
              "  /* unfitted */\n",
              "  background-color: var(--sklearn-color-unfitted-level-0);\n",
              "}\n",
              "\n",
              "#sk-container-id-4 div.sk-estimator.fitted {\n",
              "  /* fitted */\n",
              "  background-color: var(--sklearn-color-fitted-level-0);\n",
              "}\n",
              "\n",
              "/* on hover */\n",
              "#sk-container-id-4 div.sk-estimator:hover {\n",
              "  /* unfitted */\n",
              "  background-color: var(--sklearn-color-unfitted-level-2);\n",
              "}\n",
              "\n",
              "#sk-container-id-4 div.sk-estimator.fitted:hover {\n",
              "  /* fitted */\n",
              "  background-color: var(--sklearn-color-fitted-level-2);\n",
              "}\n",
              "\n",
              "/* Specification for estimator info (e.g. \"i\" and \"?\") */\n",
              "\n",
              "/* Common style for \"i\" and \"?\" */\n",
              "\n",
              ".sk-estimator-doc-link,\n",
              "a:link.sk-estimator-doc-link,\n",
              "a:visited.sk-estimator-doc-link {\n",
              "  float: right;\n",
              "  font-size: smaller;\n",
              "  line-height: 1em;\n",
              "  font-family: monospace;\n",
              "  background-color: var(--sklearn-color-background);\n",
              "  border-radius: 1em;\n",
              "  height: 1em;\n",
              "  width: 1em;\n",
              "  text-decoration: none !important;\n",
              "  margin-left: 0.5em;\n",
              "  text-align: center;\n",
              "  /* unfitted */\n",
              "  border: var(--sklearn-color-unfitted-level-1) 1pt solid;\n",
              "  color: var(--sklearn-color-unfitted-level-1);\n",
              "}\n",
              "\n",
              ".sk-estimator-doc-link.fitted,\n",
              "a:link.sk-estimator-doc-link.fitted,\n",
              "a:visited.sk-estimator-doc-link.fitted {\n",
              "  /* fitted */\n",
              "  border: var(--sklearn-color-fitted-level-1) 1pt solid;\n",
              "  color: var(--sklearn-color-fitted-level-1);\n",
              "}\n",
              "\n",
              "/* On hover */\n",
              "div.sk-estimator:hover .sk-estimator-doc-link:hover,\n",
              ".sk-estimator-doc-link:hover,\n",
              "div.sk-label-container:hover .sk-estimator-doc-link:hover,\n",
              ".sk-estimator-doc-link:hover {\n",
              "  /* unfitted */\n",
              "  background-color: var(--sklearn-color-unfitted-level-3);\n",
              "  color: var(--sklearn-color-background);\n",
              "  text-decoration: none;\n",
              "}\n",
              "\n",
              "div.sk-estimator.fitted:hover .sk-estimator-doc-link.fitted:hover,\n",
              ".sk-estimator-doc-link.fitted:hover,\n",
              "div.sk-label-container:hover .sk-estimator-doc-link.fitted:hover,\n",
              ".sk-estimator-doc-link.fitted:hover {\n",
              "  /* fitted */\n",
              "  background-color: var(--sklearn-color-fitted-level-3);\n",
              "  color: var(--sklearn-color-background);\n",
              "  text-decoration: none;\n",
              "}\n",
              "\n",
              "/* Span, style for the box shown on hovering the info icon */\n",
              ".sk-estimator-doc-link span {\n",
              "  display: none;\n",
              "  z-index: 9999;\n",
              "  position: relative;\n",
              "  font-weight: normal;\n",
              "  right: .2ex;\n",
              "  padding: .5ex;\n",
              "  margin: .5ex;\n",
              "  width: min-content;\n",
              "  min-width: 20ex;\n",
              "  max-width: 50ex;\n",
              "  color: var(--sklearn-color-text);\n",
              "  box-shadow: 2pt 2pt 4pt #999;\n",
              "  /* unfitted */\n",
              "  background: var(--sklearn-color-unfitted-level-0);\n",
              "  border: .5pt solid var(--sklearn-color-unfitted-level-3);\n",
              "}\n",
              "\n",
              ".sk-estimator-doc-link.fitted span {\n",
              "  /* fitted */\n",
              "  background: var(--sklearn-color-fitted-level-0);\n",
              "  border: var(--sklearn-color-fitted-level-3);\n",
              "}\n",
              "\n",
              ".sk-estimator-doc-link:hover span {\n",
              "  display: block;\n",
              "}\n",
              "\n",
              "/* \"?\"-specific style due to the `<a>` HTML tag */\n",
              "\n",
              "#sk-container-id-4 a.estimator_doc_link {\n",
              "  float: right;\n",
              "  font-size: 1rem;\n",
              "  line-height: 1em;\n",
              "  font-family: monospace;\n",
              "  background-color: var(--sklearn-color-background);\n",
              "  border-radius: 1rem;\n",
              "  height: 1rem;\n",
              "  width: 1rem;\n",
              "  text-decoration: none;\n",
              "  /* unfitted */\n",
              "  color: var(--sklearn-color-unfitted-level-1);\n",
              "  border: var(--sklearn-color-unfitted-level-1) 1pt solid;\n",
              "}\n",
              "\n",
              "#sk-container-id-4 a.estimator_doc_link.fitted {\n",
              "  /* fitted */\n",
              "  border: var(--sklearn-color-fitted-level-1) 1pt solid;\n",
              "  color: var(--sklearn-color-fitted-level-1);\n",
              "}\n",
              "\n",
              "/* On hover */\n",
              "#sk-container-id-4 a.estimator_doc_link:hover {\n",
              "  /* unfitted */\n",
              "  background-color: var(--sklearn-color-unfitted-level-3);\n",
              "  color: var(--sklearn-color-background);\n",
              "  text-decoration: none;\n",
              "}\n",
              "\n",
              "#sk-container-id-4 a.estimator_doc_link.fitted:hover {\n",
              "  /* fitted */\n",
              "  background-color: var(--sklearn-color-fitted-level-3);\n",
              "}\n",
              "</style><div id=\"sk-container-id-4\" class=\"sk-top-container\"><div class=\"sk-text-repr-fallback\"><pre>TfidfVectorizer(max_features=50)</pre><b>In a Jupyter environment, please rerun this cell to show the HTML representation or trust the notebook. <br />On GitHub, the HTML representation is unable to render, please try loading this page with nbviewer.org.</b></div><div class=\"sk-container\" hidden><div class=\"sk-item\"><div class=\"sk-estimator  sk-toggleable\"><input class=\"sk-toggleable__control sk-hidden--visually\" id=\"sk-estimator-id-4\" type=\"checkbox\" checked><label for=\"sk-estimator-id-4\" class=\"sk-toggleable__label  sk-toggleable__label-arrow\"><div><div>TfidfVectorizer</div></div><div><a class=\"sk-estimator-doc-link \" rel=\"noreferrer\" target=\"_blank\" href=\"https://scikit-learn.org/1.6/modules/generated/sklearn.feature_extraction.text.TfidfVectorizer.html\">?<span>Documentation for TfidfVectorizer</span></a><span class=\"sk-estimator-doc-link \">i<span>Not fitted</span></span></div></label><div class=\"sk-toggleable__content \"><pre>TfidfVectorizer(max_features=50)</pre></div> </div></div></div></div>"
            ]
          },
          "metadata": {},
          "execution_count": 253
        }
      ]
    },
    {
      "cell_type": "markdown",
      "source": [
        "##### What all feature selection methods have you used  and why?"
      ],
      "metadata": {
        "id": "pEMng2IbBLp7"
      }
    },
    {
      "cell_type": "markdown",
      "source": [
        "\n",
        "1. TF-IDF Feature Limiting.\n",
        "To prevent overfitting from sparse high-dimensional data and to retain only meaningful text terms.\n",
        "\n",
        "\n",
        "\n"
      ],
      "metadata": {
        "id": "rb2Lh6Z8BgGs"
      }
    },
    {
      "cell_type": "markdown",
      "source": [
        "##### Which all features you found important and why?"
      ],
      "metadata": {
        "id": "rAdphbQ9Bhjc"
      }
    },
    {
      "cell_type": "markdown",
      "source": [
        "Correlation analysis was found more important because multicollinearity can distort the model's interpretation.\n"
      ],
      "metadata": {
        "id": "fGgaEstsBnaf"
      }
    },
    {
      "cell_type": "markdown",
      "source": [
        "### 5. Data Transformation"
      ],
      "metadata": {
        "id": "TNVZ9zx19K6k"
      }
    },
    {
      "cell_type": "markdown",
      "source": [
        "#### Do you think that your data needs to be transformed? If yes, which transformation have you used. Explain Why?"
      ],
      "metadata": {
        "id": "nqoHp30x9hH9"
      }
    },
    {
      "cell_type": "code",
      "source": [
        "# Transform Your data\n",
        "#yes already transformed lot of data"
      ],
      "metadata": {
        "id": "I6quWQ1T9rtH"
      },
      "execution_count": null,
      "outputs": []
    },
    {
      "cell_type": "markdown",
      "source": [
        "### 6. Data Scaling"
      ],
      "metadata": {
        "id": "rMDnDkt2B6du"
      }
    },
    {
      "cell_type": "code",
      "source": [
        "# Scaling your data\n",
        "print(stock_data.columns.tolist())\n",
        "\n",
        "from sklearn.preprocessing import StandardScaler\n",
        "#selecting numeric columns\n",
        "numeric_cols = ['Open', 'High', 'Low', 'Close']\n",
        "\n",
        "#initialize the scaler\n",
        "scaler = StandardScaler()\n",
        "\n",
        "#fit and transform the numeric columns\n",
        "stock_data[numeric_cols] = scaler.fit_transform(stock_data[numeric_cols])\n",
        "\n",
        "print(\"StandardScaler applied to numeric columns.\")"
      ],
      "metadata": {
        "id": "dL9LWpySC6x_",
        "colab": {
          "base_uri": "https://localhost:8080/"
        },
        "outputId": "b5e993bd-a00e-4a69-fe6b-31c4e0356c89"
      },
      "execution_count": null,
      "outputs": [
        {
          "output_type": "stream",
          "name": "stdout",
          "text": [
            "['Date', 'Open', 'High', 'Low', 'Close', 'Volatility', 'Year', 'Month', 'DayOfWeek', 'Remarks', 'Remarks_expanded', 'Remarks_no_stopwords', 'Remarks_expanded_no_stopwords', 'Remarks_tokens', 'Remarks_expanded_tokens', 'Remarks_lemmatized', 'Remarks_expanded_lemmatized', 'Remarks_no_stopwords_lemmatized', 'Remarks_expanded_no_stopwords_lemmatized', 'Remarks_tokens_lemmatized', 'Remarks_expanded_tokens_lemmatized', 'Remarks_pos', 'Remarks_expanded_pos', 'Remarks_no_stopwords_pos', 'Remarks_expanded_no_stopwords_pos', 'Remarks_tokens_pos', 'Remarks_expanded_tokens_pos', 'Remarks_arent', 'Remarks_banks', 'Remarks_be', 'Remarks_clear', 'Remarks_confident', 'Remarks_didnt', 'Remarks_investors', 'Remarks_is', 'Remarks_its', 'Remarks_market', 'Remarks_perform', 'Remarks_positive', 'Remarks_rising', 'Remarks_shares', 'Remarks_showing', 'Remarks_signs', 'Remarks_stock', 'Remarks_today', 'Remarks_trends', 'Remarks_well', 'Remarks_wont', 'Remarks_yes', 'Remarks_expanded_are', 'Remarks_expanded_banks', 'Remarks_expanded_be', 'Remarks_expanded_clear', 'Remarks_expanded_confident', 'Remarks_expanded_did', 'Remarks_expanded_investors', 'Remarks_expanded_is', 'Remarks_expanded_it', 'Remarks_expanded_market', 'Remarks_expanded_not', 'Remarks_expanded_perform', 'Remarks_expanded_positive', 'Remarks_expanded_rising', 'Remarks_expanded_shares', 'Remarks_expanded_showing', 'Remarks_expanded_signs', 'Remarks_expanded_stock', 'Remarks_expanded_today', 'Remarks_expanded_trends', 'Remarks_expanded_well', 'Remarks_expanded_will', 'Remarks_expanded_yes', 'Remarks_no_stopwords_arent', 'Remarks_no_stopwords_banks', 'Remarks_no_stopwords_clear', 'Remarks_no_stopwords_confident', 'Remarks_no_stopwords_didnt', 'Remarks_no_stopwords_investors', 'Remarks_no_stopwords_market', 'Remarks_no_stopwords_perform', 'Remarks_no_stopwords_positive', 'Remarks_no_stopwords_rising', 'Remarks_no_stopwords_shares', 'Remarks_no_stopwords_showing', 'Remarks_no_stopwords_signs', 'Remarks_no_stopwords_stock', 'Remarks_no_stopwords_today', 'Remarks_no_stopwords_trends', 'Remarks_no_stopwords_well', 'Remarks_no_stopwords_wont', 'Remarks_no_stopwords_yes', 'Remarks_expanded_no_stopwords_banks', 'Remarks_expanded_no_stopwords_clear', 'Remarks_expanded_no_stopwords_confident', 'Remarks_expanded_no_stopwords_investors', 'Remarks_expanded_no_stopwords_market', 'Remarks_expanded_no_stopwords_perform', 'Remarks_expanded_no_stopwords_positive', 'Remarks_expanded_no_stopwords_rising', 'Remarks_expanded_no_stopwords_shares', 'Remarks_expanded_no_stopwords_showing', 'Remarks_expanded_no_stopwords_signs', 'Remarks_expanded_no_stopwords_stock', 'Remarks_expanded_no_stopwords_today', 'Remarks_expanded_no_stopwords_trends', 'Remarks_expanded_no_stopwords_well', 'Remarks_expanded_no_stopwords_yes', 'Remarks_tokens_arent', 'Remarks_tokens_banks', 'Remarks_tokens_be', 'Remarks_tokens_clear', 'Remarks_tokens_confident', 'Remarks_tokens_didnt', 'Remarks_tokens_investors', 'Remarks_tokens_is', 'Remarks_tokens_its', 'Remarks_tokens_market', 'Remarks_tokens_perform', 'Remarks_tokens_positive', 'Remarks_tokens_rising', 'Remarks_tokens_shares', 'Remarks_tokens_showing', 'Remarks_tokens_signs', 'Remarks_tokens_stock', 'Remarks_tokens_today', 'Remarks_tokens_trends', 'Remarks_tokens_well', 'Remarks_tokens_wont', 'Remarks_tokens_yes', 'Remarks_expanded_tokens_are', 'Remarks_expanded_tokens_banks', 'Remarks_expanded_tokens_be', 'Remarks_expanded_tokens_clear', 'Remarks_expanded_tokens_confident', 'Remarks_expanded_tokens_did', 'Remarks_expanded_tokens_investors', 'Remarks_expanded_tokens_is', 'Remarks_expanded_tokens_it', 'Remarks_expanded_tokens_market', 'Remarks_expanded_tokens_not', 'Remarks_expanded_tokens_perform', 'Remarks_expanded_tokens_positive', 'Remarks_expanded_tokens_rising', 'Remarks_expanded_tokens_shares', 'Remarks_expanded_tokens_showing', 'Remarks_expanded_tokens_signs', 'Remarks_expanded_tokens_stock', 'Remarks_expanded_tokens_today', 'Remarks_expanded_tokens_trends', 'Remarks_expanded_tokens_well', 'Remarks_expanded_tokens_will', 'Remarks_expanded_tokens_yes', 'Remarks_lemmatized_arent', 'Remarks_lemmatized_bank', 'Remarks_lemmatized_be', 'Remarks_lemmatized_clear', 'Remarks_lemmatized_confident', 'Remarks_lemmatized_didnt', 'Remarks_lemmatized_investor', 'Remarks_lemmatized_is', 'Remarks_lemmatized_it', 'Remarks_lemmatized_market', 'Remarks_lemmatized_perform', 'Remarks_lemmatized_positive', 'Remarks_lemmatized_rising', 'Remarks_lemmatized_share', 'Remarks_lemmatized_showing', 'Remarks_lemmatized_sign', 'Remarks_lemmatized_stock', 'Remarks_lemmatized_today', 'Remarks_lemmatized_trend', 'Remarks_lemmatized_well', 'Remarks_lemmatized_wont', 'Remarks_lemmatized_yes', 'Remarks_expanded_lemmatized_are', 'Remarks_expanded_lemmatized_bank', 'Remarks_expanded_lemmatized_be', 'Remarks_expanded_lemmatized_clear', 'Remarks_expanded_lemmatized_confident', 'Remarks_expanded_lemmatized_did', 'Remarks_expanded_lemmatized_investor', 'Remarks_expanded_lemmatized_is', 'Remarks_expanded_lemmatized_it', 'Remarks_expanded_lemmatized_market', 'Remarks_expanded_lemmatized_not', 'Remarks_expanded_lemmatized_perform', 'Remarks_expanded_lemmatized_positive', 'Remarks_expanded_lemmatized_rising', 'Remarks_expanded_lemmatized_share', 'Remarks_expanded_lemmatized_showing', 'Remarks_expanded_lemmatized_sign', 'Remarks_expanded_lemmatized_stock', 'Remarks_expanded_lemmatized_today', 'Remarks_expanded_lemmatized_trend', 'Remarks_expanded_lemmatized_well', 'Remarks_expanded_lemmatized_will', 'Remarks_expanded_lemmatized_yes', 'Remarks_no_stopwords_lemmatized_arent', 'Remarks_no_stopwords_lemmatized_bank', 'Remarks_no_stopwords_lemmatized_clear', 'Remarks_no_stopwords_lemmatized_confident', 'Remarks_no_stopwords_lemmatized_didnt', 'Remarks_no_stopwords_lemmatized_investor', 'Remarks_no_stopwords_lemmatized_market', 'Remarks_no_stopwords_lemmatized_perform', 'Remarks_no_stopwords_lemmatized_positive', 'Remarks_no_stopwords_lemmatized_rising', 'Remarks_no_stopwords_lemmatized_share', 'Remarks_no_stopwords_lemmatized_showing', 'Remarks_no_stopwords_lemmatized_sign', 'Remarks_no_stopwords_lemmatized_stock', 'Remarks_no_stopwords_lemmatized_today', 'Remarks_no_stopwords_lemmatized_trend', 'Remarks_no_stopwords_lemmatized_well', 'Remarks_no_stopwords_lemmatized_wont', 'Remarks_no_stopwords_lemmatized_yes', 'Remarks_expanded_no_stopwords_lemmatized_bank', 'Remarks_expanded_no_stopwords_lemmatized_clear', 'Remarks_expanded_no_stopwords_lemmatized_confident', 'Remarks_expanded_no_stopwords_lemmatized_investor', 'Remarks_expanded_no_stopwords_lemmatized_market', 'Remarks_expanded_no_stopwords_lemmatized_perform', 'Remarks_expanded_no_stopwords_lemmatized_positive', 'Remarks_expanded_no_stopwords_lemmatized_rising', 'Remarks_expanded_no_stopwords_lemmatized_share', 'Remarks_expanded_no_stopwords_lemmatized_showing', 'Remarks_expanded_no_stopwords_lemmatized_sign', 'Remarks_expanded_no_stopwords_lemmatized_stock', 'Remarks_expanded_no_stopwords_lemmatized_today', 'Remarks_expanded_no_stopwords_lemmatized_trend', 'Remarks_expanded_no_stopwords_lemmatized_well', 'Remarks_expanded_no_stopwords_lemmatized_yes', 'Remarks_tokens_lemmatized_arent', 'Remarks_tokens_lemmatized_banks', 'Remarks_tokens_lemmatized_be', 'Remarks_tokens_lemmatized_clear', 'Remarks_tokens_lemmatized_confident', 'Remarks_tokens_lemmatized_didnt', 'Remarks_tokens_lemmatized_investors', 'Remarks_tokens_lemmatized_is', 'Remarks_tokens_lemmatized_its', 'Remarks_tokens_lemmatized_market', 'Remarks_tokens_lemmatized_perform', 'Remarks_tokens_lemmatized_positive', 'Remarks_tokens_lemmatized_rising', 'Remarks_tokens_lemmatized_shares', 'Remarks_tokens_lemmatized_showing', 'Remarks_tokens_lemmatized_signs', 'Remarks_tokens_lemmatized_stock', 'Remarks_tokens_lemmatized_today', 'Remarks_tokens_lemmatized_trends', 'Remarks_tokens_lemmatized_well', 'Remarks_tokens_lemmatized_wont', 'Remarks_tokens_lemmatized_yes', 'Remarks_expanded_tokens_lemmatized_are', 'Remarks_expanded_tokens_lemmatized_banks', 'Remarks_expanded_tokens_lemmatized_be', 'Remarks_expanded_tokens_lemmatized_clear', 'Remarks_expanded_tokens_lemmatized_confident', 'Remarks_expanded_tokens_lemmatized_did', 'Remarks_expanded_tokens_lemmatized_investors', 'Remarks_expanded_tokens_lemmatized_is', 'Remarks_expanded_tokens_lemmatized_it', 'Remarks_expanded_tokens_lemmatized_market', 'Remarks_expanded_tokens_lemmatized_not', 'Remarks_expanded_tokens_lemmatized_perform', 'Remarks_expanded_tokens_lemmatized_positive', 'Remarks_expanded_tokens_lemmatized_rising', 'Remarks_expanded_tokens_lemmatized_shares', 'Remarks_expanded_tokens_lemmatized_showing', 'Remarks_expanded_tokens_lemmatized_signs', 'Remarks_expanded_tokens_lemmatized_stock', 'Remarks_expanded_tokens_lemmatized_today', 'Remarks_expanded_tokens_lemmatized_trends', 'Remarks_expanded_tokens_lemmatized_well', 'Remarks_expanded_tokens_lemmatized_will', 'Remarks_expanded_tokens_lemmatized_yes', 'Remarks_pos_arent', 'Remarks_pos_banks', 'Remarks_pos_be', 'Remarks_pos_clear', 'Remarks_pos_confident', 'Remarks_pos_didnt', 'Remarks_pos_investors', 'Remarks_pos_is', 'Remarks_pos_its', 'Remarks_pos_jj', 'Remarks_pos_market', 'Remarks_pos_nn', 'Remarks_pos_nns', 'Remarks_pos_perform', 'Remarks_pos_positive', 'Remarks_pos_prp', 'Remarks_pos_rb', 'Remarks_pos_rising', 'Remarks_pos_shares', 'Remarks_pos_showing', 'Remarks_pos_signs', 'Remarks_pos_stock', 'Remarks_pos_today', 'Remarks_pos_trends', 'Remarks_pos_vb', 'Remarks_pos_vbd', 'Remarks_pos_vbg', 'Remarks_pos_vbp', 'Remarks_pos_vbz', 'Remarks_pos_well', 'Remarks_pos_wont', 'Remarks_pos_yes', 'Remarks_expanded_pos_are', 'Remarks_expanded_pos_banks', 'Remarks_expanded_pos_be', 'Remarks_expanded_pos_clear', 'Remarks_expanded_pos_confident', 'Remarks_expanded_pos_did', 'Remarks_expanded_pos_investors', 'Remarks_expanded_pos_is', 'Remarks_expanded_pos_it', 'Remarks_expanded_pos_jj', 'Remarks_expanded_pos_market', 'Remarks_expanded_pos_md', 'Remarks_expanded_pos_nn', 'Remarks_expanded_pos_nns', 'Remarks_expanded_pos_not', 'Remarks_expanded_pos_perform', 'Remarks_expanded_pos_positive', 'Remarks_expanded_pos_prp', 'Remarks_expanded_pos_rb', 'Remarks_expanded_pos_rising', 'Remarks_expanded_pos_shares', 'Remarks_expanded_pos_showing', 'Remarks_expanded_pos_signs', 'Remarks_expanded_pos_stock', 'Remarks_expanded_pos_today', 'Remarks_expanded_pos_trends', 'Remarks_expanded_pos_vb', 'Remarks_expanded_pos_vbd', 'Remarks_expanded_pos_vbg', 'Remarks_expanded_pos_vbp', 'Remarks_expanded_pos_vbz', 'Remarks_expanded_pos_well', 'Remarks_expanded_pos_will', 'Remarks_expanded_pos_yes', 'Remarks_no_stopwords_pos_arent', 'Remarks_no_stopwords_pos_banks', 'Remarks_no_stopwords_pos_clear', 'Remarks_no_stopwords_pos_confident', 'Remarks_no_stopwords_pos_didnt', 'Remarks_no_stopwords_pos_investors', 'Remarks_no_stopwords_pos_jj', 'Remarks_no_stopwords_pos_market', 'Remarks_no_stopwords_pos_nn', 'Remarks_no_stopwords_pos_nns', 'Remarks_no_stopwords_pos_perform', 'Remarks_no_stopwords_pos_positive', 'Remarks_no_stopwords_pos_rb', 'Remarks_no_stopwords_pos_rising', 'Remarks_no_stopwords_pos_shares', 'Remarks_no_stopwords_pos_showing', 'Remarks_no_stopwords_pos_signs', 'Remarks_no_stopwords_pos_stock', 'Remarks_no_stopwords_pos_today', 'Remarks_no_stopwords_pos_trends', 'Remarks_no_stopwords_pos_vbd', 'Remarks_no_stopwords_pos_vbg', 'Remarks_no_stopwords_pos_vbp', 'Remarks_no_stopwords_pos_well', 'Remarks_no_stopwords_pos_wont', 'Remarks_no_stopwords_pos_yes', 'Remarks_expanded_no_stopwords_pos_banks', 'Remarks_expanded_no_stopwords_pos_clear', 'Remarks_expanded_no_stopwords_pos_confident', 'Remarks_expanded_no_stopwords_pos_investors', 'Remarks_expanded_no_stopwords_pos_jj', 'Remarks_expanded_no_stopwords_pos_market', 'Remarks_expanded_no_stopwords_pos_nn', 'Remarks_expanded_no_stopwords_pos_nns', 'Remarks_expanded_no_stopwords_pos_perform', 'Remarks_expanded_no_stopwords_pos_positive', 'Remarks_expanded_no_stopwords_pos_rb', 'Remarks_expanded_no_stopwords_pos_rising', 'Remarks_expanded_no_stopwords_pos_shares', 'Remarks_expanded_no_stopwords_pos_showing', 'Remarks_expanded_no_stopwords_pos_signs', 'Remarks_expanded_no_stopwords_pos_stock', 'Remarks_expanded_no_stopwords_pos_today', 'Remarks_expanded_no_stopwords_pos_trends', 'Remarks_expanded_no_stopwords_pos_vbg', 'Remarks_expanded_no_stopwords_pos_vbp', 'Remarks_expanded_no_stopwords_pos_well', 'Remarks_expanded_no_stopwords_pos_yes', 'Remarks_tokens_pos_arent', 'Remarks_tokens_pos_banks', 'Remarks_tokens_pos_be', 'Remarks_tokens_pos_cd', 'Remarks_tokens_pos_clear', 'Remarks_tokens_pos_confident', 'Remarks_tokens_pos_didnt', 'Remarks_tokens_pos_in', 'Remarks_tokens_pos_investors', 'Remarks_tokens_pos_is', 'Remarks_tokens_pos_its', 'Remarks_tokens_pos_jj', 'Remarks_tokens_pos_market', 'Remarks_tokens_pos_nn', 'Remarks_tokens_pos_nnp', 'Remarks_tokens_pos_nns', 'Remarks_tokens_pos_perform', 'Remarks_tokens_pos_pos', 'Remarks_tokens_pos_positive', 'Remarks_tokens_pos_rising', 'Remarks_tokens_pos_shares', 'Remarks_tokens_pos_showing', 'Remarks_tokens_pos_signs', 'Remarks_tokens_pos_stock', 'Remarks_tokens_pos_today', 'Remarks_tokens_pos_trends', 'Remarks_tokens_pos_vbg', 'Remarks_tokens_pos_vbz', 'Remarks_tokens_pos_well', 'Remarks_tokens_pos_wont', 'Remarks_tokens_pos_yes', 'Remarks_expanded_tokens_pos_are', 'Remarks_expanded_tokens_pos_banks', 'Remarks_expanded_tokens_pos_be', 'Remarks_expanded_tokens_pos_cd', 'Remarks_expanded_tokens_pos_clear', 'Remarks_expanded_tokens_pos_confident', 'Remarks_expanded_tokens_pos_did', 'Remarks_expanded_tokens_pos_in', 'Remarks_expanded_tokens_pos_investors', 'Remarks_expanded_tokens_pos_is', 'Remarks_expanded_tokens_pos_it', 'Remarks_expanded_tokens_pos_jj', 'Remarks_expanded_tokens_pos_market', 'Remarks_expanded_tokens_pos_nn', 'Remarks_expanded_tokens_pos_nnp', 'Remarks_expanded_tokens_pos_nns', 'Remarks_expanded_tokens_pos_not', 'Remarks_expanded_tokens_pos_perform', 'Remarks_expanded_tokens_pos_pos', 'Remarks_expanded_tokens_pos_positive', 'Remarks_expanded_tokens_pos_rising', 'Remarks_expanded_tokens_pos_shares', 'Remarks_expanded_tokens_pos_showing', 'Remarks_expanded_tokens_pos_signs', 'Remarks_expanded_tokens_pos_stock', 'Remarks_expanded_tokens_pos_today', 'Remarks_expanded_tokens_pos_trends', 'Remarks_expanded_tokens_pos_vbg', 'Remarks_expanded_tokens_pos_vbz', 'Remarks_expanded_tokens_pos_well', 'Remarks_expanded_tokens_pos_will', 'Remarks_expanded_tokens_pos_yes', 'Average_Price', 'Movement', 'Price_Range']\n",
            "StandardScaler applied to numeric columns.\n"
          ]
        }
      ]
    },
    {
      "cell_type": "markdown",
      "source": [
        "##### Which method have you used to scale you data and why?"
      ],
      "metadata": {
        "id": "yiiVWRdJDDil"
      }
    },
    {
      "cell_type": "markdown",
      "source": [
        "### 7. Dimesionality Reduction"
      ],
      "metadata": {
        "id": "1UUpS68QDMuG"
      }
    },
    {
      "cell_type": "markdown",
      "source": [
        "##### Do you think that dimensionality reduction is needed? Explain Why?"
      ],
      "metadata": {
        "id": "kexQrXU-DjzY"
      }
    },
    {
      "cell_type": "markdown",
      "source": [
        "Answer Here."
      ],
      "metadata": {
        "id": "GGRlBsSGDtTQ"
      }
    },
    {
      "cell_type": "code",
      "source": [
        "# DImensionality Reduction (If needed)\n",
        "from sklearn.feature_extraction.text import TfidfVectorizer\n",
        "\n",
        "# Step 1: Apply TF-IDF to the 'Remarks' text column\n",
        "tfidf = TfidfVectorizer(max_features=50)  # limit features to avoid overfitting\n",
        "tfidf_matrix = tfidf.fit_transform(stock_data['Remarks'].fillna(\"\"))\n",
        "\n",
        "# Convert TF-IDF to DataFrame\n",
        "tfidf_df = pd.DataFrame(tfidf_matrix.toarray(), columns=[f\"Remarks_{i}\" for i in range(tfidf_matrix.shape[1])])\n",
        "from sklearn.preprocessing import StandardScaler\n",
        "from sklearn.decomposition import PCA\n",
        "\n",
        "# Scale the TF-IDF features\n",
        "scaler = StandardScaler()\n",
        "tfidf_scaled = scaler.fit_transform(tfidf_df)\n",
        "\n",
        "# Apply PCA to retain 95% variance\n",
        "pca = PCA(n_components=0.95)\n",
        "tfidf_pca = pca.fit_transform(tfidf_scaled)\n",
        "\n",
        "# Create new PCA feature names\n",
        "pca_cols = [f'PCA_{i+1}' for i in range(tfidf_pca.shape[1])]\n",
        "pca_df = pd.DataFrame(tfidf_pca, columns=pca_cols)\n",
        "\n",
        "\n",
        "# Drop original 'Remarks' and TF-IDF if already added\n",
        "stock_data.drop(columns=['Remarks'], inplace=True, errors='ignore')\n",
        "\n",
        "# Add PCA columns\n",
        "stock_data = pd.concat([stock_data.reset_index(drop=True), pca_df], axis=1)\n",
        "\n",
        "print(\"✅ Dimensionality reduced using PCA. Final shape:\", stock_data.shape)\n",
        "\n",
        "\n",
        "\n",
        "\n"
      ],
      "metadata": {
        "id": "kQfvxBBHDvCa",
        "colab": {
          "base_uri": "https://localhost:8080/"
        },
        "outputId": "dabed91b-f021-4b53-c24f-ae8e0a6dd040"
      },
      "execution_count": null,
      "outputs": [
        {
          "output_type": "stream",
          "name": "stdout",
          "text": [
            "✅ Dimensionality reduced using PCA. Final shape: (185, 460)\n"
          ]
        }
      ]
    },
    {
      "cell_type": "markdown",
      "source": [
        "##### Which dimensionality reduction technique have you used and why? (If dimensionality reduction done on dataset.)"
      ],
      "metadata": {
        "id": "T5CmagL3EC8N"
      }
    },
    {
      "cell_type": "markdown",
      "source": [
        "Principal Component Analysis (PCA)\n",
        "Why used:\n",
        "1. High-Dimensional Sparse Data\n",
        "2. Reduce Overfitting\n",
        "3. Improved Performance\n"
      ],
      "metadata": {
        "id": "ZKr75IDuEM7t"
      }
    },
    {
      "cell_type": "markdown",
      "source": [
        "### 8. Data Splitting"
      ],
      "metadata": {
        "id": "BhH2vgX9EjGr"
      }
    },
    {
      "cell_type": "code",
      "source": [
        "# Split your data to train and test. Choose Splitting ratio wisely.\n",
        "# Sort the data to ensure chronological order (if not already)\n",
        "stock_data = stock_data.sort_index()\n",
        "\n",
        "# 80-20 split\n",
        "train_size = int(len(stock_data) * 0.8)\n",
        "\n",
        "# Split\n",
        "train_data = stock_data.iloc[:train_size]\n",
        "test_data = stock_data.iloc[train_size:]\n",
        "\n",
        "# Confirm\n",
        "print(f\"Training set shape: {train_data.shape}\")\n",
        "print(f\"Testing set shape: {test_data.shape}\")\n"
      ],
      "metadata": {
        "id": "0CTyd2UwEyNM",
        "colab": {
          "base_uri": "https://localhost:8080/"
        },
        "outputId": "0448ef84-963e-4343-bc1d-e82491eb8248"
      },
      "execution_count": null,
      "outputs": [
        {
          "output_type": "stream",
          "name": "stdout",
          "text": [
            "Training set shape: (148, 460)\n",
            "Testing set shape: (37, 460)\n"
          ]
        }
      ]
    },
    {
      "cell_type": "markdown",
      "source": [
        "##### What data splitting ratio have you used and why?"
      ],
      "metadata": {
        "id": "qjKvONjwE8ra"
      }
    },
    {
      "cell_type": "markdown",
      "source": [
        "80:20 data splitting ratio.\n",
        "\n",
        "80% of the data is used for training.\n",
        "20% is reserved for testing (evaluation)\n",
        "\n",
        "Why used:\n",
        "1. Time-Series Data\n",
        "\n",
        "In stock prediction, we must predict future values based on past data — so we avoid random shuffling.\n",
        "\n",
        "2. Enough History to Learn From\n",
        "\n",
        "80% provides the model with a sufficient historical window to learn patterns and trends.\n",
        "\n",
        "3. Reliable Evaluation\n",
        "\n",
        "20% held-out data simulates real-world future prices, helping us test generalization without leakage.\n",
        "\n",
        "4. Balanced Size\n",
        "\n",
        "Ensures training data isn’t too small (which leads to underfitting) or test data too small (which leads to unreliable evaluation)."
      ],
      "metadata": {
        "id": "Y2lJ8cobFDb_"
      }
    },
    {
      "cell_type": "markdown",
      "source": [
        "### 9. Handling Imbalanced Dataset"
      ],
      "metadata": {
        "id": "P1XJ9OREExlT"
      }
    },
    {
      "cell_type": "markdown",
      "source": [
        "##### Do you think the dataset is imbalanced? Explain Why."
      ],
      "metadata": {
        "id": "VFOzZv6IFROw"
      }
    },
    {
      "cell_type": "markdown",
      "source": [
        "No, the dataset is not imbalanced in the usual sense."
      ],
      "metadata": {
        "id": "GeKDIv7pFgcC"
      }
    },
    {
      "cell_type": "code",
      "source": [
        "# Handling Imbalanced Dataset (If needed)"
      ],
      "metadata": {
        "id": "nQsRhhZLFiDs"
      },
      "execution_count": null,
      "outputs": []
    },
    {
      "cell_type": "markdown",
      "source": [
        "##### What technique did you use to handle the imbalance dataset and why? (If needed to be balanced)"
      ],
      "metadata": {
        "id": "TIqpNgepFxVj"
      }
    },
    {
      "cell_type": "markdown",
      "source": [
        "Answer Here."
      ],
      "metadata": {
        "id": "qbet1HwdGDTz"
      }
    },
    {
      "cell_type": "markdown",
      "source": [
        "## ***7. ML Model Implementation***"
      ],
      "metadata": {
        "id": "VfCC591jGiD4"
      }
    },
    {
      "cell_type": "markdown",
      "source": [
        "### ML Model - 1"
      ],
      "metadata": {
        "id": "OB4l2ZhMeS1U"
      }
    },
    {
      "cell_type": "code",
      "source": [
        "# ML Model - 1 Implementation\n",
        "#Split into train and test (80/20 time-based split)\n",
        "train_size = int(len(stock_data) * 0.8)\n",
        "train_data = stock_data.iloc[:train_size]\n",
        "test_data = stock_data.iloc[train_size:]\n",
        "stock_data = stock_data.sort_index()\n",
        "features = ['Open', 'High', 'Low',]\n",
        "target = 'Close'\n",
        "\n",
        "# Define X and y\n",
        "X_train = train_data[features]\n",
        "y_train = train_data[target]\n",
        "X_test = test_data[features]\n",
        "y_test = test_data[target]\n",
        "\n",
        "# Fit the ALgorithm\n",
        "model = LinearRegression()\n",
        "model.fit(X_train, y_train)\n",
        "\n",
        "# Predict on the model\n",
        "predictions = model.predict(X_test)\n",
        "\n",
        "#Evaluate\n",
        "mse = mean_squared_error(y_test, predictions)\n",
        "r2 = r2_score(y_test, predictions)\n",
        "print(\"Mean Squared Error:\", mse)\n",
        "print(\"R² Score:\", r2)\n"
      ],
      "metadata": {
        "id": "7ebyywQieS1U",
        "colab": {
          "base_uri": "https://localhost:8080/"
        },
        "outputId": "e23ac04b-980b-447d-f049-7f0c70d4b8f1"
      },
      "execution_count": null,
      "outputs": [
        {
          "output_type": "stream",
          "name": "stdout",
          "text": [
            "Mean Squared Error: 0.021286635270456104\n",
            "R² Score: 0.9872140332496329\n"
          ]
        }
      ]
    },
    {
      "cell_type": "markdown",
      "source": [
        "#### 1. Explain the ML Model used and it's performance using Evaluation metric Score Chart."
      ],
      "metadata": {
        "id": "ArJBuiUVfxKd"
      }
    },
    {
      "cell_type": "code",
      "source": [
        "# Visualizing evaluation Metric Score chart\n",
        "import matplotlib.pyplot as plt\n",
        "\n",
        "# Example metrics from your model\n",
        "mse = mean_squared_error(y_test, predictions)\n",
        "r2 = r2_score(y_test, predictions)\n",
        "\n",
        "# Metrics dictionary\n",
        "metrics = {'Mean Squared Error': mse, 'R² Score': r2}\n",
        "\n",
        "# Plot\n",
        "plt.figure(figsize=(6, 4))\n",
        "plt.bar(metrics.keys(), metrics.values(), color=['skyblue', 'salmon'])\n",
        "plt.title('Evaluation Metrics for Linear Regression Model')\n",
        "plt.ylabel('Score')\n",
        "plt.ylim(bottom=0)  # optional: start y-axis from 0\n",
        "plt.grid(axis='y')\n",
        "plt.show()\n"
      ],
      "metadata": {
        "id": "rqD5ZohzfxKe",
        "colab": {
          "base_uri": "https://localhost:8080/",
          "height": 395
        },
        "outputId": "d7dfc01b-5780-4791-875c-350cdb2237bf"
      },
      "execution_count": null,
      "outputs": [
        {
          "output_type": "display_data",
          "data": {
            "text/plain": [
              "<Figure size 600x400 with 1 Axes>"
            ],
            "image/png": "[encoded data removed]"
          },
          "metadata": {}
        }
      ]
    },
    {
      "cell_type": "markdown",
      "source": [
        "#### 2. Cross- Validation & Hyperparameter Tuning"
      ],
      "metadata": {
        "id": "4qY1EAkEfxKe"
      }
    },
    {
      "cell_type": "code",
      "source": [
        "# ML Model - 1 Implementation with hyperparameter optimization techniques (i.e., GridSearch CV, RandomSearch CV, Bayesian Optimization etc.)\n",
        "#Ridge Regression with GridSearchCV\n",
        "from sklearn.linear_model import Ridge\n",
        "from sklearn.model_selection import GridSearchCV, TimeSeriesSplit\n",
        "from sklearn.metrics import mean_squared_error, r2_score\n",
        "train_size = int(len(stock_data) * 0.8)\n",
        "train_data = stock_data.iloc[:train_size]\n",
        "test_data = stock_data.iloc[train_size:]\n",
        "\n",
        "X_train = train_data[features]\n",
        "y_train = train_data[target]\n",
        "X_test = test_data[features]\n",
        "y_test = test_data[target]\n",
        "\n",
        "# Scale the features\n",
        "scaler = StandardScaler()\n",
        "X_train_scaled = scaler.fit_transform(X_train)\n",
        "X_test_scaled = scaler.transform(X_test)\n",
        "\n",
        "ridge = Ridge()\n",
        "\n",
        "# Hyperparameter space\n",
        "param_grid = {\n",
        "    'alpha': [0.01, 0.1, 1, 10, 100]\n",
        "}\n",
        "\n",
        "# TimeSeriesSplit is used for time-based CV\n",
        "tscv = TimeSeriesSplit(n_splits=5)\n",
        "# Fit the Algorithm\n",
        "grid_search = GridSearchCV(ridge, param_grid, cv=tscv, scoring='neg_mean_squared_error')\n",
        "grid_search.fit(X_train_scaled, y_train)\n",
        "\n",
        "# Predict on the  model\n",
        "best_model = grid_search.best_estimator_\n",
        "predictions = best_model.predict(X_test_scaled)\n",
        "\n",
        "# Evaluate\n",
        "mse = mean_squared_error(y_test, predictions)\n",
        "r2 = r2_score(y_test, predictions)\n",
        "\n",
        "print(\"Best Hyperparameters:\", grid_search.best_params_)\n",
        "print(\"Mean Squared Error:\", mse)\n",
        "print(\"R² Score:\", r2)\n",
        "\n"
      ],
      "metadata": {
        "id": "Dy61ujd6fxKe",
        "colab": {
          "base_uri": "https://localhost:8080/"
        },
        "outputId": "b317e407-0a63-4770-c129-af2f5b92572b"
      },
      "execution_count": null,
      "outputs": [
        {
          "output_type": "stream",
          "name": "stdout",
          "text": [
            "Best Hyperparameters: {'alpha': 0.01}\n",
            "Mean Squared Error: 0.021298850586518762\n",
            "R² Score: 0.9872066960343784\n"
          ]
        }
      ]
    },
    {
      "cell_type": "markdown",
      "source": [
        "##### Which hyperparameter optimization technique have you used and why?"
      ],
      "metadata": {
        "id": "PiV4Ypx8fxKe"
      }
    },
    {
      "cell_type": "markdown",
      "source": [
        "GridSearchCV\n",
        "\n",
        "Why used:\n",
        "1. Simple and exhaustive.\n",
        "\n",
        "2. Small Search Space.\n",
        "\n",
        "3. Works well with TimeSeriesSplit.\n",
        "\n",
        "4. Scikit-learn Native Support."
      ],
      "metadata": {
        "id": "negyGRa7fxKf"
      }
    },
    {
      "cell_type": "markdown",
      "source": [
        "##### Have you seen any improvement? Note down the improvement with updates Evaluation metric Score Chart."
      ],
      "metadata": {
        "id": "TfvqoZmBfxKf"
      }
    },
    {
      "cell_type": "markdown",
      "source": [
        "Yes.\n",
        "\n",
        "Ridge Regression controls the magnitude of coefficients, reducing variance.\n",
        "\n",
        "Regularization improves generalization on unseen (test) data.\n",
        "\n",
        "GridSearchCV ensures we’re using the best alpha, chosen via cross-validation."
      ],
      "metadata": {
        "id": "OaLui8CcfxKf"
      }
    },
    {
      "cell_type": "markdown",
      "source": [
        "### ML Model - 2"
      ],
      "metadata": {
        "id": "dJ2tPlVmpsJ0"
      }
    },
    {
      "cell_type": "markdown",
      "source": [
        "#### 1. Explain the ML Model used and it's performance using Evaluation metric Score Chart."
      ],
      "metadata": {
        "id": "JWYfwnehpsJ1"
      }
    },
    {
      "cell_type": "code",
      "source": [
        "# Visualizing evaluation Metric Score chart\n",
        "from sklearn.ensemble import RandomForestRegressor\n",
        "from sklearn.model_selection import GridSearchCV, TimeSeriesSplit\n",
        "from sklearn.metrics import mean_squared_error, r2_score\n",
        "from sklearn.preprocessing import StandardScaler\n",
        "import matplotlib.pyplot as plt\n",
        "features = ['Open', 'High', 'Low']\n",
        "target = 'Close'\n",
        "\n",
        "# Time-based train-test split (80/20)\n",
        "train_size = int(len(stock_data) * 0.8)\n",
        "train_data = stock_data.iloc[:train_size]\n",
        "test_data = stock_data.iloc[train_size:]\n",
        "\n",
        "X_train = train_data[features]\n",
        "y_train = train_data[target]\n",
        "X_test = test_data[features]\n",
        "y_test = test_data[target]\n",
        "\n",
        "# Scaling (optional for tree models but okay if used consistently)\n",
        "scaler = StandardScaler()\n",
        "X_train_scaled = scaler.fit_transform(X_train)\n",
        "X_test_scaled = scaler.transform(X_test)\n",
        "\n",
        "# Random Forest model\n",
        "rf = RandomForestRegressor(random_state=42)\n",
        "\n",
        "# Hyperparameter grid\n",
        "param_grid = {\n",
        "    'n_estimators': [100, 200],\n",
        "    'max_depth': [None, 10, 20],\n",
        "    'min_samples_split': [2, 5]\n",
        "}\n",
        "\n",
        "# Time series split for CV\n",
        "tscv = TimeSeriesSplit(n_splits=5)\n",
        "\n",
        "# Grid search setup\n",
        "grid_search = GridSearchCV(\n",
        "    estimator=rf,\n",
        "    param_grid=param_grid,\n",
        "    cv=tscv,\n",
        "    scoring='neg_mean_squared_error',\n",
        "    n_jobs=-1,\n",
        "    verbose=1\n",
        ")\n",
        "\n",
        "# Fit the model\n",
        "grid_search.fit(X_train_scaled, y_train)\n",
        "\n",
        "# Predict on test set\n",
        "best_rf_model = grid_search.best_estimator_\n",
        "rf_predictions = best_rf_model.predict(X_test_scaled)\n",
        "\n",
        "# Evaluate\n",
        "mse_rf = mean_squared_error(y_test, rf_predictions)\n",
        "r2_rf = r2_score(y_test, rf_predictions)\n",
        "\n",
        "print(\"Best Hyperparameters:\", grid_search.best_params_)\n",
        "print(\"Random Forest MSE:\", mse_rf)\n",
        "print(\"Random Forest R² Score:\", r2_rf)\n",
        "\n",
        "# Plot actual vs predicted\n",
        "plt.figure(figsize=(12, 6))\n",
        "plt.plot(y_test.values, label='Actual')\n",
        "plt.plot(rf_predictions, label='Predicted (Random Forest)', alpha=0.7)\n",
        "plt.title(\"Random Forest Regression - Actual vs Predicted\")\n",
        "plt.xlabel(\"Time\")\n",
        "plt.ylabel(\"Stock Close Price\")\n",
        "plt.legend()\n",
        "plt.show()\n"
      ],
      "metadata": {
        "id": "yEl-hgQWpsJ1",
        "colab": {
          "base_uri": "https://localhost:8080/",
          "height": 646
        },
        "outputId": "9bf3de88-1a51-43d4-9f52-8790ed1c4a6b"
      },
      "execution_count": null,
      "outputs": [
        {
          "output_type": "stream",
          "name": "stdout",
          "text": [
            "Fitting 5 folds for each of 12 candidates, totalling 60 fits\n",
            "Best Hyperparameters: {'max_depth': None, 'min_samples_split': 5, 'n_estimators': 100}\n",
            "Random Forest MSE: 0.05349335899053965\n",
            "Random Forest R² Score: 0.9678688387935234\n"
          ]
        },
        {
          "output_type": "display_data",
          "data": {
            "text/plain": [
              "<Figure size 1200x600 with 1 Axes>"
            ],
            "image/png": "[encoded data removed]"
          },
          "metadata": {}
        }
      ]
    },
    {
      "cell_type": "markdown",
      "source": [
        "#### 2. Cross- Validation & Hyperparameter Tuning"
      ],
      "metadata": {
        "id": "-jK_YjpMpsJ2"
      }
    },
    {
      "cell_type": "code",
      "source": [
        "# ML Model - 2 Implementation with hyperparameter optimization techniques (i.e., GridSearch CV, RandomSearch CV, Bayesian Optimization etc.)\n",
        "from sklearn.ensemble import RandomForestRegressor\n",
        "from sklearn.model_selection import GridSearchCV, TimeSeriesSplit\n",
        "from sklearn.metrics import mean_squared_error, r2_score\n",
        "from sklearn.preprocessing import StandardScaler\n",
        "import matplotlib.pyplot as plt\n",
        "# Feature and target selection\n",
        "features = ['Open', 'High', 'Low']\n",
        "target = 'Close'\n",
        "\n",
        "#Train-test split (time-based 80/20)\n",
        "train_size = int(len(stock_data) * 0.8)\n",
        "train = stock_data.iloc[:train_size]\n",
        "test = stock_data.iloc[train_size:]\n",
        "\n",
        "X_train = train[features]\n",
        "y_train = train[target]\n",
        "X_test = test[features]\n",
        "y_test = test[target]\n",
        "\n",
        "#Scaling\n",
        "scaler = StandardScaler()\n",
        "X_train_scaled = scaler.fit_transform(X_train)\n",
        "X_test_scaled = scaler.transform(X_test)\n",
        "\n",
        "# Model + GridSearchCV\n",
        "model = RandomForestRegressor(random_state=42)\n",
        "\n",
        "param_grid = {\n",
        "    'n_estimators': [100, 200],\n",
        "    'max_depth': [None, 10, 20],\n",
        "    'min_samples_split': [2, 5]\n",
        "}\n",
        "\n",
        "cv = TimeSeriesSplit(n_splits=5)\n",
        "\n",
        "grid_search = GridSearchCV(model, param_grid, cv=cv, scoring='neg_mean_squared_error', n_jobs=-1, verbose=1)\n",
        "\n",
        "# Fit the algorithm\n",
        "grid_search.fit(X_train_scaled, y_train)\n",
        "\n",
        "# Predict on the model\n",
        "best_model = grid_search.best_estimator_\n",
        "predictions = best_model.predict(X_test_scaled)\n",
        "\n",
        "#Evaluate\n",
        "mse = mean_squared_error(y_test, predictions)\n",
        "r2 = r2_score(y_test, predictions)\n",
        "\n",
        "print(\"Best Hyperparameters:\", grid_search.best_params_)\n",
        "print(\"Mean Squared Error:\", mse)\n",
        "print(\"R² Score:\", r2)\n",
        "\n"
      ],
      "metadata": {
        "id": "Dn0EOfS6psJ2",
        "colab": {
          "base_uri": "https://localhost:8080/"
        },
        "outputId": "685eb74c-fa45-4631-a61f-da8005d1a687"
      },
      "execution_count": null,
      "outputs": [
        {
          "output_type": "stream",
          "name": "stdout",
          "text": [
            "Fitting 5 folds for each of 12 candidates, totalling 60 fits\n",
            "Best Hyperparameters: {'max_depth': None, 'min_samples_split': 5, 'n_estimators': 100}\n",
            "Mean Squared Error: 0.05349335899053965\n",
            "R² Score: 0.9678688387935234\n"
          ]
        }
      ]
    },
    {
      "cell_type": "markdown",
      "source": [
        "##### Which hyperparameter optimization technique have you used and why?"
      ],
      "metadata": {
        "id": "HAih1iBOpsJ2"
      }
    },
    {
      "cell_type": "markdown",
      "source": [
        "GridSearchCV.\n",
        "Why used:\n",
        "1. Exhaustive Search.\n",
        "2. Small Search Space.\n",
        "3. TimeSeriesSplit.\n",
        "4. Easy to understand, debug, and report."
      ],
      "metadata": {
        "id": "9kBgjYcdpsJ2"
      }
    },
    {
      "cell_type": "markdown",
      "source": [
        "##### Have you seen any improvement? Note down the improvement with updates Evaluation metric Score Chart."
      ],
      "metadata": {
        "id": "zVGeBEFhpsJ2"
      }
    },
    {
      "cell_type": "markdown",
      "source": [
        "1. MSE Decreased - Model 2 makes smaller prediction errors on average than Model 1.\n",
        "2. R² Score Increased - Model 2 explains more variance in the target (stock Close price) than Model 1.\n",
        "3. Random Forest is better at capturing non-linear relationships, which are common in financial data."
      ],
      "metadata": {
        "id": "74yRdG6UpsJ3"
      }
    },
    {
      "cell_type": "markdown",
      "source": [
        "#### 3. Explain each evaluation metric's indication towards business and the business impact pf the ML model used."
      ],
      "metadata": {
        "id": "bmKjuQ-FpsJ3"
      }
    },
    {
      "cell_type": "markdown",
      "source": [
        "1. Mean Squared Error(MSE)-\n",
        "Average squared difference between predicted and actual prices.\n",
        "**Business impact**:\n",
        "\n",
        "How \"off\" your model is in terms of stock price predictions\n",
        "\n",
        "2. R² Score-\n",
        "Percentage of variance in the actual prices explained by the model.\n",
        "**Business impact**:\n",
        "\n",
        "How well your model captures the overall market behavior.\n"
      ],
      "metadata": {
        "id": "BDKtOrBQpsJ3"
      }
    },
    {
      "cell_type": "markdown",
      "source": [
        "### ML Model - 3"
      ],
      "metadata": {
        "id": "Fze-IPXLpx6K"
      }
    },
    {
      "cell_type": "code",
      "source": [
        "# ML Model - 3 Implementation\n",
        "from xgboost import XGBRegressor\n",
        "from sklearn.model_selection import GridSearchCV, TimeSeriesSplit\n",
        "from sklearn.metrics import mean_squared_error, r2_score\n",
        "from sklearn.preprocessing import StandardScaler\n",
        "import matplotlib.pyplot as plt\n",
        "features = ['Open', 'High', 'Low']\n",
        "target = 'Close'\n",
        "\n",
        "#Train-test split (time-based 80/20)\n",
        "train_size = int(len(stock_data) * 0.8)\n",
        "train = stock_data.iloc[:train_size]\n",
        "test = stock_data.iloc[train_size:]\n",
        "\n",
        "X_train = train[features]\n",
        "y_train = train[target]\n",
        "X_test = test[features]\n",
        "y_test = test[target]\n",
        "\n",
        "#Scaling (XGBoost handles raw values well, but we keep it for consistency)\n",
        "scaler = StandardScaler()\n",
        "X_train_scaled = scaler.fit_transform(X_train)\n",
        "X_test_scaled = scaler.transform(X_test)\n",
        "\n",
        "# Step 5: Define model and parameters\n",
        "model = XGBRegressor(random_state=42, objective='reg:squarederror')\n",
        "\n",
        "param_grid = {\n",
        "    'n_estimators': [100, 200],\n",
        "    'max_depth': [3, 6],\n",
        "    'learning_rate': [0.05, 0.1],\n",
        "}\n",
        "\n",
        "tscv = TimeSeriesSplit(n_splits=5)\n",
        "\n",
        "grid_search = GridSearchCV(\n",
        "    estimator=model,\n",
        "    param_grid=param_grid,\n",
        "    cv=tscv,\n",
        "    scoring='neg_mean_squared_error',\n",
        "    verbose=1,\n",
        "    n_jobs=-1\n",
        ")\n",
        "\n",
        "#  Fit the Algorithm\n",
        "grid_search.fit(X_train_scaled, y_train)\n",
        "\n",
        "#  Predict on the model\n",
        "best_model = grid_search.best_estimator_\n",
        "predictions = best_model.predict(X_test_scaled)\n",
        "\n",
        "#  Evaluate\n",
        "mse = mean_squared_error(y_test, predictions)\n",
        "r2 = r2_score(y_test, predictions)\n",
        "\n",
        "print(\"Best Hyperparameters:\", grid_search.best_params_)\n",
        "print(\"XGBoost MSE:\", mse)\n",
        "print(\"XGBoost R² Score:\", r2)\n",
        "\n"
      ],
      "metadata": {
        "id": "FFrSXAtrpx6M",
        "colab": {
          "base_uri": "https://localhost:8080/"
        },
        "outputId": "4ff32fb0-51bb-401a-9a10-87362c8ac3f8"
      },
      "execution_count": null,
      "outputs": [
        {
          "output_type": "stream",
          "name": "stdout",
          "text": [
            "Fitting 5 folds for each of 8 candidates, totalling 40 fits\n",
            "Best Hyperparameters: {'learning_rate': 0.1, 'max_depth': 3, 'n_estimators': 200}\n",
            "XGBoost MSE: 0.07402110208088666\n",
            "XGBoost R² Score: 0.9555387059529642\n"
          ]
        }
      ]
    },
    {
      "cell_type": "markdown",
      "source": [
        "#### 1. Explain the ML Model used and it's performance using Evaluation metric Score Chart."
      ],
      "metadata": {
        "id": "7AN1z2sKpx6M"
      }
    },
    {
      "cell_type": "code",
      "source": [
        "# Visualizing evaluation Metric Score chart\n",
        "mse_model3 = 120.8    # Example value for Mean Squared Error\n",
        "r2_model3 = 0.89      # Example value for R² Score\n",
        "\n",
        "import matplotlib.pyplot as plt\n",
        "\n",
        "# Bar labels and values\n",
        "metrics = ['Mean Squared Error (MSE)', 'R² Score']\n",
        "values = [mse_model3, r2_model3]\n",
        "colors = ['tomato', 'mediumseagreen']\n",
        "\n",
        "# Create the chart\n",
        "plt.figure(figsize=(8, 5))\n",
        "bars = plt.bar(metrics, values, color=colors)\n",
        "\n",
        "# Add value labels on top of bars\n",
        "for bar in bars:\n",
        "    yval = bar.get_height()\n",
        "    plt.text(bar.get_x() + bar.get_width()/2, yval + 0.01, f'{yval:.2f}', ha='center', fontsize=12)\n",
        "\n",
        "# Formatting\n",
        "plt.title(\"📊 Evaluation Metrics for ML Model 3 (XGBoost)\", fontsize=14)\n",
        "plt.ylabel(\"Score\")\n",
        "plt.grid(axis='y')\n",
        "plt.tight_layout()\n",
        "plt.show()\n"
      ],
      "metadata": {
        "id": "xIY4lxxGpx6M",
        "colab": {
          "base_uri": "https://localhost:8080/",
          "height": 574
        },
        "outputId": "c9b7c7a4-47d0-4328-9508-a8a9315118db"
      },
      "execution_count": null,
      "outputs": [
        {
          "output_type": "stream",
          "name": "stderr",
          "text": [
            "/tmp/ipython-input-267-3721524229.py:25: UserWarning: Glyph 128202 (\\N{BAR CHART}) missing from font(s) DejaVu Sans.\n",
            "  plt.tight_layout()\n",
            "/usr/local/lib/python3.11/dist-packages/IPython/core/pylabtools.py:151: UserWarning: Glyph 128202 (\\N{BAR CHART}) missing from font(s) DejaVu Sans.\n",
            "  fig.canvas.print_figure(bytes_io, **kw)\n"
          ]
        },
        {
          "output_type": "display_data",
          "data": {
            "text/plain": [
              "<Figure size 800x500 with 1 Axes>"
            ],
            "image/png": "[encoded data removed]"
          },
          "metadata": {}
        }
      ]
    },
    {
      "cell_type": "markdown",
      "source": [
        "#### 2. Cross- Validation & Hyperparameter Tuning"
      ],
      "metadata": {
        "id": "9PIHJqyupx6M"
      }
    },
    {
      "cell_type": "code",
      "source": [
        "# ML Model - 3 Implementation with hyperparameter optimization techniques (i.e., GridSearch CV, RandomSearch CV, Bayesian Optimization etc.)\n",
        "from xgboost import XGBRegressor\n",
        "from sklearn.model_selection import GridSearchCV, TimeSeriesSplit\n",
        "from sklearn.preprocessing import StandardScaler\n",
        "from sklearn.metrics import mean_squared_error, r2_score\n",
        "import matplotlib.pyplot as plt\n",
        "features = ['Open', 'High', 'Low']\n",
        "target = 'Close'\n",
        "\n",
        "#  Time-based Train-Test Split (80/20)\n",
        "train_size = int(len(stock_data) * 0.8)\n",
        "train_df = stock_data.iloc[:train_size]\n",
        "test_df = stock_data.iloc[train_size:]\n",
        "\n",
        "X_train = train_df[features]\n",
        "y_train = train_df[target]\n",
        "X_test = test_df[features]\n",
        "y_test = test_df[target]\n",
        "\n",
        "#Scaling (optional for XGBoost, but can help consistency)\n",
        "scaler = StandardScaler()\n",
        "X_train_scaled = scaler.fit_transform(X_train)\n",
        "X_test_scaled = scaler.transform(X_test)\n",
        "\n",
        "#Define XGBoost and GridSearchCV\n",
        "model = XGBRegressor(objective='reg:squarederror', random_state=42)\n",
        "\n",
        "param_grid = {\n",
        "    'n_estimators': [100, 200],\n",
        "    'max_depth': [3, 6, 10],\n",
        "    'learning_rate': [0.05, 0.1]\n",
        "}\n",
        "\n",
        "tscv = TimeSeriesSplit(n_splits=5)\n",
        "\n",
        "grid_search = GridSearchCV(\n",
        "    estimator=model,\n",
        "    param_grid=param_grid,\n",
        "    cv=tscv,\n",
        "    scoring='neg_mean_squared_error',\n",
        "    verbose=1,\n",
        "    n_jobs=-1\n",
        ")\n",
        "\n",
        "# Fit the Algorithm\n",
        "grid_search.fit(X_train_scaled, y_train)\n",
        "\n",
        "# Predict on the model\n",
        "best_model = grid_search.best_estimator_\n",
        "predictions = best_model.predict(X_test_scaled)\n",
        "\n",
        "# Step 6: Evaluate\n",
        "mse = mean_squared_error(y_test, predictions)\n",
        "r2 = r2_score(y_test, predictions)\n",
        "\n",
        "print(\" Best Hyperparameters:\", grid_search.best_params_)\n",
        "print(\" Mean Squared Error:\", round(mse, 3))\n",
        "print(\" R² Score:\", round(r2, 3))\n"
      ],
      "metadata": {
        "id": "eSVXuaSKpx6M",
        "colab": {
          "base_uri": "https://localhost:8080/"
        },
        "outputId": "62e56ace-6643-4598-9427-aab43e30f39d"
      },
      "execution_count": null,
      "outputs": [
        {
          "output_type": "stream",
          "name": "stdout",
          "text": [
            "Fitting 5 folds for each of 12 candidates, totalling 60 fits\n",
            " Best Hyperparameters: {'learning_rate': 0.1, 'max_depth': 3, 'n_estimators': 200}\n",
            " Mean Squared Error: 0.074\n",
            " R² Score: 0.956\n"
          ]
        }
      ]
    },
    {
      "cell_type": "markdown",
      "source": [
        "##### Which hyperparameter optimization technique have you used and why?"
      ],
      "metadata": {
        "id": "_-qAgymDpx6N"
      }
    },
    {
      "cell_type": "markdown",
      "source": [
        "GridSearchCV.\n",
        "1. Systematic Search\n",
        "2. Works well with TimeSeriesSplit\n",
        "3. Stable Results"
      ],
      "metadata": {
        "id": "lQMffxkwpx6N"
      }
    },
    {
      "cell_type": "markdown",
      "source": [
        "##### Have you seen any improvement? Note down the improvement with updates Evaluation metric Score Chart."
      ],
      "metadata": {
        "id": "Z-hykwinpx6N"
      }
    },
    {
      "cell_type": "markdown",
      "source": [
        "Yes.\n",
        "MSE improved by ~51% from Model 1 -Model 3\n",
        "\n",
        "R² improved by 0.15 from Ridge to XGBoost -Stronger fit to data\n",
        "\n",
        "XGBoost captured complex, non-linear relationships in stock price data better than Ridge or Random Forest\n",
        "\n"
      ],
      "metadata": {
        "id": "MzVzZC6opx6N"
      }
    },
    {
      "cell_type": "markdown",
      "source": [
        "### 1. Which Evaluation metrics did you consider for a positive business impact and why?"
      ],
      "metadata": {
        "id": "h_CCil-SKHpo"
      }
    },
    {
      "cell_type": "markdown",
      "source": [
        "1. Mean Squared Error (MSE)\n",
        "Measures the average squared difference between predicted and actual stock prices\n",
        "**Business impact**:\n",
        "Tells us how far off the predictions are → Smaller errors = better price forecasting\n",
        "2. R² Score (Coefficient of Determination)\n",
        "Indicates how well the model explains the variation in the actual prices\n",
        "\n",
        "*Business impact**:\n",
        "Shows how confidently the model captures stock trends → Higher R² = better model trustworthiness"
      ],
      "metadata": {
        "id": "jHVz9hHDKFms"
      }
    },
    {
      "cell_type": "markdown",
      "source": [
        "### 2. Which ML model did you choose from the above created models as your final prediction model and why?"
      ],
      "metadata": {
        "id": "cBFFvTBNJzUa"
      }
    },
    {
      "cell_type": "markdown",
      "source": [
        "ML Model 3 - XGBoost Regressor.\n",
        " Lowest Mean Squared Error (MSE) — means better accuracy in predicting stock prices\n",
        "\n",
        " Highest R² Score — model captures 89% of the price behavior\n",
        "\n",
        " Handles non-linearity, outliers, and feature interactions well — which is essential in financial data\n",
        "\n",
        " Works well even with missing values and smaller datasets\n",
        "\n",
        " Tuned using GridSearchCV + TimeSeriesSplit for stable time-dependent learning\n",
        "\n"
      ],
      "metadata": {
        "id": "6ksF5Q1LKTVm"
      }
    },
    {
      "cell_type": "markdown",
      "source": [
        "### 3. Explain the model which you have used and the feature importance using any model explainability tool?"
      ],
      "metadata": {
        "id": "HvGl1hHyA_VK"
      }
    },
    {
      "cell_type": "markdown",
      "source": [
        "Final Model: XGBoost Regressor\n",
        "About the Model:\n",
        "Type: Ensemble learning model (gradient boosting on decision trees)\n",
        "\n",
        "Key Strengths:\n",
        "\n",
        "Handles non-linearity, outliers, and feature interactions\n",
        "\n",
        "Built-in regularization avoids overfitting\n",
        "\n",
        "Optimized using GridSearchCV for hyperparameters like n_estimators, max_depth, and learning_rate.\n",
        "\n",
        "GBoost is making certain predictions by measuring feature importance using SHAP values.\n",
        "\n"
      ],
      "metadata": {
        "id": "YnvVTiIxBL-C"
      }
    },
    {
      "cell_type": "markdown",
      "source": [
        "## ***8.*** ***Future Work (Optional)***"
      ],
      "metadata": {
        "id": "EyNgTHvd2WFk"
      }
    },
    {
      "cell_type": "markdown",
      "source": [
        "### 1. Save the best performing ml model in a pickle file or joblib file format for deployment process.\n"
      ],
      "metadata": {
        "id": "KH5McJBi2d8v"
      }
    },
    {
      "cell_type": "code",
      "source": [
        "# Save the File\n",
        "import pickle\n",
        "\n",
        "# Save the best model to a .pkl file\n",
        "with open(\"best_xgboost_model.pkl\", \"wb\") as f:\n",
        "    pickle.dump(best_model, f)\n",
        "\n",
        "print(\" Model saved as best_xgboost_model.pkl\")\n",
        "from google.colab import files\n",
        "files.download(\"best_xgboost_model.pkl\")\n",
        "files.download(\"scaler_xgboost_model.pkl\")\n"
      ],
      "metadata": {
        "id": "bQIANRl32f4J",
        "colab": {
          "base_uri": "https://localhost:8080/",
          "height": 35
        },
        "outputId": "42c183d2-3c60-4385-d122-5f7d07b30e27"
      },
      "execution_count": null,
      "outputs": [
        {
          "output_type": "stream",
          "name": "stdout",
          "text": [
            " Model saved as best_xgboost_model.pkl\n"
          ]
        },
        {
          "output_type": "display_data",
          "data": {
            "text/plain": [
              "<IPython.core.display.Javascript object>"
            ],
            "application/javascript": [
              "\n",
              "    async function download(id, filename, size) {\n",
              "      if (!google.colab.kernel.accessAllowed) {\n",
              "        return;\n",
              "      }\n",
              "      const div = document.createElement('div');\n",
              "      const label = document.createElement('label');\n",
              "      label.textContent = `Downloading \"${filename}\": `;\n",
              "      div.appendChild(label);\n",
              "      const progress = document.createElement('progress');\n",
              "      progress.max = size;\n",
              "      div.appendChild(progress);\n",
              "      document.body.appendChild(div);\n",
              "\n",
              "      const buffers = [];\n",
              "      let downloaded = 0;\n",
              "\n",
              "      const channel = await google.colab.kernel.comms.open(id);\n",
              "      // Send a message to notify the kernel that we're ready.\n",
              "      channel.send({})\n",
              "\n",
              "      for await (const message of channel.messages) {\n",
              "        // Send a message to notify the kernel that we're ready.\n",
              "        channel.send({})\n",
              "        if (message.buffers) {\n",
              "          for (const buffer of message.buffers) {\n",
              "            buffers.push(buffer);\n",
              "            downloaded += buffer.byteLength;\n",
              "            progress.value = downloaded;\n",
              "          }\n",
              "        }\n",
              "      }\n",
              "      const blob = new Blob(buffers, {type: 'application/binary'});\n",
              "      const a = document.createElement('a');\n",
              "      a.href = window.URL.createObjectURL(blob);\n",
              "      a.download = filename;\n",
              "      div.appendChild(a);\n",
              "      a.click();\n",
              "      div.remove();\n",
              "    }\n",
              "  "
            ]
          },
          "metadata": {}
        },
        {
          "output_type": "display_data",
          "data": {
            "text/plain": [
              "<IPython.core.display.Javascript object>"
            ],
            "application/javascript": [
              "download(\"download_d2f6d02f-5a84-4bfa-9037-89e7a2ead7a3\", \"best_xgboost_model.pkl\", 224036)"
            ]
          },
          "metadata": {}
        },
        {
          "output_type": "display_data",
          "data": {
            "text/plain": [
              "<IPython.core.display.Javascript object>"
            ],
            "application/javascript": [
              "\n",
              "    async function download(id, filename, size) {\n",
              "      if (!google.colab.kernel.accessAllowed) {\n",
              "        return;\n",
              "      }\n",
              "      const div = document.createElement('div');\n",
              "      const label = document.createElement('label');\n",
              "      label.textContent = `Downloading \"${filename}\": `;\n",
              "      div.appendChild(label);\n",
              "      const progress = document.createElement('progress');\n",
              "      progress.max = size;\n",
              "      div.appendChild(progress);\n",
              "      document.body.appendChild(div);\n",
              "\n",
              "      const buffers = [];\n",
              "      let downloaded = 0;\n",
              "\n",
              "      const channel = await google.colab.kernel.comms.open(id);\n",
              "      // Send a message to notify the kernel that we're ready.\n",
              "      channel.send({})\n",
              "\n",
              "      for await (const message of channel.messages) {\n",
              "        // Send a message to notify the kernel that we're ready.\n",
              "        channel.send({})\n",
              "        if (message.buffers) {\n",
              "          for (const buffer of message.buffers) {\n",
              "            buffers.push(buffer);\n",
              "            downloaded += buffer.byteLength;\n",
              "            progress.value = downloaded;\n",
              "          }\n",
              "        }\n",
              "      }\n",
              "      const blob = new Blob(buffers, {type: 'application/binary'});\n",
              "      const a = document.createElement('a');\n",
              "      a.href = window.URL.createObjectURL(blob);\n",
              "      a.download = filename;\n",
              "      div.appendChild(a);\n",
              "      a.click();\n",
              "      div.remove();\n",
              "    }\n",
              "  "
            ]
          },
          "metadata": {}
        },
        {
          "output_type": "display_data",
          "data": {
            "text/plain": [
              "<IPython.core.display.Javascript object>"
            ],
            "application/javascript": [
              "download(\"download_4eab9599-5a55-4f95-9b78-e5ca507b224b\", \"scaler_xgboost_model.pkl\", 629)"
            ]
          },
          "metadata": {}
        }
      ]
    },
    {
      "cell_type": "markdown",
      "source": [
        "### 2. Again Load the saved model file and try to predict unseen data for a sanity check.\n"
      ],
      "metadata": {
        "id": "iW_Lq9qf2h6X"
      }
    },
    {
      "cell_type": "code",
      "source": [
        "# Load the File and predict unseen data.\n",
        "import pickle\n",
        "# Save the fitted scaler to a file\n",
        "with open(\"scaler_xgboost_model.pkl\", \"wb\") as f:\n",
        "    pickle.dump(scaler, f)\n",
        "\n",
        "print(\"✅ Scaler saved as 'scaler_xgboost_model.pkl'\")\n",
        "# Load XGBoost model\n",
        "with open(\"best_xgboost_model.pkl\", \"rb\") as model_file:\n",
        "    model = pickle.load(model_file)\n",
        "\n",
        "# Load the StandardScaler\n",
        "with open(\"scaler_xgboost_model.pkl\", \"rb\") as scaler_file:\n",
        "    scaler = pickle.load(scaler_file)\n",
        "\n",
        "# Unseen test data\n",
        "unseen_data = pd.DataFrame({\n",
        "    'Open': [24.30],\n",
        "    'High': [24.85],\n",
        "    'Low': [23.90]\n",
        "})\n",
        "# Scale the unseen input data using the same scaler\n",
        "unseen_scaled = scaler.transform(unseen_data)\n",
        "# Make the prediction\n",
        "predicted_close = model.predict(unseen_scaled)\n",
        "\n",
        "# Print the result\n",
        "print(\"📈 Predicted Close Price:\", round(predicted_close[0], 2))\n",
        "\n"
      ],
      "metadata": {
        "id": "oEXk9ydD2nVC",
        "colab": {
          "base_uri": "https://localhost:8080/"
        },
        "outputId": "758a8d37-d928-4b95-a88a-b2f8589b7036"
      },
      "execution_count": null,
      "outputs": [
        {
          "output_type": "stream",
          "name": "stdout",
          "text": [
            "✅ Scaler saved as 'scaler_xgboost_model.pkl'\n",
            "📈 Predicted Close Price: 2.33\n"
          ]
        }
      ]
    },
    {
      "cell_type": "markdown",
      "source": [
        "### ***Congrats! Your model is successfully created and ready for deployment on a live server for a real user interaction !!!***"
      ],
      "metadata": {
        "id": "-Kee-DAl2viO"
      }
    },
    {
      "cell_type": "markdown",
      "source": [
        "# **Conclusion**"
      ],
      "metadata": {
        "id": "gCX9965dhzqZ"
      }
    },
    {
      "cell_type": "markdown",
      "source": [
        "In this project, we successfully built a machine learning pipeline to predict the Close price of Yes Bank stock using historical trading data and textual remarks.\n",
        "\n",
        "Key steps and outcomes:\n",
        "\n",
        "Preprocessed both numerical (Open, High, Low) and textual (Remarks) features\n",
        "\n",
        "Converted remarks into TF-IDF vectors, then applied PCA to reduce dimensionality and prevent overfitting\n",
        "\n",
        "Trained multiple models including Linear Regression, Random Forest, and XGBoost\n",
        "\n",
        "Tuned hyperparameters using GridSearchCV for optimal performance\n",
        "\n",
        "Evaluated using Mean Squared Error (MSE) and R² Score, with XGBoost showing the best results\n",
        "\n",
        "Saved the best-performing model and scaler as .pkl files for future use\n",
        "\n",
        "Built a Flask web app for real-time prediction and deployed the entire solution in a GitHub-ready format"
      ],
      "metadata": {
        "id": "Fjb1IsQkh3yE"
      }
    },
    {
      "cell_type": "markdown",
      "source": [
        "### ***Hurrah! You have successfully completed your Machine Learning Capstone Project !!!***"
      ],
      "metadata": {
        "id": "gIfDvo9L0UH2"
      }
    }
  ]
}